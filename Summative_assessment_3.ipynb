{
  "cells": [
    {
      "cell_type": "markdown",
      "metadata": {
        "id": "view-in-github",
        "colab_type": "text"
      },
      "source": [
        "<a href=\"https://colab.research.google.com/github/bloup1/Ethics-III/blob/main/Summative_assessment_3.ipynb\" target=\"_parent\"><img src=\"https://colab.research.google.com/assets/colab-badge.svg\" alt=\"Open In Colab\"/></a>"
      ]
    },
    {
      "cell_type": "markdown",
      "id": "ebcece7d-5c48-46dd-812e-d7e8657657f5",
      "metadata": {
        "id": "ebcece7d-5c48-46dd-812e-d7e8657657f5"
      },
      "source": [
        "# Deep Learning\n",
        "## Summative assessment\n",
        "### Coursework 3"
      ]
    },
    {
      "cell_type": "markdown",
      "id": "c94cadc2-cddc-4df0-9c67-6afc65c8d873",
      "metadata": {
        "id": "c94cadc2-cddc-4df0-9c67-6afc65c8d873"
      },
      "source": [
        "#### Instructions\n",
        "\n",
        "This coursework is released on **Wednesday 20th March 9.00** and is due by **Wednesday 24th April 23.59**. It is worth **50%** of your overall mark. There are 4 questions in this assessment, and a total of 100 marks are available. **You should attempt to answer all questions.** In addition to the total number of marks per question below, an additional 5 marks is available for presentation and clarity/quality of code.\n",
        "\n",
        "This assessment assesses your ability to design, implement, train and evaluate a generative deep learning model for a spoken audio dataset.\n",
        "\n",
        "You can make imports as and when you need them throughout the notebook, and add code cells where necessary. Make sure your notebook executes correctly in sequence before submitting.\n",
        "\n",
        "#### Submission instructions\n",
        "\n",
        "The submission for this assessment will consist of a notebook (.ipynb file), PDF report and model submission.\n",
        "\n",
        "Ensure your notebook executes correctly in order. Save your notebook .ipynb file **after you have executed it** (so that outputs are all showing). It is recommended to also submit a PDF/HTML copy of your executed notebook, in case the .ipynb file is corrupted for some reason.\n",
        "\n",
        "Upload a zip file containing your notebook, separate PDF/HTML file(s), model(s) and any other relevant files to Coursera by the deadline above."
      ]
    },
    {
      "cell_type": "markdown",
      "id": "a7e01bed",
      "metadata": {
        "id": "a7e01bed"
      },
      "source": [
        "This assignment must be attempted individually; your submission must be your own, unaided work. Candidates are prohibited from discussing assessed coursework, and must abide by [Imperial College’s rules](https://www.imperial.ac.uk/media/imperial-college/administration-and-support-services/registry/academic-governance/public/academic-policy/academic-integrity/Examination-and-assessments---academic-integrity.pdf) regarding academic integrity and plagiarism. Unless specifically authorised within the assignment instructions, the submission of output from [generative AI tools](https://www.imperial.ac.uk/about/leadership-and-strategy/provost/vice-provost-education/generative-ai-tools-guidance/) (e.g., ChatGPT) for assessed coursework is prohibited. Violations will be treated as an examination offence. Enabling other candidates to plagiarise your work constitutes an examination offence. To ensure quality assurance is maintained, departments may choose to invite a random selection of students to an ‘authenticity interview’ on their submitted assessments."
      ]
    },
    {
      "cell_type": "code",
      "execution_count": 3,
      "id": "2e4e6f88",
      "metadata": {
        "id": "2e4e6f88"
      },
      "outputs": [],
      "source": [
        "! pip install pydub==0.25.1 -q"
      ]
    },
    {
      "cell_type": "code",
      "execution_count": 4,
      "id": "f7082edd",
      "metadata": {
        "id": "f7082edd"
      },
      "outputs": [],
      "source": [
        "import numpy as np\n",
        "import matplotlib.pyplot as plt\n",
        "import seaborn\n",
        "import pandas as pd\n",
        "import os\n",
        "from IPython.display import Audio, display\n",
        "\n",
        "import tensorflow as tf\n",
        "import tensorflow_datasets as tfds\n",
        "from tensorflow.keras.layers import Layer"
      ]
    },
    {
      "cell_type": "code",
      "source": [
        "import zipfile\n",
        "from google.colab import drive\n",
        "drive.mount('/content/drive/')\n",
        "\n",
        "zip_ref = zipfile.ZipFile(\"/content/drive/My Drive/Files.zip\", 'r')\n",
        "zip_ref.extractall(\"/cswk3\")\n",
        "zip_ref.close()"
      ],
      "metadata": {
        "colab": {
          "base_uri": "https://localhost:8080/"
        },
        "id": "xrLfpRX-mlQ7",
        "outputId": "60e729e3-396b-4d4a-f94d-b17b3504bce8"
      },
      "id": "xrLfpRX-mlQ7",
      "execution_count": 5,
      "outputs": [
        {
          "output_type": "stream",
          "name": "stdout",
          "text": [
            "Mounted at /content/drive/\n"
          ]
        }
      ]
    },
    {
      "cell_type": "code",
      "source": [
        "tf.config.list_physical_devices('GPU')"
      ],
      "metadata": {
        "colab": {
          "base_uri": "https://localhost:8080/"
        },
        "id": "X4yXGnwNnIRH",
        "outputId": "6aa2caa6-2737-4aab-f6b3-0da49c66551b"
      },
      "id": "X4yXGnwNnIRH",
      "execution_count": 6,
      "outputs": [
        {
          "output_type": "execute_result",
          "data": {
            "text/plain": [
              "[PhysicalDevice(name='/physical_device:GPU:0', device_type='GPU')]"
            ]
          },
          "metadata": {},
          "execution_count": 6
        }
      ]
    },
    {
      "cell_type": "markdown",
      "id": "18045b70-ccbc-42c2-88ad-53bd8d364e0f",
      "metadata": {
        "id": "18045b70-ccbc-42c2-88ad-53bd8d364e0f"
      },
      "source": [
        "#### The Free Spoken Digit Dataset (FSDD)\n",
        "\n",
        "This assessment makes use of the [Free Spoken Digit Dataset](https://github.com/Jakobovski/free-spoken-digit-dataset). This dataset consists of recordings of spoken digits by a number of different speakers, all recorded at a sample rate of 8kHz. The recordings are trimmed so that they have near minimal silence at the beginnings and ends.\n",
        "\n",
        "For this assessment, we will use the version of the dataset made available through TensorFlow Datasets ([https://www.tensorflow.org/datasets/catalog/spoken_digit](https://www.tensorflow.org/datasets/catalog/spoken_digit)).\n",
        "\n",
        "The dataset consists 2,500 recordings from 5 different speakers. Using the TensorFlow Datasets API, this dataset can be downloaded and stored directly in a Dataset object using the code below."
      ]
    },
    {
      "cell_type": "code",
      "execution_count": 7,
      "id": "a817005e",
      "metadata": {
        "id": "a817005e",
        "scrolled": true,
        "colab": {
          "base_uri": "https://localhost:8080/",
          "height": 182,
          "referenced_widgets": [
            "b407db45be234c4bb2e503c02255c11b",
            "eb6138e53a6b4984b2650901f9b2cbde",
            "7714b005c58a41e2a0d88df094425e25",
            "1a4d1ce6ba2d4b09a8e84cb1c5d4ef96",
            "044f47707e40472a916e26a9099cc6a5",
            "534c9a1c807d49739e0be7e0731fdfbe",
            "3c8020a40f094dc7bb58f8ffd06ab9d4",
            "57da1827613c45579a0f4c804492b739",
            "fe907b4190a144c6a7d2970e9474f608",
            "ee3feda2258248f281068d647eed711b",
            "6d12249bd5144423a87c8cad60d8c42b",
            "345f5b612cc641f59165144109368fd8",
            "bc17ad3d34454a26ab0e26611d42af4a",
            "8996cc16e84c465da9e1dffe6bfc45a4",
            "2217693d01724369906c57c7f5d4e465",
            "d979ddba0d484ddea27475bfc3715741",
            "7e63b57766d94498b5c892c0e24e711c",
            "c5c245ee57354232be942c5527a83b3c",
            "d3177faa4d7343508bf4b9016cba2de6",
            "90ee733c758c442ea6987d2586cbbf45",
            "9ece053f45c14132ab1a2b35a6771009",
            "d87777ea7c0d4eec8c896115549de216",
            "76eca3e20f6b45b9ad421ee2a6489bca",
            "a157fa6c1d5f4bc5a5dd8675bc5c8ffd",
            "7f163f2e1472495fae6d09e63bdfc9d5",
            "842c99e8333844a4ad5a7b6a928d6f2b",
            "37d257f39a87448d8ffe4f45010dbf6a",
            "121c0b429c4649649ed3da1751f3267b",
            "e48b47754763445899304d1bf93a8238",
            "a9eecd6d8f13443f93e253dcfad590f5",
            "ed4c05b3b17d486a85a4037053f1d89c",
            "5866d882eadc47fcbede00a25663179c",
            "4afb159cceea493fa1caed20e08fc140",
            "a252f9d3a6cc4404983cd65a044bd7a9",
            "0932275dff554e72a3776f46a8024b5e",
            "3a242fd816aa4241879eeb8521e09cce",
            "ebb935fc0a2240438e29f9eec05738d0",
            "34500a5d46b247e8a313086ba22edb9d",
            "9d54486388be43bcab4d205409d54b76",
            "5153cec390c34ac9a513a509a32c791c",
            "935c144c724544f483d8389ee34a2b1f",
            "f99f7646e1b8465a970773dffe13471f",
            "e7c932f2bc854467ba395626234d761e",
            "ff76822e918c40bdbd19856c08123208",
            "22332bf3732c4819b786cc8cad30a82b",
            "7dce7c40ae584b0b92a1b925d54f706c",
            "86611524f64142b18875bc4a871d4043",
            "ed8b29fb59c341af98c41e042e02b87a",
            "13f84e91b67744f69b1bbdba047093a6",
            "f3b05a04787b4953b530e7b664f3b681",
            "4b56dd971ce5415e9a7fb4aa0720beb2",
            "20973d9180eb418e8f2da11578773226",
            "d26e73c4dbae4f398d39b0e0476050d0",
            "0f6fcf82613e49908e1e0f4d52579dcb",
            "8bf21ceb95a04e39bf267349b2be862e",
            "438a0bca6948450c86ed09eb1e0e5b67",
            "71b9ad5d0afe4e4c8a6cc25e4738feef",
            "e7687d70c8864d7bb67873aaa2e8783a",
            "f3d0364e663740059d66c775c911bc29",
            "e288482916b44b12980bf2cf079df932",
            "bb44fd5ea65f429a8e8b443d8962bfd8",
            "518ae8e6e115408d8e28904bfc895a4d",
            "5c48fd1ff6c94c9fa9cdd919c91cf4aa",
            "c5418ffdc5654ead8aedaf384d448403",
            "31e2eb1ad4e04ef78e56c7cfd4c37085",
            "51053973478c4589a24d3064904e57c7"
          ]
        },
        "outputId": "5e3e42cf-b93c-45b3-987d-507f4539bb62"
      },
      "outputs": [
        {
          "output_type": "stream",
          "name": "stdout",
          "text": [
            "Downloading and preparing dataset 11.42 MiB (download: 11.42 MiB, generated: 45.68 MiB, total: 57.10 MiB) to data/spoken_digit/spoken_digit/1.0.9...\n"
          ]
        },
        {
          "output_type": "display_data",
          "data": {
            "text/plain": [
              "Dl Completed...: 0 url [00:00, ? url/s]"
            ],
            "application/vnd.jupyter.widget-view+json": {
              "version_major": 2,
              "version_minor": 0,
              "model_id": "b407db45be234c4bb2e503c02255c11b"
            }
          },
          "metadata": {}
        },
        {
          "output_type": "display_data",
          "data": {
            "text/plain": [
              "Dl Size...: 0 MiB [00:00, ? MiB/s]"
            ],
            "application/vnd.jupyter.widget-view+json": {
              "version_major": 2,
              "version_minor": 0,
              "model_id": "345f5b612cc641f59165144109368fd8"
            }
          },
          "metadata": {}
        },
        {
          "output_type": "display_data",
          "data": {
            "text/plain": [
              "Extraction completed...: 0 file [00:00, ? file/s]"
            ],
            "application/vnd.jupyter.widget-view+json": {
              "version_major": 2,
              "version_minor": 0,
              "model_id": "76eca3e20f6b45b9ad421ee2a6489bca"
            }
          },
          "metadata": {}
        },
        {
          "output_type": "display_data",
          "data": {
            "text/plain": [
              "Generating splits...:   0%|          | 0/1 [00:00<?, ? splits/s]"
            ],
            "application/vnd.jupyter.widget-view+json": {
              "version_major": 2,
              "version_minor": 0,
              "model_id": "a252f9d3a6cc4404983cd65a044bd7a9"
            }
          },
          "metadata": {}
        },
        {
          "output_type": "display_data",
          "data": {
            "text/plain": [
              "Generating train examples...:   0%|          | 0/2500 [00:00<?, ? examples/s]"
            ],
            "application/vnd.jupyter.widget-view+json": {
              "version_major": 2,
              "version_minor": 0,
              "model_id": "22332bf3732c4819b786cc8cad30a82b"
            }
          },
          "metadata": {}
        },
        {
          "output_type": "display_data",
          "data": {
            "text/plain": [
              "Shuffling data/spoken_digit/spoken_digit/1.0.9.incomplete3ACBQE/spoken_digit-train.tfrecord*...:   0%|        …"
            ],
            "application/vnd.jupyter.widget-view+json": {
              "version_major": 2,
              "version_minor": 0,
              "model_id": "438a0bca6948450c86ed09eb1e0e5b67"
            }
          },
          "metadata": {}
        },
        {
          "output_type": "stream",
          "name": "stderr",
          "text": [
            "WARNING:absl:`FeatureConnector.dtype` is deprecated. Please change your code to use NumPy with the field `FeatureConnector.np_dtype` or use TensorFlow with the field `FeatureConnector.tf_dtype`.\n",
            "WARNING:absl:You use TensorFlow DType <dtype: 'int64'> in tfds.features This will soon be deprecated in favor of NumPy DTypes. In the meantime it was converted to int64.\n"
          ]
        },
        {
          "output_type": "stream",
          "name": "stdout",
          "text": [
            "Dataset spoken_digit downloaded and prepared to data/spoken_digit/spoken_digit/1.0.9. Subsequent calls will reuse this data.\n"
          ]
        }
      ],
      "source": [
        "ds_train, ds_val, ds_test = tfds.load(\n",
        "    'spoken_digit',\n",
        "    split=['train[:60%]','train[60%:80%]','train[80%:]'],\n",
        "    data_dir=os.path.join( \"data\", \"spoken_digit\"),\n",
        "    shuffle_files=True\n",
        ")\n",
        "\n",
        "ds_whole = tfds.load(\n",
        "    'spoken_digit',\n",
        "    split='train',\n",
        "    data_dir=os.path.join(\"data\", \"spoken_digit\"),\n",
        "    shuffle_files=True\n",
        ")\n"
      ]
    },
    {
      "cell_type": "code",
      "execution_count": 8,
      "id": "919ca128",
      "metadata": {
        "colab": {
          "base_uri": "https://localhost:8080/"
        },
        "id": "919ca128",
        "outputId": "91f00456-5417-459c-d53d-c8508e0e9320"
      },
      "outputs": [
        {
          "output_type": "execute_result",
          "data": {
            "text/plain": [
              "{'audio': TensorSpec(shape=(None,), dtype=tf.int64, name=None),\n",
              " 'audio/filename': TensorSpec(shape=(), dtype=tf.string, name=None),\n",
              " 'label': TensorSpec(shape=(), dtype=tf.int64, name=None)}"
            ]
          },
          "metadata": {},
          "execution_count": 8
        }
      ],
      "source": [
        "ds_train.element_spec"
      ]
    },
    {
      "cell_type": "markdown",
      "id": "4717e528-49ef-47af-8bd5-abcad11456f5",
      "metadata": {
        "id": "4717e528-49ef-47af-8bd5-abcad11456f5"
      },
      "source": [
        "#### VQ-VAE\n",
        "\n",
        "The VQ-VAE was first developed in the following paper:\n",
        "\n",
        "* van den Oord, A., Vinyals, O. & Kavukcuoglu, K. (2017), \"Neural discrete representation learning\", _Proceedings of the 31st International Conference on Neural Information Processing Systems_, 6309-6318.\n",
        "\n",
        "In this assessment you will develop and train a vector-quantised variational autoencoder (VQ-VAE) model. This is a variant of the VAE algorithm that makes use of a discrete latent space. In particular, the VQ-VAE defines a _codebook_ $\\mathbf{e} \\in \\mathbb{R}^{K \\times D}$ for the latent embedding space, consisting of $K$ latent embedding vectors $e_i$ ($i=1,\\ldots,K$), each of dimension $D$. The algorithm involves training encoder and decoder networks as usual. However, for a given input $x$, the encoder output $E(x) \\in \\mathbb{R}^D$ is quantised to the nearest latent embedding vector:\n",
        "\n",
        "$$VQ(E(x)) = e_k,\\quad\\textrm{where }k = \\underset{j}{\\arg\\min}||E(x) - e_j||_2,$$\n",
        "\n",
        "where the $||\\cdot||_2$ norm above is the Euclidean norm in $\\mathbb{R}^D$. This quantized latent vector is then passed through the decoder to output the likelihood $p_\\theta(x \\mid z)$ as usual.\n",
        "\n",
        "The quantisation stage of the VQ-VAE means that it is not possible to compute gradients with respect to the encoder variables. The solution to this problem in the VQ-VAE is to use the _straight through estimator_, in which the gradients computed with respect to the quantised embeddings are simply passed unaltered to the encoder. This process means that the codebook embeddings $e_i$ do not receive any gradient updates (for details, refer to the implementation referenced in question 3, which makes this process explicit). The VQ-VAE objective therefore adds two additional terms to learn the codebook embeddings:\n",
        "\n",
        "$$\n",
        "L = \\mathbb{E}_{q_\\phi(z \\mid x)}[\\log p_\\theta(x \\mid z) ] + ||\\textrm{sg}[E(x)] - VQ(E(x))||^2_2 + \\beta || E(x) - \\textrm{sg}[VQ(E(x))]||_2^2\n",
        "$$\n",
        "\n",
        "In the above, $\\textrm{sg}$ is the _stop gradient_ operator that is defined as identity in the forward pass but has zero partial derivates (see [`tf.stop_gradient`](https://www.tensorflow.org/api_docs/python/tf/stop_gradient)). This means that when evaluating the loss function above, the stop gradient operator can be ignored, but when computing derivatives of the loss with respect to the model parameters, the partial derivatives of $\\textrm{sg}[E(x)]$ and $\\textrm{sg}[VQ(E(x))]$ with respect to the model parameters will be zero. The constant $\\beta$ is usually taken set to $\\beta=0.25$ by default, as in the original paper.\n",
        "\n",
        "The first term in the objective $L$ above is the reconstruction loss, the second term is the _codebook loss_, and the third term is the _commitment loss_. The Kullback-Leibler divergence term in the ELBO is constant and so is ignored for training.\n",
        "\n",
        "In this assessment, you will design, implement, train and evaluate a VQ-VAE for the spoken digit dataset, and use it to learn a generative model of the spoken audio."
      ]
    },
    {
      "cell_type": "markdown",
      "id": "e7192e82-8e92-4462-a56d-86f27253caee",
      "metadata": {
        "id": "e7192e82-8e92-4462-a56d-86f27253caee"
      },
      "source": [
        "### Question 1 (Total 15 marks)"
      ]
    },
    {
      "cell_type": "markdown",
      "id": "f4f81ab7-146d-4e91-9211-eef3a3709528",
      "metadata": {
        "id": "f4f81ab7-146d-4e91-9211-eef3a3709528"
      },
      "source": [
        "The loaded Dataset returns a dictionary with keys `\"audio\"`, `\"audio/filename\"` and `\"label\"`. For this assessment you will only need the `\"audio\"` entry, and the other entries can be discarded.\n",
        "\n",
        "In this question, you should carry out a basic exploration and analysis of the dataset; computing, displaying and visualising any properties you deem to be relevant. You can also use comments and/or markdown as appropriate.\n",
        "\n",
        "All of the Dataset preparation/preprocessing for question 2a) should be done in this question, so that it is ready for training the VQ-VAE.\n",
        "\n",
        "_Hint: an audio file can be played within a jupyter notebook using the `Audio` class from the `IPython.display` module (imported above). See [here](https://ipython.org/ipython-doc/3/api/generated/IPython.display.html) for usage._\n",
        "\n",
        "**(15 marks)**"
      ]
    },
    {
      "cell_type": "code",
      "execution_count": 9,
      "id": "249ffe1b-283f-4918-a331-fe87339175e9",
      "metadata": {
        "scrolled": true,
        "colab": {
          "base_uri": "https://localhost:8080/"
        },
        "id": "249ffe1b-283f-4918-a331-fe87339175e9",
        "outputId": "aa09452f-69ad-49a3-ccf7-bf34421f1dec"
      },
      "outputs": [
        {
          "output_type": "stream",
          "name": "stdout",
          "text": [
            "Requirement already satisfied: librosa in /usr/local/lib/python3.10/dist-packages (0.10.1)\n",
            "Requirement already satisfied: audioread>=2.1.9 in /usr/local/lib/python3.10/dist-packages (from librosa) (3.0.1)\n",
            "Requirement already satisfied: numpy!=1.22.0,!=1.22.1,!=1.22.2,>=1.20.3 in /usr/local/lib/python3.10/dist-packages (from librosa) (1.25.2)\n",
            "Requirement already satisfied: scipy>=1.2.0 in /usr/local/lib/python3.10/dist-packages (from librosa) (1.11.4)\n",
            "Requirement already satisfied: scikit-learn>=0.20.0 in /usr/local/lib/python3.10/dist-packages (from librosa) (1.2.2)\n",
            "Requirement already satisfied: joblib>=0.14 in /usr/local/lib/python3.10/dist-packages (from librosa) (1.3.2)\n",
            "Requirement already satisfied: decorator>=4.3.0 in /usr/local/lib/python3.10/dist-packages (from librosa) (4.4.2)\n",
            "Requirement already satisfied: numba>=0.51.0 in /usr/local/lib/python3.10/dist-packages (from librosa) (0.58.1)\n",
            "Requirement already satisfied: soundfile>=0.12.1 in /usr/local/lib/python3.10/dist-packages (from librosa) (0.12.1)\n",
            "Requirement already satisfied: pooch>=1.0 in /usr/local/lib/python3.10/dist-packages (from librosa) (1.8.1)\n",
            "Requirement already satisfied: soxr>=0.3.2 in /usr/local/lib/python3.10/dist-packages (from librosa) (0.3.7)\n",
            "Requirement already satisfied: typing-extensions>=4.1.1 in /usr/local/lib/python3.10/dist-packages (from librosa) (4.10.0)\n",
            "Requirement already satisfied: lazy-loader>=0.1 in /usr/local/lib/python3.10/dist-packages (from librosa) (0.3)\n",
            "Requirement already satisfied: msgpack>=1.0 in /usr/local/lib/python3.10/dist-packages (from librosa) (1.0.8)\n",
            "Requirement already satisfied: llvmlite<0.42,>=0.41.0dev0 in /usr/local/lib/python3.10/dist-packages (from numba>=0.51.0->librosa) (0.41.1)\n",
            "Requirement already satisfied: platformdirs>=2.5.0 in /usr/local/lib/python3.10/dist-packages (from pooch>=1.0->librosa) (4.2.0)\n",
            "Requirement already satisfied: packaging>=20.0 in /usr/local/lib/python3.10/dist-packages (from pooch>=1.0->librosa) (24.0)\n",
            "Requirement already satisfied: requests>=2.19.0 in /usr/local/lib/python3.10/dist-packages (from pooch>=1.0->librosa) (2.31.0)\n",
            "Requirement already satisfied: threadpoolctl>=2.0.0 in /usr/local/lib/python3.10/dist-packages (from scikit-learn>=0.20.0->librosa) (3.4.0)\n",
            "Requirement already satisfied: cffi>=1.0 in /usr/local/lib/python3.10/dist-packages (from soundfile>=0.12.1->librosa) (1.16.0)\n",
            "Requirement already satisfied: pycparser in /usr/local/lib/python3.10/dist-packages (from cffi>=1.0->soundfile>=0.12.1->librosa) (2.22)\n",
            "Requirement already satisfied: charset-normalizer<4,>=2 in /usr/local/lib/python3.10/dist-packages (from requests>=2.19.0->pooch>=1.0->librosa) (3.3.2)\n",
            "Requirement already satisfied: idna<4,>=2.5 in /usr/local/lib/python3.10/dist-packages (from requests>=2.19.0->pooch>=1.0->librosa) (3.6)\n",
            "Requirement already satisfied: urllib3<3,>=1.21.1 in /usr/local/lib/python3.10/dist-packages (from requests>=2.19.0->pooch>=1.0->librosa) (2.0.7)\n",
            "Requirement already satisfied: certifi>=2017.4.17 in /usr/local/lib/python3.10/dist-packages (from requests>=2.19.0->pooch>=1.0->librosa) (2024.2.2)\n",
            "Collecting tensorflow_io\n",
            "  Downloading tensorflow_io-0.36.0-cp310-cp310-manylinux_2_17_x86_64.manylinux2014_x86_64.whl (49.4 MB)\n",
            "\u001b[2K     \u001b[90m━━━━━━━━━━━━━━━━━━━━━━━━━━━━━━━━━━━━━━━━\u001b[0m \u001b[32m49.4/49.4 MB\u001b[0m \u001b[31m11.6 MB/s\u001b[0m eta \u001b[36m0:00:00\u001b[0m\n",
            "\u001b[?25hRequirement already satisfied: tensorflow-io-gcs-filesystem==0.36.0 in /usr/local/lib/python3.10/dist-packages (from tensorflow_io) (0.36.0)\n",
            "Installing collected packages: tensorflow_io\n",
            "Successfully installed tensorflow_io-0.36.0\n"
          ]
        }
      ],
      "source": [
        "! pip install librosa\n",
        "! pip install tensorflow_io\n",
        "import librosa\n"
      ]
    },
    {
      "cell_type": "code",
      "execution_count": 11,
      "id": "C6xw82bd961O",
      "metadata": {
        "id": "C6xw82bd961O"
      },
      "outputs": [],
      "source": [
        "# https://www.kaggle.com/datasets/joserzapata/free-spoken-digit-dataset-fsdd/code\n",
        "# https://www.kaggle.com/code/holzner/variational-autoencoder-for-speech-dataset\n",
        "# https://www.youtube.com/watch?v=UGTAzMX3vjQ\n",
        "\n",
        "# visualize the data and padding:\n",
        "# https://keras.io/examples/audio/ctc_asr/\n",
        "\n"
      ]
    },
    {
      "cell_type": "code",
      "execution_count": 12,
      "id": "ec50559d-5e86-4b37-9e4b-01ff36157647",
      "metadata": {
        "id": "ec50559d-5e86-4b37-9e4b-01ff36157647",
        "outputId": "7da970ef-2254-4ec7-846d-ece6ef8c972a",
        "colab": {
          "base_uri": "https://localhost:8080/"
        }
      },
      "outputs": [
        {
          "output_type": "stream",
          "name": "stdout",
          "text": [
            "(12, 513, 1)\n",
            "(23, 513, 1)\n",
            "(51, 513, 1)\n",
            "(27, 513, 1)\n",
            "(22, 513, 1)\n"
          ]
        }
      ],
      "source": [
        "##https://www.kaggle.com/code/iinaam/classification-on-fsdd-using-spectograms\n",
        "\n",
        "import tensorflow_io as tfio\n",
        "nfft = 1024\n",
        "window = 1024\n",
        "stride = 128\n",
        "\n",
        "\n",
        "for elem in ds_train.take(5):\n",
        "    my_elem = elem['audio']\n",
        "    spectrogram = tfio.audio.spectrogram(tf.cast(my_elem,tf.float32),\n",
        "                                  nfft=nfft, window=window,\n",
        "                                  stride=stride)\n",
        "    spectrogram = spectrogram[..., tf.newaxis]\n",
        "    print(spectrogram.shape)\n"
      ]
    },
    {
      "cell_type": "code",
      "source": [
        "def get_spectrogram(waveform):\n",
        "    # Convert the waveform to a spectrogram via a STFT.\n",
        "    spectrogram = tf.signal.stft(\n",
        "        waveform, frame_length=255, frame_step=128)\n",
        "    # Obtain the magnitude of the STFT.\n",
        "    spectrogram = tf.abs(spectrogram)\n",
        "    # Add a `channels` dimension, so that the spectrogram can be used\n",
        "    # as image-like input data with convolution layers (which expect\n",
        "    # shape (`batch_size`, `height`, `width`, `channels`).\n",
        "    spectrogram = spectrogram[..., tf.newaxis]\n",
        "    return spectrogram\n",
        "\n",
        "get_spectrogram(tf.cast(my_elem,tf.float32))"
      ],
      "metadata": {
        "colab": {
          "base_uri": "https://localhost:8080/"
        },
        "id": "PjE2Xd1x9OPJ",
        "outputId": "a1d302c1-6b81-4c90-8a09-d92e6566df05"
      },
      "id": "PjE2Xd1x9OPJ",
      "execution_count": 13,
      "outputs": [
        {
          "output_type": "execute_result",
          "data": {
            "text/plain": [
              "<tf.Tensor: shape=(20, 129, 1), dtype=float32, numpy=\n",
              "array([[[29521.932 ],\n",
              "        [15228.877 ],\n",
              "        [  892.6195],\n",
              "        ...,\n",
              "        [ 1770.5404],\n",
              "        [ 1664.604 ],\n",
              "        [ 1002.2676]],\n",
              "\n",
              "       [[31023.668 ],\n",
              "        [16194.002 ],\n",
              "        [ 2191.535 ],\n",
              "        ...,\n",
              "        [ 3782.1482],\n",
              "        [ 4774.783 ],\n",
              "        [ 4436.958 ]],\n",
              "\n",
              "       [[30179.73  ],\n",
              "        [15287.852 ],\n",
              "        [ 2106.246 ],\n",
              "        ...,\n",
              "        [ 2076.3733],\n",
              "        [ 1750.555 ],\n",
              "        [ 2181.0664]],\n",
              "\n",
              "       ...,\n",
              "\n",
              "       [[28739.793 ],\n",
              "        [14317.488 ],\n",
              "        [  848.2938],\n",
              "        ...,\n",
              "        [ 1715.2124],\n",
              "        [ 1921.5626],\n",
              "        [  289.9961]],\n",
              "\n",
              "       [[29420.713 ],\n",
              "        [15248.197 ],\n",
              "        [ 1184.8263],\n",
              "        ...,\n",
              "        [ 1626.4329],\n",
              "        [  622.3764],\n",
              "        [ 1422.6553]],\n",
              "\n",
              "       [[28726.805 ],\n",
              "        [15428.414 ],\n",
              "        [ 1109.2708],\n",
              "        ...,\n",
              "        [ 1524.7716],\n",
              "        [ 1793.7386],\n",
              "        [ 1423.2285]]], dtype=float32)>"
            ]
          },
          "metadata": {},
          "execution_count": 13
        }
      ]
    },
    {
      "cell_type": "code",
      "source": [
        "tf.gather(tf.shape(my_elem),0)"
      ],
      "metadata": {
        "colab": {
          "base_uri": "https://localhost:8080/"
        },
        "id": "9hpfkUphtq9N",
        "outputId": "f44111e5-e395-48df-df2d-e497f618be84"
      },
      "id": "9hpfkUphtq9N",
      "execution_count": 52,
      "outputs": [
        {
          "output_type": "execute_result",
          "data": {
            "text/plain": [
              "<tf.Tensor: shape=(), dtype=int32, numpy=2746>"
            ]
          },
          "metadata": {},
          "execution_count": 52
        }
      ]
    },
    {
      "cell_type": "code",
      "execution_count": 155,
      "id": "69f423de-c776-41ea-b88a-d60f024efa8e",
      "metadata": {
        "id": "69f423de-c776-41ea-b88a-d60f024efa8e",
        "colab": {
          "base_uri": "https://localhost:8080/"
        },
        "outputId": "72da919f-9d75-4259-932f-fb9a8665dfb0"
      },
      "outputs": [
        {
          "output_type": "stream",
          "name": "stdout",
          "text": [
            "The highest length is 18262.\n"
          ]
        }
      ],
      "source": [
        "import librosa\n",
        "\n",
        "def max_sound(data):\n",
        "    return tf.math.reduce_max(data['audio'])\n",
        "\n",
        "def min_sound(data):\n",
        "    return tf.math.reduce_min(data['audio'])\n",
        "\n",
        "def max_length(data):\n",
        "    return tf.gather(tf.shape(data['audio']),0)\n",
        "\n",
        "global_max_sound = np.max(np.array([a.numpy() for a in list(ds_whole.map(max_sound))]))\n",
        "global_min_sound = np.min(np.array([a.numpy() for a in list(ds_whole.map(min_sound))]))\n",
        "global_max_length = np.max(np.array([a.numpy() for a in list(ds_whole.map(max_length))]))\n",
        "\n",
        "print(\"The highest length is {}.\".format(global_max_length))\n",
        "\n",
        "batch_size = 64\n",
        "\n",
        "padding = tf.constant([[0, 0,], [0, 1]])\n",
        "\n",
        "nfft = 1024\n",
        "window = 1024\n",
        "stride = 128\n",
        "\n",
        "# Process the data\n",
        "def process_sounds(data):\n",
        "    audio = data['audio']\n",
        "    audio_length = tf.size(audio)\n",
        "    #t = tf.constant([1, 2, 3])\n",
        "    t = audio[tf.newaxis,...]\n",
        "    paddings = padding*(global_max_length-audio_length) #tf.constant([[0, 0,], [0, global_max_length-audio_length]])\n",
        "    padded_sound = tf.squeeze(tf.pad(t, paddings, \"CONSTANT\"))\n",
        "    #padded_sound = np.pad(audio,(0,global_max_length-audio_length),'constant')\n",
        "    cast_sound = tf.cast(padded_sound, tf.float32)\n",
        "    #max_sound = tf.math.reduce_max(casted_sound)\n",
        "    #min_sound = tf.math.reduce_min(casted_sound)\n",
        "    spec = tf.transpose(tf.transpose(tfio.audio.spectrogram(cast_sound,\n",
        "                                                            nfft=nfft, window=window, stride=stride))[:-1])\n",
        "    return spec[...,tf.newaxis]\n",
        "\n",
        "\n",
        "\n",
        "\n",
        "#train_dataset = ds_train.map(process_sounds).shuffle(500).padded_batch(64).prefetch(tf.data.AUTOTUNE)\n",
        "#val_dataset = ds_val.map(process_sounds).shuffle(500).padded_batch(64).prefetch(tf.data.AUTOTUNE)\n",
        "#test_dataset = ds_test.map(process_sounds).shuffle(500).padded_batch(64).prefetch(tf.data.AUTOTUNE)\n",
        "\n",
        "#train_dataset = ds_train.map(process_sounds)\n",
        "\n",
        "train_dataset = ds_train.map(process_sounds).shuffle(500).batch(64).prefetch(tf.data.AUTOTUNE)\n",
        "val_dataset = ds_val.map(process_sounds).shuffle(500).batch(64).prefetch(tf.data.AUTOTUNE)\n",
        "test_dataset = ds_test.map(process_sounds).shuffle(500).batch(64).prefetch(tf.data.AUTOTUNE)\n"
      ]
    },
    {
      "cell_type": "code",
      "source": [
        "for elem in ds_train.take(5):\n",
        "    originalElem = elem['audio']"
      ],
      "metadata": {
        "id": "2wrlj446-G_p"
      },
      "id": "2wrlj446-G_p",
      "execution_count": 149,
      "outputs": []
    },
    {
      "cell_type": "code",
      "source": [
        "for elem2 in val_dataset.take(6):\n",
        "    print(elem2.shape)"
      ],
      "metadata": {
        "colab": {
          "base_uri": "https://localhost:8080/"
        },
        "id": "P4aI734ttXDc",
        "outputId": "661e4c74-daf5-4a65-c37e-25ba838dad0b"
      },
      "id": "P4aI734ttXDc",
      "execution_count": 156,
      "outputs": [
        {
          "output_type": "stream",
          "name": "stdout",
          "text": [
            "(64, 143, 512, 1)\n",
            "(64, 143, 512, 1)\n",
            "(64, 143, 512, 1)\n",
            "(64, 143, 512, 1)\n",
            "(64, 143, 512, 1)\n",
            "(64, 143, 512, 1)\n"
          ]
        }
      ]
    },
    {
      "cell_type": "code",
      "source": [
        "originalSound = elem2 #np.pad(tf.cast(elem2,tf.float32).numpy(),(0, 100), \"constant\")"
      ],
      "metadata": {
        "id": "5RVR59w7tywy"
      },
      "id": "5RVR59w7tywy",
      "execution_count": 84,
      "outputs": []
    },
    {
      "cell_type": "markdown",
      "source": [],
      "metadata": {
        "id": "SqzgfDjtVoRl"
      },
      "id": "SqzgfDjtVoRl"
    },
    {
      "cell_type": "code",
      "source": [
        "originalSound.shape"
      ],
      "metadata": {
        "colab": {
          "base_uri": "https://localhost:8080/"
        },
        "id": "EkcdXZO8ugKl",
        "outputId": "d1de9920-b9ad-49f8-dfe5-f0d9ce774a96"
      },
      "id": "EkcdXZO8ugKl",
      "execution_count": 31,
      "outputs": [
        {
          "output_type": "execute_result",
          "data": {
            "text/plain": [
              "(2756,)"
            ]
          },
          "metadata": {},
          "execution_count": 31
        }
      ]
    },
    {
      "cell_type": "code",
      "source": [
        "\n",
        "\n",
        "nfft = 1024\n",
        "window = 1024\n",
        "stride = 128\n",
        "spec = tfio.audio.spectrogram(elem2, nfft=nfft, window=window, stride=stride)\n",
        "#spectrogramTF = get_spectrogram(originalSound)\n",
        "\n",
        "audioBack = tfio.audio.inverse_spectrogram(\n",
        "    spec, nfft, window, stride, iterations=60\n",
        ")"
      ],
      "metadata": {
        "id": "mybv_9KnBHWb"
      },
      "id": "mybv_9KnBHWb",
      "execution_count": 146,
      "outputs": []
    },
    {
      "cell_type": "code",
      "source": [
        "audioBack = tfio.audio.inverse_spectrogram(\n",
        "    tf.concat([tf.squeeze(elem2), tf.zeros((143,1))], 1), nfft, window, stride, iterations=60\n",
        ")"
      ],
      "metadata": {
        "id": "kocZggcvFjo9"
      },
      "id": "kocZggcvFjo9",
      "execution_count": 153,
      "outputs": []
    },
    {
      "cell_type": "code",
      "source": [
        "\n"
      ],
      "metadata": {
        "colab": {
          "base_uri": "https://localhost:8080/"
        },
        "id": "Ok6I2AQZKIry",
        "outputId": "070d0b76-1c8f-44bd-f68b-a35d031621a9"
      },
      "id": "Ok6I2AQZKIry",
      "execution_count": 143,
      "outputs": [
        {
          "output_type": "execute_result",
          "data": {
            "text/plain": [
              "<tf.Tensor: shape=(143, 513), dtype=float32, numpy=\n",
              "array([[124058.09  ,  64115.195 ,   3355.9963, ...,   1136.2612,\n",
              "          5928.605 ,      0.    ],\n",
              "       [121963.06  ,  62015.918 ,   4049.3298, ...,   2080.949 ,\n",
              "          5858.265 ,      0.    ],\n",
              "       [119341.055 ,  58366.88  ,   3420.008 , ...,   1568.2219,\n",
              "          5755.192 ,      0.    ],\n",
              "       ...,\n",
              "       [     0.    ,      0.    ,      0.    , ...,      0.    ,\n",
              "             0.    ,      0.    ],\n",
              "       [     0.    ,      0.    ,      0.    , ...,      0.    ,\n",
              "             0.    ,      0.    ],\n",
              "       [     0.    ,      0.    ,      0.    , ...,      0.    ,\n",
              "             0.    ,      0.    ]], dtype=float32)>"
            ]
          },
          "metadata": {},
          "execution_count": 143
        }
      ]
    },
    {
      "cell_type": "code",
      "source": [
        "audioBack"
      ],
      "metadata": {
        "colab": {
          "base_uri": "https://localhost:8080/"
        },
        "id": "mCNs11WGFB9e",
        "outputId": "d3859d47-b479-47cf-cff6-f05138a2431e"
      },
      "id": "mCNs11WGFB9e",
      "execution_count": 137,
      "outputs": [
        {
          "output_type": "execute_result",
          "data": {
            "text/plain": [
              "<tf.Tensor: shape=(143, 66432), dtype=float32, numpy=\n",
              "array([[ 0.00000000e+00,  4.58142040e-07,  6.70983184e-07, ...,\n",
              "         6.30858412e-04,  4.87778510e-04,  7.65756195e-05],\n",
              "       [ 0.00000000e+00, -3.32521413e-05, -1.29950495e-04, ...,\n",
              "         4.85216005e-05, -1.20027406e-04,  1.36571180e-05],\n",
              "       [ 0.00000000e+00, -4.19696534e-07,  2.68393273e-06, ...,\n",
              "        -2.68005067e-04, -1.41459255e-04,  7.52382111e-05],\n",
              "       ...,\n",
              "       [ 0.00000000e+00,  0.00000000e+00,  0.00000000e+00, ...,\n",
              "         0.00000000e+00,  0.00000000e+00,  0.00000000e+00],\n",
              "       [ 0.00000000e+00,  0.00000000e+00,  0.00000000e+00, ...,\n",
              "         0.00000000e+00,  0.00000000e+00,  0.00000000e+00],\n",
              "       [ 0.00000000e+00,  0.00000000e+00,  0.00000000e+00, ...,\n",
              "         0.00000000e+00,  0.00000000e+00,  0.00000000e+00]], dtype=float32)>"
            ]
          },
          "metadata": {},
          "execution_count": 137
        }
      ]
    },
    {
      "cell_type": "code",
      "source": [
        "Audio(originalElem,rate=8000)"
      ],
      "metadata": {
        "colab": {
          "base_uri": "https://localhost:8080/",
          "height": 75
        },
        "id": "JFp_KCGn9tI4",
        "outputId": "0ac1cca8-ff02-47f7-8c7e-19646d06756e"
      },
      "id": "JFp_KCGn9tI4",
      "execution_count": 150,
      "outputs": [
        {
          "output_type": "execute_result",
          "data": {
            "text/plain": [
              "<IPython.lib.display.Audio object>"
            ],
            "text/html": [
              "\n",
              "                <audio  controls=\"controls\" >\n",
              "                    <source src=\"data:audio/wav;base64,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\" type=\"audio/wav\" />\n",
              "                    Your browser does not support the audio element.\n",
              "                </audio>\n",
              "              "
            ]
          },
          "metadata": {},
          "execution_count": 150
        }
      ]
    },
    {
      "cell_type": "code",
      "source": [
        "Audio(audioBack,rate=8000)"
      ],
      "metadata": {
        "colab": {
          "base_uri": "https://localhost:8080/",
          "height": 75
        },
        "id": "eHxzmRQPFRqX",
        "outputId": "827dc136-77d1-4624-df06-5f3d4608b966"
      },
      "id": "eHxzmRQPFRqX",
      "execution_count": 154,
      "outputs": [
        {
          "output_type": "execute_result",
          "data": {
            "text/plain": [
              "<IPython.lib.display.Audio object>"
            ],
            "text/html": [
              "\n",
              "                <audio  controls=\"controls\" >\n",
              "                    <source src=\"data:audio/wav;base64,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\" type=\"audio/wav\" />\n",
              "                    Your browser does not support the audio element.\n",
              "                </audio>\n",
              "              "
            ]
          },
          "metadata": {},
          "execution_count": 154
        }
      ]
    },
    {
      "cell_type": "code",
      "source": [
        "audioBack"
      ],
      "metadata": {
        "colab": {
          "base_uri": "https://localhost:8080/"
        },
        "id": "_WHFOdoANVpf",
        "outputId": "1bd906d7-1ff2-49bb-a5f2-24b8b550b6d5"
      },
      "id": "_WHFOdoANVpf",
      "execution_count": null,
      "outputs": [
        {
          "output_type": "execute_result",
          "data": {
            "text/plain": [
              "<tf.Tensor: shape=(7424,), dtype=float32, numpy=\n",
              "array([ 0.0000000e+00,  2.7236308e-04,  9.2319818e-04, ...,\n",
              "       -2.7374892e-06, -4.4480080e-07, -1.7812241e-07], dtype=float32)>"
            ]
          },
          "metadata": {},
          "execution_count": 163
        }
      ]
    },
    {
      "cell_type": "code",
      "source": [
        "audioBack.numpy()\n",
        "spec = tfio.audio.spectrogram(audioBack, nfft=nfft, window=window, stride=stride)\n",
        "audioBackAgain = tfio.audio.inverse_spectrogram(\n",
        "    spec, nfft, window, stride, iterations=30\n",
        ")"
      ],
      "metadata": {
        "id": "yq2cg79QNPdx"
      },
      "id": "yq2cg79QNPdx",
      "execution_count": null,
      "outputs": []
    },
    {
      "cell_type": "code",
      "source": [
        "audioBack"
      ],
      "metadata": {
        "colab": {
          "base_uri": "https://localhost:8080/"
        },
        "id": "xK8NrTiFNpre",
        "outputId": "c97acbdb-13ce-41c9-f07b-b62561d2fa81"
      },
      "id": "xK8NrTiFNpre",
      "execution_count": null,
      "outputs": [
        {
          "output_type": "execute_result",
          "data": {
            "text/plain": [
              "<tf.Tensor: shape=(7424,), dtype=float32, numpy=\n",
              "array([ 0.0000000e+00,  2.7236308e-04,  9.2319818e-04, ...,\n",
              "       -2.7374892e-06, -4.4480080e-07, -1.7812241e-07], dtype=float32)>"
            ]
          },
          "metadata": {},
          "execution_count": 164
        }
      ]
    },
    {
      "cell_type": "code",
      "source": [
        "a = librosa.stft(originalSound)\n",
        "a"
      ],
      "metadata": {
        "colab": {
          "base_uri": "https://localhost:8080/"
        },
        "id": "TJp-T055_vnV",
        "outputId": "bc232bca-94d1-40d1-fe04-9470776c0989"
      },
      "id": "TJp-T055_vnV",
      "execution_count": null,
      "outputs": [
        {
          "output_type": "execute_result",
          "data": {
            "text/plain": [
              "array([[-6.6072899e+01  +0.j      ,  5.5327244e+01  +0.j      ,\n",
              "         1.4742548e+01  +0.j      , ..., -4.7155185e+02  +0.j      ,\n",
              "        -1.1179771e+03  +0.j      , -9.6311023e+02  +0.j      ],\n",
              "       [ 1.0022279e+02 +20.194324j, -1.5561552e+02+109.0951j  ,\n",
              "         1.4686720e+02-164.8868j  , ...,  8.9252937e+01-567.6156j  ,\n",
              "         8.3040552e+02 -61.24056j ,  4.8527142e+02+221.83347j ],\n",
              "       [-8.3786476e+01 +18.06658j ,  3.9615723e+01-247.07703j ,\n",
              "        -1.9010329e+02+509.26096j , ...,  2.8163696e+02+378.4539j  ,\n",
              "        -4.6762302e+02-208.10608j ,  3.6285000e+01+203.95381j ],\n",
              "       ...,\n",
              "       [ 7.0003204e+00-111.286224j, -4.7857742e+01+207.04123j ,\n",
              "         6.4213600e+01-106.432625j, ...,  3.5391048e+01  -9.014828j,\n",
              "         5.8625019e+01 +48.166138j, -6.2578644e+01 -81.164955j],\n",
              "       [ 8.6884148e+01 +70.94969j ,  2.2921585e+01-166.08539j ,\n",
              "        -1.3693042e+02 +65.90655j , ..., -6.9016052e+01 -72.73528j ,\n",
              "        -1.2956421e+02 +12.21704j , -1.3718060e-01 +96.54177j ],\n",
              "       [-1.0006301e+02  +0.j      , -2.8039992e+00  +0.j      ,\n",
              "         9.5566200e+01  +0.j      , ...,  1.0109309e+02  +0.j      ,\n",
              "         1.6209291e+02  +0.j      ,  5.2239147e+01  +0.j      ]],\n",
              "      dtype=complex64)"
            ]
          },
          "metadata": {},
          "execution_count": 77
        }
      ]
    },
    {
      "cell_type": "code",
      "execution_count": null,
      "id": "d948ce4f-cb76-491a-9271-cd2f204d09c8",
      "metadata": {
        "id": "d948ce4f-cb76-491a-9271-cd2f204d09c8",
        "outputId": "f3636f46-37c7-4c98-d5b6-97299dd9c55d",
        "colab": {
          "base_uri": "https://localhost:8080/"
        }
      },
      "outputs": [
        {
          "output_type": "execute_result",
          "data": {
            "text/plain": [
              "(32767, -32768)"
            ]
          },
          "metadata": {},
          "execution_count": 103
        }
      ],
      "source": [
        "(global_max_sound,global_min_sound)"
      ]
    },
    {
      "cell_type": "code",
      "execution_count": 1,
      "id": "35016d18-3180-4dc6-b7cd-089e514754a6",
      "metadata": {
        "id": "35016d18-3180-4dc6-b7cd-089e514754a6",
        "colab": {
          "base_uri": "https://localhost:8080/",
          "height": 211
        },
        "outputId": "0c15f568-73c8-47fc-aed4-efa038b543e4"
      },
      "outputs": [
        {
          "output_type": "error",
          "ename": "NameError",
          "evalue": "name 'ds_train' is not defined",
          "traceback": [
            "\u001b[0;31m---------------------------------------------------------------------------\u001b[0m",
            "\u001b[0;31mNameError\u001b[0m                                 Traceback (most recent call last)",
            "\u001b[0;32m<ipython-input-1-9bcb022cd4d9>\u001b[0m in \u001b[0;36m<cell line: 14>\u001b[0;34m()\u001b[0m\n\u001b[1;32m     12\u001b[0m \u001b[0;34m\u001b[0m\u001b[0m\n\u001b[1;32m     13\u001b[0m \u001b[0;34m\u001b[0m\u001b[0m\n\u001b[0;32m---> 14\u001b[0;31m \u001b[0mtrain_dataset\u001b[0m \u001b[0;34m=\u001b[0m \u001b[0mds_train\u001b[0m\u001b[0;34m.\u001b[0m\u001b[0mmap\u001b[0m\u001b[0;34m(\u001b[0m\u001b[0mprocess_sounds\u001b[0m\u001b[0;34m)\u001b[0m\u001b[0;34m.\u001b[0m\u001b[0mshuffle\u001b[0m\u001b[0;34m(\u001b[0m\u001b[0;36m500\u001b[0m\u001b[0;34m)\u001b[0m\u001b[0;34m.\u001b[0m\u001b[0mpadded_batch\u001b[0m\u001b[0;34m(\u001b[0m\u001b[0;36m64\u001b[0m\u001b[0;34m)\u001b[0m\u001b[0;34m.\u001b[0m\u001b[0mprefetch\u001b[0m\u001b[0;34m(\u001b[0m\u001b[0mtf\u001b[0m\u001b[0;34m.\u001b[0m\u001b[0mdata\u001b[0m\u001b[0;34m.\u001b[0m\u001b[0mAUTOTUNE\u001b[0m\u001b[0;34m)\u001b[0m\u001b[0;34m\u001b[0m\u001b[0;34m\u001b[0m\u001b[0m\n\u001b[0m\u001b[1;32m     15\u001b[0m \u001b[0mval_dataset\u001b[0m \u001b[0;34m=\u001b[0m \u001b[0mds_val\u001b[0m\u001b[0;34m.\u001b[0m\u001b[0mmap\u001b[0m\u001b[0;34m(\u001b[0m\u001b[0mprocess_sounds\u001b[0m\u001b[0;34m)\u001b[0m\u001b[0;34m.\u001b[0m\u001b[0mshuffle\u001b[0m\u001b[0;34m(\u001b[0m\u001b[0;36m500\u001b[0m\u001b[0;34m)\u001b[0m\u001b[0;34m.\u001b[0m\u001b[0mpadded_batch\u001b[0m\u001b[0;34m(\u001b[0m\u001b[0;36m64\u001b[0m\u001b[0;34m)\u001b[0m\u001b[0;34m.\u001b[0m\u001b[0mprefetch\u001b[0m\u001b[0;34m(\u001b[0m\u001b[0mtf\u001b[0m\u001b[0;34m.\u001b[0m\u001b[0mdata\u001b[0m\u001b[0;34m.\u001b[0m\u001b[0mAUTOTUNE\u001b[0m\u001b[0;34m)\u001b[0m\u001b[0;34m\u001b[0m\u001b[0;34m\u001b[0m\u001b[0m\n\u001b[1;32m     16\u001b[0m \u001b[0mtest_dataset\u001b[0m \u001b[0;34m=\u001b[0m \u001b[0mds_test\u001b[0m\u001b[0;34m.\u001b[0m\u001b[0mmap\u001b[0m\u001b[0;34m(\u001b[0m\u001b[0mprocess_sounds\u001b[0m\u001b[0;34m)\u001b[0m\u001b[0;34m.\u001b[0m\u001b[0mshuffle\u001b[0m\u001b[0;34m(\u001b[0m\u001b[0;36m500\u001b[0m\u001b[0;34m)\u001b[0m\u001b[0;34m.\u001b[0m\u001b[0mpadded_batch\u001b[0m\u001b[0;34m(\u001b[0m\u001b[0;36m64\u001b[0m\u001b[0;34m)\u001b[0m\u001b[0;34m.\u001b[0m\u001b[0mprefetch\u001b[0m\u001b[0;34m(\u001b[0m\u001b[0mtf\u001b[0m\u001b[0;34m.\u001b[0m\u001b[0mdata\u001b[0m\u001b[0;34m.\u001b[0m\u001b[0mAUTOTUNE\u001b[0m\u001b[0;34m)\u001b[0m\u001b[0;34m\u001b[0m\u001b[0;34m\u001b[0m\u001b[0m\n",
            "\u001b[0;31mNameError\u001b[0m: name 'ds_train' is not defined"
          ]
        }
      ],
      "source": [
        "batch_size = 64\n",
        "\n",
        "# Process the data\n",
        "def process_sounds(data):\n",
        "    casted_sound = tf.cast(data['audio'], tf.float32)\n",
        "    #max_sound = tf.math.reduce_max(casted_sound)\n",
        "    #min_sound = tf.math.reduce_min(casted_sound)\n",
        "    bounded_sound = (casted_sound-global_min_sound)/\\\n",
        "        (global_max_sound-global_min_sound)\n",
        "    return bounded_sound, bounded_sound\n",
        "\n",
        "\n",
        "\n",
        "train_dataset = ds_train.map(process_sounds).shuffle(500).padded_batch(64).prefetch(tf.data.AUTOTUNE)\n",
        "val_dataset = ds_val.map(process_sounds).shuffle(500).padded_batch(64).prefetch(tf.data.AUTOTUNE)\n",
        "test_dataset = ds_test.map(process_sounds).shuffle(500).padded_batch(64).prefetch(tf.data.AUTOTUNE)\n",
        "\n",
        "\n"
      ]
    },
    {
      "cell_type": "code",
      "source": [
        "import tensorflow_io as tfio\n",
        "nfft = 1024\n",
        "window = 1024\n",
        "stride = 128\n",
        "\n",
        "for elem in train_dataset.take(4):\n",
        "    spec = tfio.audio.spectrogram(tf.cast(my_elem,tf.float32),\n",
        "                                  nfft=nfft, window=window,\n",
        "                                  stride=stride)\n",
        "    print(spec.shape)"
      ],
      "metadata": {
        "colab": {
          "base_uri": "https://localhost:8080/"
        },
        "id": "GV8KEPNHlKmR",
        "outputId": "26de28da-751e-4e84-8b9b-48a79748a221"
      },
      "id": "GV8KEPNHlKmR",
      "execution_count": 29,
      "outputs": [
        {
          "output_type": "stream",
          "name": "stdout",
          "text": [
            "(22, 513)\n",
            "(22, 513)\n",
            "(22, 513)\n",
            "(22, 513)\n"
          ]
        }
      ]
    },
    {
      "cell_type": "code",
      "source": [
        "for elem_origin in train_dataset.take(4):\n",
        "    elem_origin"
      ],
      "metadata": {
        "id": "8u-bHwxWSwSu"
      },
      "id": "8u-bHwxWSwSu",
      "execution_count": 33,
      "outputs": []
    },
    {
      "cell_type": "code",
      "source": [
        "Audio(elem_origin,rate=8000)"
      ],
      "metadata": {
        "colab": {
          "base_uri": "https://localhost:8080/",
          "height": 287
        },
        "id": "pQaiKoNxSk_G",
        "outputId": "cf0cdd72-9b42-4724-d358-f4a18114bcbe"
      },
      "id": "pQaiKoNxSk_G",
      "execution_count": 36,
      "outputs": [
        {
          "output_type": "error",
          "ename": "ValueError",
          "evalue": "Array audio input must be a 1D or 2D array",
          "traceback": [
            "\u001b[0;31m---------------------------------------------------------------------------\u001b[0m",
            "\u001b[0;31mValueError\u001b[0m                                Traceback (most recent call last)",
            "\u001b[0;32m<ipython-input-36-9af20a1ba070>\u001b[0m in \u001b[0;36m<cell line: 1>\u001b[0;34m()\u001b[0m\n\u001b[0;32m----> 1\u001b[0;31m \u001b[0mAudio\u001b[0m\u001b[0;34m(\u001b[0m\u001b[0melem_origin\u001b[0m\u001b[0;34m,\u001b[0m\u001b[0mrate\u001b[0m\u001b[0;34m=\u001b[0m\u001b[0;36m8000\u001b[0m\u001b[0;34m)\u001b[0m\u001b[0;34m\u001b[0m\u001b[0;34m\u001b[0m\u001b[0m\n\u001b[0m",
            "\u001b[0;32m/usr/local/lib/python3.10/dist-packages/IPython/lib/display.py\u001b[0m in \u001b[0;36m__init__\u001b[0;34m(self, data, filename, url, embed, rate, autoplay, normalize, element_id)\u001b[0m\n\u001b[1;32m    115\u001b[0m             \u001b[0;32mif\u001b[0m \u001b[0mrate\u001b[0m \u001b[0;32mis\u001b[0m \u001b[0;32mNone\u001b[0m\u001b[0;34m:\u001b[0m\u001b[0;34m\u001b[0m\u001b[0;34m\u001b[0m\u001b[0m\n\u001b[1;32m    116\u001b[0m                 \u001b[0;32mraise\u001b[0m \u001b[0mValueError\u001b[0m\u001b[0;34m(\u001b[0m\u001b[0;34m\"rate must be specified when data is a numpy array or list of audio samples.\"\u001b[0m\u001b[0;34m)\u001b[0m\u001b[0;34m\u001b[0m\u001b[0;34m\u001b[0m\u001b[0m\n\u001b[0;32m--> 117\u001b[0;31m             \u001b[0mself\u001b[0m\u001b[0;34m.\u001b[0m\u001b[0mdata\u001b[0m \u001b[0;34m=\u001b[0m \u001b[0mAudio\u001b[0m\u001b[0;34m.\u001b[0m\u001b[0m_make_wav\u001b[0m\u001b[0;34m(\u001b[0m\u001b[0mdata\u001b[0m\u001b[0;34m,\u001b[0m \u001b[0mrate\u001b[0m\u001b[0;34m,\u001b[0m \u001b[0mnormalize\u001b[0m\u001b[0;34m)\u001b[0m\u001b[0;34m\u001b[0m\u001b[0;34m\u001b[0m\u001b[0m\n\u001b[0m\u001b[1;32m    118\u001b[0m \u001b[0;34m\u001b[0m\u001b[0m\n\u001b[1;32m    119\u001b[0m     \u001b[0;32mdef\u001b[0m \u001b[0mreload\u001b[0m\u001b[0;34m(\u001b[0m\u001b[0mself\u001b[0m\u001b[0;34m)\u001b[0m\u001b[0;34m:\u001b[0m\u001b[0;34m\u001b[0m\u001b[0;34m\u001b[0m\u001b[0m\n",
            "\u001b[0;32m/usr/local/lib/python3.10/dist-packages/IPython/lib/display.py\u001b[0m in \u001b[0;36m_make_wav\u001b[0;34m(data, rate, normalize)\u001b[0m\n\u001b[1;32m    137\u001b[0m \u001b[0;34m\u001b[0m\u001b[0m\n\u001b[1;32m    138\u001b[0m         \u001b[0;32mtry\u001b[0m\u001b[0;34m:\u001b[0m\u001b[0;34m\u001b[0m\u001b[0;34m\u001b[0m\u001b[0m\n\u001b[0;32m--> 139\u001b[0;31m             \u001b[0mscaled\u001b[0m\u001b[0;34m,\u001b[0m \u001b[0mnchan\u001b[0m \u001b[0;34m=\u001b[0m \u001b[0mAudio\u001b[0m\u001b[0;34m.\u001b[0m\u001b[0m_validate_and_normalize_with_numpy\u001b[0m\u001b[0;34m(\u001b[0m\u001b[0mdata\u001b[0m\u001b[0;34m,\u001b[0m \u001b[0mnormalize\u001b[0m\u001b[0;34m)\u001b[0m\u001b[0;34m\u001b[0m\u001b[0;34m\u001b[0m\u001b[0m\n\u001b[0m\u001b[1;32m    140\u001b[0m         \u001b[0;32mexcept\u001b[0m \u001b[0mImportError\u001b[0m\u001b[0;34m:\u001b[0m\u001b[0;34m\u001b[0m\u001b[0;34m\u001b[0m\u001b[0m\n\u001b[1;32m    141\u001b[0m             \u001b[0mscaled\u001b[0m\u001b[0;34m,\u001b[0m \u001b[0mnchan\u001b[0m \u001b[0;34m=\u001b[0m \u001b[0mAudio\u001b[0m\u001b[0;34m.\u001b[0m\u001b[0m_validate_and_normalize_without_numpy\u001b[0m\u001b[0;34m(\u001b[0m\u001b[0mdata\u001b[0m\u001b[0;34m,\u001b[0m \u001b[0mnormalize\u001b[0m\u001b[0;34m)\u001b[0m\u001b[0;34m\u001b[0m\u001b[0;34m\u001b[0m\u001b[0m\n",
            "\u001b[0;32m/usr/local/lib/python3.10/dist-packages/IPython/lib/display.py\u001b[0m in \u001b[0;36m_validate_and_normalize_with_numpy\u001b[0;34m(data, normalize)\u001b[0m\n\u001b[1;32m    168\u001b[0m             \u001b[0mdata\u001b[0m \u001b[0;34m=\u001b[0m \u001b[0mdata\u001b[0m\u001b[0;34m.\u001b[0m\u001b[0mT\u001b[0m\u001b[0;34m.\u001b[0m\u001b[0mravel\u001b[0m\u001b[0;34m(\u001b[0m\u001b[0;34m)\u001b[0m\u001b[0;34m\u001b[0m\u001b[0;34m\u001b[0m\u001b[0m\n\u001b[1;32m    169\u001b[0m         \u001b[0;32melse\u001b[0m\u001b[0;34m:\u001b[0m\u001b[0;34m\u001b[0m\u001b[0;34m\u001b[0m\u001b[0m\n\u001b[0;32m--> 170\u001b[0;31m             \u001b[0;32mraise\u001b[0m \u001b[0mValueError\u001b[0m\u001b[0;34m(\u001b[0m\u001b[0;34m'Array audio input must be a 1D or 2D array'\u001b[0m\u001b[0;34m)\u001b[0m\u001b[0;34m\u001b[0m\u001b[0;34m\u001b[0m\u001b[0m\n\u001b[0m\u001b[1;32m    171\u001b[0m \u001b[0;34m\u001b[0m\u001b[0m\n\u001b[1;32m    172\u001b[0m         \u001b[0mmax_abs_value\u001b[0m \u001b[0;34m=\u001b[0m \u001b[0mnp\u001b[0m\u001b[0;34m.\u001b[0m\u001b[0mmax\u001b[0m\u001b[0;34m(\u001b[0m\u001b[0mnp\u001b[0m\u001b[0;34m.\u001b[0m\u001b[0mabs\u001b[0m\u001b[0;34m(\u001b[0m\u001b[0mdata\u001b[0m\u001b[0;34m)\u001b[0m\u001b[0;34m)\u001b[0m\u001b[0;34m\u001b[0m\u001b[0;34m\u001b[0m\u001b[0m\n",
            "\u001b[0;31mValueError\u001b[0m: Array audio input must be a 1D or 2D array"
          ]
        }
      ]
    },
    {
      "cell_type": "code",
      "source": [
        "audioBack = tfio.audio.inverse_spectrogram(\n",
        "    spec, nfft, window, stride, iterations=30\n",
        ")\n",
        "Audio(audioBack,rate=8000)"
      ],
      "metadata": {
        "colab": {
          "base_uri": "https://localhost:8080/",
          "height": 75
        },
        "id": "aciNzpR_S9KZ",
        "outputId": "9054a634-36a0-4cb9-edf6-20b6fe32a17e"
      },
      "id": "aciNzpR_S9KZ",
      "execution_count": 32,
      "outputs": [
        {
          "output_type": "execute_result",
          "data": {
            "text/plain": [
              "<IPython.lib.display.Audio object>"
            ],
            "text/html": [
              "\n",
              "                <audio  controls=\"controls\" >\n",
              "                    <source src=\"data:audio/wav;base64,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\" type=\"audio/wav\" />\n",
              "                    Your browser does not support the audio element.\n",
              "                </audio>\n",
              "              "
            ]
          },
          "metadata": {},
          "execution_count": 32
        }
      ]
    },
    {
      "cell_type": "code",
      "execution_count": null,
      "id": "3988dcf1-9a40-4fee-b361-2ef075067103",
      "metadata": {
        "id": "3988dcf1-9a40-4fee-b361-2ef075067103"
      },
      "outputs": [],
      "source": [
        "class SoundGenerator:\n",
        "  \"\"\"SoundGenerator is responsible\n",
        "  for generating audios from spectrograms\"\"\"\n",
        "\n",
        "\n",
        "\n",
        "  def audio_to_spectrogram(self, spectrograms, min_max_values):\n",
        "\n",
        "    return 1\n",
        "\n",
        "  def spectrogram_to_audio(self, spectrograms, min_max_values):\n",
        "\n",
        "    return 2\n",
        "\n"
      ]
    },
    {
      "cell_type": "code",
      "execution_count": 56,
      "id": "0c262c59-1f54-4756-80d5-5fe381c9f896",
      "metadata": {
        "id": "0c262c59-1f54-4756-80d5-5fe381c9f896"
      },
      "outputs": [],
      "source": [
        "import numpy as np\n",
        "from matplotlib import pyplot as plt\n",
        "import seaborn as sns\n",
        "\n",
        "from os import listdir\n",
        "from os.path import join\n",
        "from scipy.io import wavfile\n",
        "import IPython.display as ipd\n",
        "from librosa.effects import trim # trimming signal\n",
        "X = []\n",
        "for data in ds_whole:\n",
        "    X.append(data['audio'].numpy())"
      ]
    },
    {
      "cell_type": "code",
      "execution_count": null,
      "id": "79263934",
      "metadata": {
        "colab": {
          "base_uri": "https://localhost:8080/"
        },
        "id": "79263934",
        "outputId": "2c5277c8-e7ce-4caf-f2aa-2cce7aa1ac74"
      },
      "outputs": [
        {
          "output_type": "execute_result",
          "data": {
            "text/plain": [
              "array([   0,    0, -256, ..., -512, -256, -512])"
            ]
          },
          "metadata": {},
          "execution_count": 91
        }
      ],
      "source": [
        "X[0]"
      ]
    },
    {
      "cell_type": "code",
      "execution_count": 57,
      "id": "0411ac39",
      "metadata": {
        "id": "0411ac39"
      },
      "outputs": [],
      "source": [
        "def show_length_distribution(signals, rate = 8000):\n",
        "    sampel_times = [len(x)/rate for x in signals]\n",
        "    f, (ax_box, ax_hist) = plt.subplots(2, sharex=True, gridspec_kw={\"height_ratios\": (.20, .80)})\n",
        "    # Add a graph in each part\n",
        "    sns.boxplot(x = sampel_times, ax=ax_box, linewidth = 0.9, color=  '#9af772')\n",
        "    sns.histplot(x = sampel_times, ax=ax_hist, bins = 'fd', kde = True)\n",
        "    # Remove x axis name for the boxplot\n",
        "    ax_box.set(xlabel='')\n",
        "    title = 'Audio signal lengths'\n",
        "    x_label = 'duration (seconds)'\n",
        "    y_label = 'count'\n",
        "\n",
        "    plt.suptitle(title)\n",
        "    ax_hist.set_xlabel(x_label)\n",
        "    ax_hist.set_ylabel(y_label)\n",
        "    plt.show()\n",
        "    return sampel_times"
      ]
    },
    {
      "cell_type": "code",
      "execution_count": 58,
      "id": "3ec6071b-537f-4c81-b5ea-3927ff848d33",
      "metadata": {
        "colab": {
          "base_uri": "https://localhost:8080/",
          "height": 497
        },
        "id": "3ec6071b-537f-4c81-b5ea-3927ff848d33",
        "outputId": "c95d0b34-73e3-426a-b115-2a1ff6d1de5e"
      },
      "outputs": [
        {
          "output_type": "display_data",
          "data": {
            "text/plain": [
              "<Figure size 640x480 with 2 Axes>"
            ],
            "image/png": "[encoded data removed]"
          },
          "metadata": {}
        }
      ],
      "source": [
        "a = show_length_distribution(X)"
      ]
    },
    {
      "cell_type": "code",
      "execution_count": null,
      "id": "a371d63a-bbae-4f2e-826e-d29c7daa0bb2",
      "metadata": {
        "id": "a371d63a-bbae-4f2e-826e-d29c7daa0bb2"
      },
      "outputs": [],
      "source": [
        "# show longest signal\n",
        "\n",
        "# show shortest signal"
      ]
    },
    {
      "cell_type": "code",
      "execution_count": 59,
      "id": "c0df1852-1e02-42bb-a709-abb2cee9a179",
      "metadata": {
        "colab": {
          "base_uri": "https://localhost:8080/",
          "height": 510
        },
        "id": "c0df1852-1e02-42bb-a709-abb2cee9a179",
        "outputId": "e4530cb3-9397-4b95-82b6-4c514365a596"
      },
      "outputs": [
        {
          "output_type": "execute_result",
          "data": {
            "text/plain": [
              "<IPython.lib.display.Audio object>"
            ],
            "text/html": [
              "\n",
              "                <audio  controls=\"controls\" >\n",
              "                    <source src=\"data:audio/wav;base64,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\" type=\"audio/wav\" />\n",
              "                    Your browser does not support the audio element.\n",
              "                </audio>\n",
              "              "
            ]
          },
          "metadata": {},
          "execution_count": 59
        },
        {
          "output_type": "display_data",
          "data": {
            "text/plain": [
              "<Figure size 640x480 with 1 Axes>"
            ],
            "image/png": "[encoded data removed]"
          },
          "metadata": {}
        }
      ],
      "source": [
        "rate = 8000\n",
        "Longest_audio = np.argmax([len(x) for x in X])\n",
        "plt.plot(X[Longest_audio])\n",
        "plt.title(\"Longest audio signal\");\n",
        "\n",
        "\n",
        "ipd.Audio(X[Longest_audio], rate=rate)\n",
        "\n",
        "# https://www.kaggle.com/code/nagarmanthan/audio-processing-eda/notebook"
      ]
    },
    {
      "cell_type": "code",
      "execution_count": null,
      "id": "3dc44741-a7a8-4e30-a52d-782299e9db2d",
      "metadata": {
        "colab": {
          "base_uri": "https://localhost:8080/",
          "height": 510
        },
        "id": "3dc44741-a7a8-4e30-a52d-782299e9db2d",
        "outputId": "104b2f61-95a1-460b-d440-1397ceaf735a"
      },
      "outputs": [
        {
          "output_type": "execute_result",
          "data": {
            "text/plain": [
              "<IPython.lib.display.Audio object>"
            ],
            "text/html": [
              "\n",
              "                <audio  controls=\"controls\" >\n",
              "                    <source src=\"data:audio/wav;base64,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\" type=\"audio/wav\" />\n",
              "                    Your browser does not support the audio element.\n",
              "                </audio>\n",
              "              "
            ]
          },
          "metadata": {},
          "execution_count": 95
        },
        {
          "output_type": "display_data",
          "data": {
            "text/plain": [
              "<Figure size 640x480 with 1 Axes>"
            ],
            "image/png": "[encoded data removed]"
          },
          "metadata": {}
        }
      ],
      "source": [
        "Shortest_audio = np.argmin([len(x) for x in X])\n",
        "plt.plot(X[Shortest_audio])\n",
        "plt.title(\"Shortest audio signal\");\n",
        "\n",
        "ipd.Audio(X[Shortest_audio], rate=rate)"
      ]
    },
    {
      "cell_type": "code",
      "source": [
        "X[Longest_audio][-5:]"
      ],
      "metadata": {
        "colab": {
          "base_uri": "https://localhost:8080/"
        },
        "id": "9p38hW__XApm",
        "outputId": "711d1a3c-d8b5-4cc1-b708-f7adfd05f330"
      },
      "id": "9p38hW__XApm",
      "execution_count": null,
      "outputs": [
        {
          "output_type": "execute_result",
          "data": {
            "text/plain": [
              "array([  7,   6, -28, -39, -30])"
            ]
          },
          "metadata": {},
          "execution_count": 101
        }
      ]
    },
    {
      "cell_type": "code",
      "execution_count": null,
      "id": "095d2267-12bd-4a54-a1c3-b358def812d5",
      "metadata": {
        "id": "095d2267-12bd-4a54-a1c3-b358def812d5"
      },
      "outputs": [],
      "source": [
        "# by default anything below 10 db is considered as silence\n",
        "def remove_silence(sample, sr= 8000, top_db = 10):\n",
        "    \"\"\"This function removes trailing and leading silence periods of audio signals.\n",
        "    \"\"\"\n",
        "    y = np.array(sample, dtype = np.float64)\n",
        "    # Trim the beginning and ending silence\n",
        "    yt, _ = trim(y, top_db= top_db)\n",
        "    return yt"
      ]
    },
    {
      "cell_type": "code",
      "execution_count": null,
      "id": "164f3c4c-4bfb-4fa2-b569-eb1b1b573928",
      "metadata": {
        "colab": {
          "base_uri": "https://localhost:8080/",
          "height": 497
        },
        "id": "164f3c4c-4bfb-4fa2-b569-eb1b1b573928",
        "outputId": "98198f7b-e8db-49ff-e086-50da45e1e8ba"
      },
      "outputs": [
        {
          "output_type": "display_data",
          "data": {
            "text/plain": [
              "<Figure size 640x480 with 2 Axes>"
            ],
            "image/png": "[encoded data removed]"
          },
          "metadata": {}
        }
      ],
      "source": [
        "X_tr = [remove_silence(x) for x in X]\n",
        "\n",
        "show_length_distribution(X_tr);"
      ]
    },
    {
      "cell_type": "code",
      "execution_count": 157,
      "id": "093d6ace-8ae6-484e-a4f1-80219aea172b",
      "metadata": {
        "id": "093d6ace-8ae6-484e-a4f1-80219aea172b",
        "colab": {
          "base_uri": "https://localhost:8080/",
          "height": 497
        },
        "outputId": "92c8840f-6904-4e6d-fb6f-53e6ed8ed8b8"
      },
      "outputs": [
        {
          "output_type": "display_data",
          "data": {
            "text/plain": [
              "<Figure size 640x480 with 2 Axes>"
            ],
            "image/png": "[encoded data removed]"
          },
          "metadata": {}
        }
      ],
      "source": [
        "# Plotting the Frequency Spectrum of the signal\n",
        "# Plot the spectrogram of power on log scale\n",
        "\n",
        "# fig, ax = plt.subplots(figsize = (8,6))\n",
        "\n",
        "powerSpectrum, freqenciesFound, time, imageAxis = plt.specgram(X[np.random.randint(100)], Fs=rate, scale = \"dB\")\n",
        "cbar = plt.gcf().colorbar(imageAxis)\n",
        "cbar.set_label('db')\n",
        "plt.grid()\n",
        "plt.suptitle(\"Spectrogram of a signal\")\n",
        "plt.xlabel('Time')\n",
        "plt.ylabel('Frequency')\n",
        "plt.show()\n"
      ]
    },
    {
      "cell_type": "markdown",
      "id": "520aa593-fcf9-42cd-89b5-b1e7251d53ec",
      "metadata": {
        "id": "520aa593-fcf9-42cd-89b5-b1e7251d53ec"
      },
      "source": [
        "### Question 2 (Total 25 marks)"
      ]
    },
    {
      "cell_type": "markdown",
      "id": "ea9dbbbe-a38e-446d-a32a-245a82407b03",
      "metadata": {
        "id": "ea9dbbbe-a38e-446d-a32a-245a82407b03"
      },
      "source": [
        "a) In the VQ-VAE, the variational posterior output by the encoder is deterministic:\n",
        "\n",
        "$$q_\\phi(z = e_k \\mid x) = \\left\\{\n",
        "\\begin{array}{l}\n",
        "~1 \\quad\\textrm{for}\\quad k=\\underset{j}{\\arg\\min} ||E(x) - e_j||\\\\\n",
        "~0 \\quad\\textrm{otherwise}\n",
        "\\end{array}\n",
        "\\right.\n",
        "$$\n",
        "\n",
        "where in the above, $\\phi$ represents the parameters of the encoder. Show that by choosing a simple uniform distribution over the codebook vectors $e_i$ as the prior distribution $p(z)$, the KL-divergence term of the ELBO objective is equal to a constant.\n",
        "\n",
        "**(5 marks)**"
      ]
    },
    {
      "cell_type": "markdown",
      "id": "7bb9446a-37b7-4ed2-91e4-3ec8e83c9b17",
      "metadata": {
        "id": "7bb9446a-37b7-4ed2-91e4-3ec8e83c9b17"
      },
      "source": [
        "We have\n",
        "\n",
        "\n",
        "\\begin{align}\n",
        "D_{KL}\\left( q_\\phi({z}\\mid{x}) || p_\\theta({z}) \\right) = \\sum_{k}^{K} q_\\phi(z = e_k\\mid x)\\log\\left(\\frac{q_\\phi({z = e_k}\\mid{x})}{p_\\theta({z})}\\right)\n",
        "\\end{align}\n",
        "\n",
        "And we know that  $p_{\\theta(z)}=\\frac{1}{K}$ Therefore we have:\n",
        "\n",
        "\\begin{align}\n",
        "D_{KL}\\left( q_\\phi({z}\\mid{x}) || p_\\theta({z}) \\right) &= \\log(K) \\ \\sum_{k}^{K} q_\\phi(z = e_k\\mid{x}) +  \\sum_{k}^{K} q_\\phi(z = e_k\\mid x)\\log\\left(q_\\phi(z = e_k \\mid x)\\right) \\\\\n",
        "& = \\log(K) + 0 = \\log(K) \\text{ since } f(u) = u \\log(u) \\text{ is zero at } x=0\n",
        "\\end{align}\n",
        "\n",
        "$"
      ]
    },
    {
      "cell_type": "markdown",
      "id": "74a058d0-4fd1-4d26-965f-d810c3b6ffd3",
      "metadata": {
        "id": "74a058d0-4fd1-4d26-965f-d810c3b6ffd3"
      },
      "source": [
        "b) The VQ-VAE as described above has an implementation that is available on the Keras website [here](https://keras.io/examples/generative/vq_vae/). In particular, the implementation of the vector quantisation and addition of the codebook and commitment loss is done with the `VectorQuantizer` layer.\n",
        "\n",
        "You should write your own custom Layer class that is based on the `VectorQuantizer` layer, but with the following amendments:\n",
        "\n",
        "1) The codebook loss should be removed, and instead the layer should use exponential moving average updates for the codebook during training, as follows:\n",
        "$$\n",
        "N_i^{(t)} := N_i^{(t-1)} * \\gamma + n_i^{(t)}(1 - \\gamma),\\quad m_i^{(t)} := m_i^{(t-1)} * \\gamma + \\sum_j^{n_i^{(t)}} E(x)_{i,j}^{(t)}(1-\\gamma),\\quad e_i^{(t)} :=\\frac{m_i^{(t)}}{N_i^{(t)}},\\qquad i=1,\\ldots,K\n",
        "$$\n",
        "where $n_i^{(t)}$ is the number of vectors in $E(x)$ in the minibatch that are quantized to codebook vector $e_i$ (cluster size), and $0 < \\gamma < 1$ is a decay parameter, normally set to $\\gamma=0.99$ as default. The moving averages are typically initialised as $m_i^{(0)} = e_i^{(0)}$ and $N_i^{(0)} = 0$. Note that the above update is independent of the gradient-based optimizer used to update the parameters of the encoder and decoder networks.\n",
        "\n",
        "2) In place of the (single) codebook vector quantisation, your custom Layer class should use _residual vector quantisation_ (RVQ). This is a multi-stage vector quantiser, which involves $N_q$ layers of vector quantisation as follows. Define a sequence of codebooks $\\mathbf{e}^{(j)}\\in\\mathbb{R}^{K\\times D}$, $j=1,\\ldots,N_q$. Codebook $\\mathbf{e}^{(j)}$ consists of $K$ latent embedding vectors $e_i^{(j)}$, each of dimension $D$ as before.\n",
        "\n",
        "The encoder output $E(x)$ is first quantised using the first codebook:\n",
        "\n",
        "$$VQ^{(1)}(E(x)) = e_k^{(1)},\\quad\\textrm{where }k = \\underset{j}{\\arg\\min}||E(x) - e_j^{(1)}||_2,$$\n",
        "    \n",
        "The residual $\\hat{e}^{(1)} := E(x) - VQ^{(1)}(E(x))$ is then quantised using the second codebook to give $VQ^{(2)}(\\hat{e}^{(1)})$, and so on. The RVQ layer then sends the sum of the quantised vectors on to the decoder. The algorithm is summarised in the following pseudocode.\n",
        "\n",
        "<img src=\"figures/rvq_pseudocode.png\" alt=\"RVQ pseudocode\" style=\"width: 450px;\"/>\n",
        "\n",
        "**(15 marks)**"
      ]
    },
    {
      "cell_type": "code",
      "execution_count": null,
      "id": "d2e19c90-b423-4d25-94aa-90e89b9da38c",
      "metadata": {
        "id": "d2e19c90-b423-4d25-94aa-90e89b9da38c"
      },
      "outputs": [],
      "source": [
        "\n",
        "## exploded version 1\n",
        "w_init = tf.random_uniform_initializer()\n",
        "w = tf.Variable(\n",
        "            initial_value=w_init(\n",
        "                shape=(5, 3), dtype=\"float32\"\n",
        "            ),\n",
        "            trainable=False,\n",
        "            name=\"embeddings_vqvae\",\n",
        "        )\n",
        "\n",
        "\n",
        "epsilon = 1e-5\n",
        "batch_dim = 3\n",
        "training = True\n",
        "\n",
        "x = tf.random.gamma((3, 6), alpha=2., beta=2.)\n",
        "num_embeddings = 4\n",
        "embedding_dim  = 2\n",
        "beta = 0.25\n",
        "decay = 0.99\n",
        "tf.random.set_seed(1)\n",
        "w_init = tf.random_uniform_initializer()\n",
        "embeddings = tf.Variable(\n",
        "            initial_value = w_init(\n",
        "                shape=(embedding_dim, num_embeddings), dtype=\"float32\"\n",
        "            ),\n",
        "            trainable=False, # since we will use the moving average\n",
        "            name=\"embeddings_vqvae\",\n",
        "        )\n",
        "\n",
        "ma_denominator = tf.Variable([0.0]*num_embeddings,trainable=False, name='ema_cluster_size')\n",
        "ma_numerator   = tf.Variable(embeddings, trainable=False, name='ema_sum_weights')\n",
        "input_shape    = tf.shape(x)\n",
        "flattened      = tf.reshape(x, [-1, embedding_dim])\n",
        "similarity     = tf.matmul(flattened, embeddings)\n",
        "distances       = (tf.reduce_sum(flattened ** 2, axis=1, keepdims=True)\n",
        "                + tf.reduce_sum(embeddings ** 2, axis=0)\n",
        "                - 2 * similarity)\n",
        "# Derive the indices for minimum distances.\n",
        "encoding_indices = tf.argmin(distances, axis=1)\n",
        "encoding_indices\n",
        "encodings = tf.one_hot(encoding_indices, num_embeddings)\n",
        "quantized = tf.matmul(encodings, embeddings, transpose_b=True)\n",
        "#quantized = tf.reshape(quantized, input_shape)\n",
        "#commitment_loss = tf.reduce_mean((tf.stop_gradient(quantized) - x) ** 2)\n",
        "if training:\n",
        "    nit = tf.cast(tf.reduce_sum(encodings, 0), tf.float32)\n",
        "    ma_denominator =  decay*ma_denominator + (1-decay)*nit\n",
        "    quantized_zij = tf.matmul(flattened, encodings, transpose_a = True)\n",
        "    ma_numerator = decay*ma_numerator+(1-decay)*quantized_zij\n",
        "    embeddings = ma_numerator / ma_denominator\n",
        "\n",
        "## finish\n",
        "\n",
        "# Straight-through estimator.\n",
        "#quantized = x + tf.stop_gradient(quantized - x)\n"
      ]
    },
    {
      "cell_type": "code",
      "execution_count": null,
      "id": "07427b43-96e9-4f85-ba5e-e43c31bd27fb",
      "metadata": {
        "id": "07427b43-96e9-4f85-ba5e-e43c31bd27fb",
        "outputId": "a967474d-e0d7-45e4-9ddd-13c757b393d0"
      },
      "outputs": [
        {
          "data": {
            "text/plain": [
              "<tf.Tensor: shape=(2, 4), dtype=float32, numpy=\n",
              "array([[-0.03315205,  0.09335099,  0.04973616, -0.00647993],\n",
              "       [-0.02059804,  0.03257543,  0.13546015, -0.00642515]],\n",
              "      dtype=float32)>"
            ]
          },
          "execution_count": 166,
          "metadata": {},
          "output_type": "execute_result"
        }
      ],
      "source": [
        "ma_numerator"
      ]
    },
    {
      "cell_type": "code",
      "execution_count": null,
      "id": "7d26a230-aca4-49ba-8819-06e1c0779af9",
      "metadata": {
        "scrolled": true,
        "id": "7d26a230-aca4-49ba-8819-06e1c0779af9",
        "outputId": "4be188cf-ad5a-421a-bd81-2fb27760d707"
      },
      "outputs": [
        {
          "name": "stdout",
          "output_type": "stream",
          "text": [
            "<tf.Variable 'Variable:0' shape=(16, 12) dtype=float32, numpy=\n",
            "array([[0., 0., 0., 0., 0., 0., 0., 0., 0., 0., 0., 0.],\n",
            "       [0., 0., 0., 0., 0., 0., 0., 0., 0., 0., 0., 0.],\n",
            "       [0., 0., 0., 0., 0., 0., 0., 0., 0., 0., 0., 0.],\n",
            "       [0., 0., 0., 0., 0., 0., 0., 0., 0., 0., 0., 0.],\n",
            "       [0., 0., 0., 0., 0., 0., 0., 0., 0., 0., 0., 0.],\n",
            "       [0., 0., 0., 0., 0., 0., 0., 0., 0., 0., 0., 0.],\n",
            "       [0., 0., 0., 0., 0., 0., 0., 0., 0., 0., 0., 0.],\n",
            "       [0., 0., 0., 0., 0., 0., 0., 0., 0., 0., 0., 0.],\n",
            "       [0., 0., 0., 0., 0., 0., 0., 0., 0., 0., 0., 0.],\n",
            "       [0., 0., 0., 0., 0., 0., 0., 0., 0., 0., 0., 0.],\n",
            "       [0., 0., 0., 0., 0., 0., 0., 0., 0., 0., 0., 0.],\n",
            "       [0., 0., 0., 0., 0., 0., 0., 0., 0., 0., 0., 0.],\n",
            "       [0., 0., 0., 0., 0., 0., 0., 0., 0., 0., 0., 0.],\n",
            "       [0., 0., 0., 0., 0., 0., 0., 0., 0., 0., 0., 0.],\n",
            "       [0., 0., 0., 0., 0., 0., 0., 0., 0., 0., 0., 0.],\n",
            "       [0., 0., 0., 0., 0., 0., 0., 0., 0., 0., 0., 0.]], dtype=float32)>\n",
            "<tf.Variable 'UnreadVariable' shape=(16, 12) dtype=float32, numpy=\n",
            "array([[ 0.04924924,  0.0101061 ,  0.0048757 , -0.03910435,  0.00610992,\n",
            "         0.0463542 , -0.04019897,  0.0165613 ,  0.04812653,  0.00611021,\n",
            "        -0.01315036,  0.03062565],\n",
            "       [ 0.04924924,  0.0101061 ,  0.0048757 , -0.03910435,  0.00610992,\n",
            "         0.0463542 , -0.04019897,  0.0165613 ,  0.04812653,  0.00611021,\n",
            "        -0.01315036,  0.03062565],\n",
            "       [ 0.04924924,  0.0101061 ,  0.0048757 , -0.03910435,  0.00610992,\n",
            "         0.0463542 , -0.04019897,  0.0165613 ,  0.04812653,  0.00611021,\n",
            "        -0.01315036,  0.03062565],\n",
            "       [ 0.04924924,  0.0101061 ,  0.0048757 , -0.03910435,  0.00610992,\n",
            "         0.0463542 , -0.04019897,  0.0165613 ,  0.04812653,  0.00611021,\n",
            "        -0.01315036,  0.03062565],\n",
            "       [-0.00564682, -0.01541504,  0.0252698 ,  0.00495271,  0.0373818 ,\n",
            "         0.04284838, -0.02185035,  0.03333335,  0.04428265, -0.04573674,\n",
            "        -0.03033185,  0.01453639],\n",
            "       [-0.00564682, -0.01541504,  0.0252698 ,  0.00495271,  0.0373818 ,\n",
            "         0.04284838, -0.02185035,  0.03333335,  0.04428265, -0.04573674,\n",
            "        -0.03033185,  0.01453639],\n",
            "       [ 0.04924924,  0.0101061 ,  0.0048757 , -0.03910435,  0.00610992,\n",
            "         0.0463542 , -0.04019897,  0.0165613 ,  0.04812653,  0.00611021,\n",
            "        -0.01315036,  0.03062565],\n",
            "       [ 0.04924924,  0.0101061 ,  0.0048757 , -0.03910435,  0.00610992,\n",
            "         0.0463542 , -0.04019897,  0.0165613 ,  0.04812653,  0.00611021,\n",
            "        -0.01315036,  0.03062565],\n",
            "       [-0.00564682, -0.01541504,  0.0252698 ,  0.00495271,  0.0373818 ,\n",
            "         0.04284838, -0.02185035,  0.03333335,  0.04428265, -0.04573674,\n",
            "        -0.03033185,  0.01453639],\n",
            "       [-0.00564682, -0.01541504,  0.0252698 ,  0.00495271,  0.0373818 ,\n",
            "         0.04284838, -0.02185035,  0.03333335,  0.04428265, -0.04573674,\n",
            "        -0.03033185,  0.01453639],\n",
            "       [ 0.04924924,  0.0101061 ,  0.0048757 , -0.03910435,  0.00610992,\n",
            "         0.0463542 , -0.04019897,  0.0165613 ,  0.04812653,  0.00611021,\n",
            "        -0.01315036,  0.03062565],\n",
            "       [ 0.04924924,  0.0101061 ,  0.0048757 , -0.03910435,  0.00610992,\n",
            "         0.0463542 , -0.04019897,  0.0165613 ,  0.04812653,  0.00611021,\n",
            "        -0.01315036,  0.03062565],\n",
            "       [ 0.0010107 ,  0.01886639, -0.00433757,  0.00489153,  0.01309114,\n",
            "        -0.02060658,  0.01859326,  0.04760971, -0.03438318,  0.04833368,\n",
            "        -0.01164556, -0.02765191],\n",
            "       [ 0.04924924,  0.0101061 ,  0.0048757 , -0.03910435,  0.00610992,\n",
            "         0.0463542 , -0.04019897,  0.0165613 ,  0.04812653,  0.00611021,\n",
            "        -0.01315036,  0.03062565],\n",
            "       [ 0.0010107 ,  0.01886639, -0.00433757,  0.00489153,  0.01309114,\n",
            "        -0.02060658,  0.01859326,  0.04760971, -0.03438318,  0.04833368,\n",
            "        -0.01164556, -0.02765191],\n",
            "       [ 0.0010107 ,  0.01886639, -0.00433757,  0.00489153,  0.01309114,\n",
            "        -0.02060658,  0.01859326,  0.04760971, -0.03438318,  0.04833368,\n",
            "        -0.01164556, -0.02765191]], dtype=float32)>\n",
            "<tf.Variable 'UnreadVariable' shape=(16, 12) dtype=float32, numpy=\n",
            "array([[ 0.08217698,  0.01819638,  0.00406654, -0.00424878, -0.01590814,\n",
            "         0.09286942, -0.05784553, -0.01814966,  0.09506979,  0.02376847,\n",
            "         0.02513882,  0.07786103],\n",
            "       [ 0.08217698,  0.01819638,  0.00406654, -0.00424878, -0.01590814,\n",
            "         0.09286942, -0.05784553, -0.01814966,  0.09506979,  0.02376847,\n",
            "         0.02513882,  0.07786103],\n",
            "       [ 0.08217698,  0.01819638,  0.00406654, -0.00424878, -0.01590814,\n",
            "         0.09286942, -0.05784553, -0.01814966,  0.09506979,  0.02376847,\n",
            "         0.02513882,  0.07786103],\n",
            "       [ 0.08217698,  0.01819638,  0.00406654, -0.00424878, -0.01590814,\n",
            "         0.09286942, -0.05784553, -0.01814966,  0.09506979,  0.02376847,\n",
            "         0.02513882,  0.07786103],\n",
            "       [ 0.02728092, -0.00732476,  0.02446064,  0.03980828,  0.01536375,\n",
            "         0.0893636 , -0.03949691, -0.0013776 ,  0.09122591, -0.02807848,\n",
            "         0.00795733,  0.06177177],\n",
            "       [ 0.02728092, -0.00732476,  0.02446064,  0.03980828,  0.01536375,\n",
            "         0.0893636 , -0.03949691, -0.0013776 ,  0.09122591, -0.02807848,\n",
            "         0.00795733,  0.06177177],\n",
            "       [ 0.08217698,  0.01819638,  0.00406654, -0.00424878, -0.01590814,\n",
            "         0.09286942, -0.05784553, -0.01814966,  0.09506979,  0.02376847,\n",
            "         0.02513882,  0.07786103],\n",
            "       [ 0.08217698,  0.01819638,  0.00406654, -0.00424878, -0.01590814,\n",
            "         0.09286942, -0.05784553, -0.01814966,  0.09506979,  0.02376847,\n",
            "         0.02513882,  0.07786103],\n",
            "       [ 0.02728092, -0.00732476,  0.02446064,  0.03980828,  0.01536375,\n",
            "         0.0893636 , -0.03949691, -0.0013776 ,  0.09122591, -0.02807848,\n",
            "         0.00795733,  0.06177177],\n",
            "       [ 0.02728092, -0.00732476,  0.02446064,  0.03980828,  0.01536375,\n",
            "         0.0893636 , -0.03949691, -0.0013776 ,  0.09122591, -0.02807848,\n",
            "         0.00795733,  0.06177177],\n",
            "       [ 0.08217698,  0.01819638,  0.00406654, -0.00424878, -0.01590814,\n",
            "         0.09286942, -0.05784553, -0.01814966,  0.09506979,  0.02376847,\n",
            "         0.02513882,  0.07786103],\n",
            "       [ 0.08217698,  0.01819638,  0.00406654, -0.00424878, -0.01590814,\n",
            "         0.09286942, -0.05784553, -0.01814966,  0.09506979,  0.02376847,\n",
            "         0.02513882,  0.07786103],\n",
            "       [ 0.03393845,  0.02695667, -0.00514673,  0.0397471 , -0.00892692,\n",
            "         0.02590864,  0.0009467 ,  0.01289876,  0.01256008,  0.06599194,\n",
            "         0.02664362,  0.01958347],\n",
            "       [ 0.08217698,  0.01819638,  0.00406654, -0.00424878, -0.01590814,\n",
            "         0.09286942, -0.05784553, -0.01814966,  0.09506979,  0.02376847,\n",
            "         0.02513882,  0.07786103],\n",
            "       [ 0.03393845,  0.02695667, -0.00514673,  0.0397471 , -0.00892692,\n",
            "         0.02590864,  0.0009467 ,  0.01289876,  0.01256008,  0.06599194,\n",
            "         0.02664362,  0.01958347],\n",
            "       [ 0.03393845,  0.02695667, -0.00514673,  0.0397471 , -0.00892692,\n",
            "         0.02590864,  0.0009467 ,  0.01289876,  0.01256008,  0.06599194,\n",
            "         0.02664362,  0.01958347]], dtype=float32)>\n",
            "<tf.Variable 'UnreadVariable' shape=(16, 12) dtype=float32, numpy=\n",
            "array([[ 0.08254009, -0.00451889,  0.00330713,  0.00890845,  0.01043343,\n",
            "         0.12784633, -0.05090779, -0.03823388,  0.11316487, -0.01918602,\n",
            "         0.06191299,  0.06677254],\n",
            "       [ 0.05605431,  0.05541421,  0.04107412,  0.01432769, -0.04701265,\n",
            "         0.07394546, -0.06348579, -0.03535115,  0.13054462,  0.00132396,\n",
            "        -0.0216518 ,  0.12625828],\n",
            "       [ 0.08254009, -0.00451889,  0.00330713,  0.00890845,  0.01043343,\n",
            "         0.12784633, -0.05090779, -0.03823388,  0.11316487, -0.01918602,\n",
            "         0.06191299,  0.06677254],\n",
            "       [ 0.08254009, -0.00451889,  0.00330713,  0.00890845,  0.01043343,\n",
            "         0.12784633, -0.05090779, -0.03823388,  0.11316487, -0.01918602,\n",
            "         0.06191299,  0.06677254],\n",
            "       [ 0.00115825,  0.02989307,  0.06146821,  0.05838475, -0.01574077,\n",
            "         0.07043964, -0.04513717, -0.0185791 ,  0.12670073, -0.05052299,\n",
            "        -0.0388333 ,  0.11016902],\n",
            "       [ 0.02764404, -0.03004003,  0.02370123,  0.05296551,  0.04170532,\n",
            "         0.1243405 , -0.03255917, -0.02146183,  0.109321  , -0.07103297,\n",
            "         0.0447315 ,  0.05068328],\n",
            "       [ 0.08254009, -0.00451889,  0.00330713,  0.00890845,  0.01043343,\n",
            "         0.12784633, -0.05090779, -0.03823388,  0.11316487, -0.01918602,\n",
            "         0.06191299,  0.06677254],\n",
            "       [ 0.08254009, -0.00451889,  0.00330713,  0.00890845,  0.01043343,\n",
            "         0.12784633, -0.05090779, -0.03823388,  0.11316487, -0.01918602,\n",
            "         0.06191299,  0.06677254],\n",
            "       [ 0.02764404, -0.03004003,  0.02370123,  0.05296551,  0.04170532,\n",
            "         0.1243405 , -0.03255917, -0.02146183,  0.109321  , -0.07103297,\n",
            "         0.0447315 ,  0.05068328],\n",
            "       [ 0.00115825,  0.02989307,  0.06146821,  0.05838475, -0.01574077,\n",
            "         0.07043964, -0.04513717, -0.0185791 ,  0.12670073, -0.05052299,\n",
            "        -0.0388333 ,  0.11016902],\n",
            "       [ 0.05605431,  0.05541421,  0.04107412,  0.01432769, -0.04701265,\n",
            "         0.07394546, -0.06348579, -0.03535115,  0.13054462,  0.00132396,\n",
            "        -0.0216518 ,  0.12625828],\n",
            "       [ 0.08254009, -0.00451889,  0.00330713,  0.00890845,  0.01043343,\n",
            "         0.12784633, -0.05090779, -0.03823388,  0.11316487, -0.01918602,\n",
            "         0.06191299,  0.06677254],\n",
            "       [ 0.00781578,  0.0641745 ,  0.03186085,  0.05832357, -0.04003143,\n",
            "         0.00698468, -0.00469356, -0.00430274,  0.04803491,  0.04354743,\n",
            "        -0.020147  ,  0.06798072],\n",
            "       [ 0.08254009, -0.00451889,  0.00330713,  0.00890845,  0.01043343,\n",
            "         0.12784633, -0.05090779, -0.03823388,  0.11316487, -0.01918602,\n",
            "         0.06191299,  0.06677254],\n",
            "       [ 0.00781578,  0.0641745 ,  0.03186085,  0.05832357, -0.04003143,\n",
            "         0.00698468, -0.00469356, -0.00430274,  0.04803491,  0.04354743,\n",
            "        -0.020147  ,  0.06798072],\n",
            "       [ 0.00781578,  0.0641745 ,  0.03186085,  0.05832357, -0.04003143,\n",
            "         0.00698468, -0.00469356, -0.00430274,  0.04803491,  0.04354743,\n",
            "        -0.020147  ,  0.06798072]], dtype=float32)>\n",
            "<tf.Variable 'UnreadVariable' shape=(16, 12) dtype=float32, numpy=\n",
            "array([[ 0.03887844, -0.01362542,  0.02836832,  0.02437621, -0.02394077,\n",
            "         0.13963765, -0.01734685, -0.07830915,  0.06822903,  0.01010821,\n",
            "         0.0788465 ,  0.10743718],\n",
            "       [ 0.01239266,  0.04630768,  0.06613531,  0.02979546, -0.08138685,\n",
            "         0.08573677, -0.02992484, -0.07542641,  0.08560878,  0.03061819,\n",
            "        -0.0047183 ,  0.16692293],\n",
            "       [ 0.10601829,  0.0252982 , -0.03947614, -0.01472526,  0.03595179,\n",
            "         0.17099506, -0.01593605, -0.08308029,  0.1004366 , -0.05509394,\n",
            "         0.07165352,  0.03469098],\n",
            "       [ 0.10601829,  0.0252982 , -0.03947614, -0.01472526,  0.03595179,\n",
            "         0.17099506, -0.01593605, -0.08308029,  0.1004366 , -0.05509394,\n",
            "         0.07165352,  0.03469098],\n",
            "       [-0.0425034 ,  0.02078655,  0.0865294 ,  0.07385252, -0.05011497,\n",
            "         0.08223095, -0.01157622, -0.05865436,  0.08176489, -0.02122876,\n",
            "        -0.02189979,  0.15083367],\n",
            "       [-0.01601762, -0.03914655,  0.04876242,  0.06843327,  0.00733112,\n",
            "         0.13613182,  0.00100178, -0.06153709,  0.06438516, -0.04173874,\n",
            "         0.061665  ,  0.09134792],\n",
            "       [ 0.04676136,  0.01590574, -0.01216124,  0.0214235 ,  0.00451942,\n",
            "         0.09921748, -0.08133829, -0.01100202,  0.09232731, -0.00208601,\n",
            "         0.04305165,  0.09988913],\n",
            "       [ 0.10601829,  0.0252982 , -0.03947614, -0.01472526,  0.03595179,\n",
            "         0.17099506, -0.01593605, -0.08308029,  0.1004366 , -0.05509394,\n",
            "         0.07165352,  0.03469098],\n",
            "       [-0.01601762, -0.03914655,  0.04876242,  0.06843327,  0.00733112,\n",
            "         0.13613182,  0.00100178, -0.06153709,  0.06438516, -0.04173874,\n",
            "         0.061665  ,  0.09134792],\n",
            "       [ 0.02463645,  0.05971017,  0.01868494,  0.03475105,  0.00977759,\n",
            "         0.11358836, -0.01016543, -0.0634255 ,  0.11397246, -0.08643091,\n",
            "        -0.02909277,  0.07808746],\n",
            "       [ 0.01239266,  0.04630768,  0.06613531,  0.02979546, -0.08138685,\n",
            "         0.08573677, -0.02992484, -0.07542641,  0.08560878,  0.03061819,\n",
            "        -0.0047183 ,  0.16692293],\n",
            "       [ 0.10601829,  0.0252982 , -0.03947614, -0.01472526,  0.03595179,\n",
            "         0.17099506, -0.01593605, -0.08308029,  0.1004366 , -0.05509394,\n",
            "         0.07165352,  0.03469098],\n",
            "       [-0.03584588,  0.05506798,  0.05692204,  0.07379134, -0.07440563,\n",
            "         0.01877599,  0.02886739, -0.044378  ,  0.00309907,  0.07284166,\n",
            "        -0.0032135 ,  0.10864536],\n",
            "       [ 0.10601829,  0.0252982 , -0.03947614, -0.01472526,  0.03595179,\n",
            "         0.17099506, -0.01593605, -0.08308029,  0.1004366 , -0.05509394,\n",
            "         0.07165352,  0.03469098],\n",
            "       [-0.03584588,  0.05506798,  0.05692204,  0.07379134, -0.07440563,\n",
            "         0.01877599,  0.02886739, -0.044378  ,  0.00309907,  0.07284166,\n",
            "        -0.0032135 ,  0.10864536],\n",
            "       [-0.03584588,  0.05506798,  0.05692204,  0.07379134, -0.07440563,\n",
            "         0.01877599,  0.02886739, -0.044378  ,  0.00309907,  0.07284166,\n",
            "        -0.0032135 ,  0.10864536]], dtype=float32)>\n",
            "<tf.Variable 'UnreadVariable' shape=(16, 12) dtype=float32, numpy=\n",
            "array([[ 0.01517438, -0.04642456,  0.05623549,  0.01673638,  0.01477687,\n",
            "         0.09198477,  0.01183663, -0.10356234,  0.09353623,  0.03365183,\n",
            "         0.11510423,  0.1387088 ],\n",
            "       [-0.01131141,  0.01350854,  0.09400247,  0.02215562, -0.04266921,\n",
            "         0.03808389, -0.00074137, -0.10067961,  0.11091597,  0.05416181,\n",
            "         0.03153943,  0.19819455],\n",
            "       [ 0.1206018 ,  0.04246854, -0.01020852,  0.01878129,  0.00588037,\n",
            "         0.13917817, -0.06166558, -0.0451961 ,  0.13198629, -0.03298804,\n",
            "         0.0502841 ,  0.06216476],\n",
            "       [ 0.12600887, -0.02255917, -0.00465919, -0.03524671,  0.06665078,\n",
            "         0.17129086, -0.02984061, -0.06457588,  0.05922988, -0.08880132,\n",
            "         0.09347449,  0.06854838],\n",
            "       [-0.06620747, -0.01201259,  0.11439657,  0.06621268, -0.01139733,\n",
            "         0.03457807,  0.01760725, -0.08390755,  0.10707209,  0.00231486,\n",
            "         0.01435794,  0.18210529],\n",
            "       [-0.03972168, -0.0719457 ,  0.07662959,  0.06079343,  0.04604876,\n",
            "         0.08847895,  0.03018525, -0.08679029,  0.08969235, -0.01819512,\n",
            "         0.09792273,  0.12261954],\n",
            "       [ 0.06134487,  0.03307607,  0.01710638,  0.05493005, -0.025552  ,\n",
            "         0.06740059, -0.12706782,  0.02688216,  0.123877  ,  0.0200199 ,\n",
            "         0.02168223,  0.1273629 ],\n",
            "       [ 0.08231422, -0.00750094, -0.01160898, -0.0223651 ,  0.07466944,\n",
            "         0.12334218,  0.01324742, -0.10833348,  0.12574379, -0.03155032,\n",
            "         0.10791126,  0.06596261],\n",
            "       [ 0.00397296, -0.08700392,  0.08357937,  0.04791182,  0.03803011,\n",
            "         0.13642763, -0.01290279, -0.04303269,  0.02317844, -0.07544613,\n",
            "         0.08348598,  0.12520531],\n",
            "       [ 0.03921997,  0.0768805 ,  0.04795256,  0.06825759, -0.02029383,\n",
            "         0.08177148, -0.05589496, -0.02554132,  0.14552215, -0.064325  ,\n",
            "        -0.05046219,  0.10556124],\n",
            "       [ 0.02697617,  0.06347802,  0.09540293,  0.06330201, -0.11145827,\n",
            "         0.05391988, -0.07565437, -0.03754223,  0.11715847,  0.05272409,\n",
            "        -0.02608772,  0.1943967 ],\n",
            "       [ 0.08231422, -0.00750094, -0.01160898, -0.0223651 ,  0.07466944,\n",
            "         0.12334218,  0.01324742, -0.10833348,  0.12574379, -0.03155032,\n",
            "         0.10791126,  0.06596261],\n",
            "       [-0.02126236,  0.07223831,  0.08618966,  0.10729788, -0.10447706,\n",
            "        -0.0130409 , -0.01686214, -0.00649381,  0.03464877,  0.09494756,\n",
            "        -0.02458292,  0.13611914],\n",
            "       [ 0.1206018 ,  0.04246854, -0.01020852,  0.01878129,  0.00588037,\n",
            "         0.13917817, -0.06166558, -0.0451961 ,  0.13198629, -0.03298804,\n",
            "         0.0502841 ,  0.06216476],\n",
            "       [-0.05954994,  0.02226884,  0.0847892 ,  0.0661515 , -0.03568799,\n",
            "        -0.02887689,  0.05805086, -0.06963119,  0.02840626,  0.09638529,\n",
            "         0.03304423,  0.13991699],\n",
            "       [-0.05954994,  0.02226884,  0.0847892 ,  0.0661515 , -0.03568799,\n",
            "        -0.02887689,  0.05805086, -0.06963119,  0.02840626,  0.09638529,\n",
            "         0.03304423,  0.13991699]], dtype=float32)>\n",
            "<tf.Variable 'UnreadVariable' shape=(16, 12) dtype=float32, numpy=\n",
            "array([[ 0.06410801, -0.01223544,  0.09640172,  0.04213601,  0.0015572 ,\n",
            "         0.11454794, -0.03504517, -0.09855619,  0.14024977,  0.07422277,\n",
            "         0.16203912,  0.16400611],\n",
            "       [ 0.03762222,  0.04769766,  0.1341687 ,  0.04755525, -0.05588889,\n",
            "         0.06064706, -0.04762316, -0.09567346,  0.15762952,  0.09473275,\n",
            "         0.07847433,  0.22349186],\n",
            "       [ 0.16953543,  0.07665765,  0.02995771,  0.04418091, -0.00733931,\n",
            "         0.16174135, -0.10854737, -0.04018996,  0.17869984,  0.0075829 ,\n",
            "         0.09721899,  0.08746208],\n",
            "       [ 0.1749425 ,  0.01162995,  0.03550704, -0.00984708,  0.0534311 ,\n",
            "         0.19385403, -0.07672241, -0.05956974,  0.10594343, -0.04823038,\n",
            "         0.14040938,  0.0938457 ],\n",
            "       [-0.01727384,  0.02217652,  0.1545628 ,  0.09161231, -0.02461701,\n",
            "         0.05714124, -0.02927455, -0.07890141,  0.15378563,  0.0428858 ,\n",
            "         0.06129283,  0.2074026 ],\n",
            "       [ 0.00921195, -0.03775658,  0.11679582,  0.08619306,  0.03282908,\n",
            "         0.11104211, -0.01669655, -0.08178414,  0.1364059 ,  0.02237582,\n",
            "         0.14485763,  0.14791685],\n",
            "       [ 0.1102785 ,  0.06726519,  0.05727261,  0.08032968, -0.03877168,\n",
            "         0.08996376, -0.17394961,  0.03188831,  0.17059055,  0.06059084,\n",
            "         0.06861712,  0.15266022],\n",
            "       [ 0.13124785,  0.02668818,  0.02855726,  0.00303453,  0.06144976,\n",
            "         0.14590535, -0.03363437, -0.10332733,  0.17245734,  0.00902062,\n",
            "         0.15484615,  0.09125993],\n",
            "       [ 0.05290659, -0.05281481,  0.12374561,  0.07331145,  0.02481043,\n",
            "         0.1589908 , -0.05978458, -0.03802654,  0.06989199, -0.03487519,\n",
            "         0.13042086,  0.15050262],\n",
            "       [ 0.0881536 ,  0.11106962,  0.08811879,  0.09365723, -0.03351351,\n",
            "         0.10433465, -0.10277675, -0.02053517,  0.1922357 , -0.02375406,\n",
            "        -0.00352729,  0.13085856],\n",
            "       [ 0.0759098 ,  0.09766713,  0.13556916,  0.08870164, -0.12467795,\n",
            "         0.07648305, -0.12253617, -0.03253608,  0.16387202,  0.09329504,\n",
            "         0.02084717,  0.21969402],\n",
            "       [ 0.13124785,  0.02668818,  0.02855726,  0.00303453,  0.06144976,\n",
            "         0.14590535, -0.03363437, -0.10332733,  0.17245734,  0.00902062,\n",
            "         0.15484615,  0.09125993],\n",
            "       [ 0.02767127,  0.10642743,  0.12635589,  0.13269751, -0.11769674,\n",
            "         0.00952227, -0.06374393, -0.00148767,  0.08136231,  0.1355185 ,\n",
            "         0.02235197,  0.16141646],\n",
            "       [ 0.16953543,  0.07665765,  0.02995771,  0.04418091, -0.00733931,\n",
            "         0.16174135, -0.10854737, -0.04018996,  0.17869984,  0.0075829 ,\n",
            "         0.09721899,  0.08746208],\n",
            "       [-0.05250084,  0.05449187,  0.07655885,  0.0188372 , -0.00568168,\n",
            "        -0.01611661,  0.10710136, -0.02954289,  0.00975085,  0.14234798,\n",
            "         0.00056408,  0.09620237],\n",
            "       [-0.05250084,  0.05449187,  0.07655885,  0.0188372 , -0.00568168,\n",
            "        -0.01611661,  0.10710136, -0.02954289,  0.00975085,  0.14234798,\n",
            "         0.00056408,  0.09620237]], dtype=float32)>\n",
            "<tf.Variable 'UnreadVariable' shape=(16, 12) dtype=float32, numpy=\n",
            "array([[ 0.05016001, -0.03102476,  0.13051015,  0.08712292,  0.03723645,\n",
            "         0.09509261, -0.01714207, -0.11675802,  0.13450474,  0.10693862,\n",
            "         0.20064354,  0.18855706],\n",
            "       [ 0.02367422,  0.02890834,  0.16827713,  0.09254217, -0.02020963,\n",
            "         0.04119173, -0.02972006, -0.11387528,  0.1518845 ,  0.12744859,\n",
            "         0.11707875,  0.2480428 ],\n",
            "       [ 0.15558743,  0.05786834,  0.06406614,  0.08916783,  0.02833994,\n",
            "         0.14228602, -0.09064427, -0.05839179,  0.1729548 ,  0.04029875,\n",
            "         0.13582341,  0.11201301],\n",
            "       [ 0.1609945 , -0.00715937,  0.06961547,  0.03513983,  0.08911036,\n",
            "         0.1743987 , -0.05881931, -0.07777156,  0.1001984 , -0.01551454,\n",
            "         0.1790138 ,  0.11839664],\n",
            "       [-0.03122184,  0.00338721,  0.18867123,  0.13659923,  0.01106225,\n",
            "         0.03768592, -0.01137144, -0.09710324,  0.1480406 ,  0.07560164,\n",
            "         0.09989726,  0.23195355],\n",
            "       [-0.00473605, -0.0565459 ,  0.15090425,  0.13117997,  0.06850833,\n",
            "         0.09158678,  0.00120655, -0.09998597,  0.13066086,  0.05509166,\n",
            "         0.18346205,  0.1724678 ],\n",
            "       [ 0.0963305 ,  0.04847588,  0.09138104,  0.12531659, -0.00309243,\n",
            "         0.07050844, -0.15604651,  0.01368648,  0.16484553,  0.09330668,\n",
            "         0.10722154,  0.17721117],\n",
            "       [ 0.11729985,  0.00789886,  0.06266569,  0.04802145,  0.09712902,\n",
            "         0.12645002, -0.01573127, -0.12152916,  0.16671231,  0.04173646,\n",
            "         0.19345057,  0.11581087],\n",
            "       [ 0.03267582, -0.07622796,  0.17026229,  0.08125776,  0.03628216,\n",
            "         0.14209276, -0.04784805, -0.02607041,  0.07262485, -0.08141232,\n",
            "         0.17632362,  0.17758311],\n",
            "       [ 0.0742056 ,  0.09228031,  0.12222722,  0.13864414,  0.00216575,\n",
            "         0.08487932, -0.08487365, -0.038737  ,  0.18649065,  0.00896178,\n",
            "         0.03507713,  0.1554095 ],\n",
            "       [ 0.0619618 ,  0.07887781,  0.16967759,  0.13368855, -0.08899869,\n",
            "         0.05702772, -0.10463306, -0.05073791,  0.15812698,  0.12601088,\n",
            "         0.05945159,  0.24424496],\n",
            "       [ 0.11101708,  0.00327502,  0.07507394,  0.01098084,  0.07292148,\n",
            "         0.12900731, -0.02169784, -0.0913712 ,  0.1751902 , -0.03751651,\n",
            "         0.2007489 ,  0.11834042],\n",
            "       [ 0.01372327,  0.08763812,  0.16046432,  0.17768443, -0.08201748,\n",
            "        -0.00993306, -0.04584083, -0.0196895 ,  0.07561728,  0.16823435,\n",
            "         0.0609564 ,  0.1859674 ],\n",
            "       [ 0.15558743,  0.05786834,  0.06406614,  0.08916783,  0.02833994,\n",
            "         0.14228602, -0.09064427, -0.05839179,  0.1729548 ,  0.04029875,\n",
            "         0.13582341,  0.11201301],\n",
            "       [-0.06644884,  0.03570256,  0.11066729,  0.06382412,  0.02999758,\n",
            "        -0.03557193,  0.12500446, -0.04774472,  0.00400582,  0.17506382,\n",
            "         0.0391685 ,  0.1207533 ],\n",
            "       [-0.06644884,  0.03570256,  0.11066729,  0.06382412,  0.02999758,\n",
            "        -0.03557193,  0.12500446, -0.04774472,  0.00400582,  0.17506382,\n",
            "         0.0391685 ,  0.1207533 ]], dtype=float32)>\n",
            "<tf.Variable 'UnreadVariable' shape=(16, 12) dtype=float32, numpy=\n",
            "array([[ 0.00351376, -0.01211691,  0.08832983,  0.10507368,  0.05141461,\n",
            "         0.09878309, -0.01693102, -0.08811   ,  0.16621153,  0.06391516,\n",
            "         0.22327569,  0.2094611 ],\n",
            "       [ 0.02589452,  0.0391582 ,  0.15405759,  0.07048999,  0.02925185,\n",
            "         0.02586647, -0.00237464, -0.1234103 ,  0.16562445,  0.10564893,\n",
            "         0.11383165,  0.23210642],\n",
            "       [ 0.10894118,  0.07677619,  0.02188582,  0.10711859,  0.04251811,\n",
            "         0.1459765 , -0.09043323, -0.02974376,  0.2046616 , -0.00272471,\n",
            "         0.15845557,  0.13291705],\n",
            "       [ 0.11434825,  0.01174848,  0.02743515,  0.05309059,  0.10328852,\n",
            "         0.17808919, -0.05860826, -0.04912354,  0.1319052 , -0.05853799,\n",
            "         0.20164596,  0.13930067],\n",
            "       [-0.07786809,  0.02229506,  0.1464909 ,  0.15454999,  0.02524041,\n",
            "         0.0413764 , -0.0111604 , -0.06845522,  0.17974739,  0.03257819,\n",
            "         0.1225294 ,  0.2528576 ],\n",
            "       [-0.00251576, -0.04629605,  0.13668472,  0.10912779,  0.11796983,\n",
            "         0.07626152,  0.02855198, -0.10952099,  0.14440082,  0.033292  ,\n",
            "         0.18021494,  0.15653141],\n",
            "       [ 0.11553779,  0.07871267,  0.09596221,  0.13280462,  0.01249923,\n",
            "         0.10355149, -0.17711174, -0.01323801,  0.14162764,  0.07870266,\n",
            "         0.0688072 ,  0.17227902],\n",
            "       [ 0.11952014,  0.01814871,  0.04844615,  0.02596927,  0.1465905 ,\n",
            "         0.11112475,  0.01161415, -0.13106418,  0.18045227,  0.01993681,\n",
            "         0.19020346,  0.09987448],\n",
            "       [-0.00066731, -0.10021178,  0.19830213,  0.0476429 ,  0.04649   ,\n",
            "         0.09571218, -0.01924556,  0.02137196,  0.0542959 , -0.11661869,\n",
            "         0.16318882,  0.16776615],\n",
            "       [ 0.02755935,  0.11118816,  0.0800469 ,  0.1565949 ,  0.01634391,\n",
            "         0.08856981, -0.0846626 , -0.01008898,  0.21819745, -0.03406167,\n",
            "         0.05770928,  0.17631353],\n",
            "       [ 0.01531555,  0.09778567,  0.12749726,  0.15163931, -0.07482053,\n",
            "         0.0607182 , -0.10442202, -0.02208989,  0.18983378,  0.08298743,\n",
            "         0.08208375,  0.265149  ],\n",
            "       [ 0.06437083,  0.02218287,  0.03289362,  0.02893161,  0.08709964,\n",
            "         0.13269779, -0.02148679, -0.06272317,  0.20689699, -0.08053996,\n",
            "         0.22338106,  0.13924445],\n",
            "       [ 0.01594356,  0.09788797,  0.14624478,  0.15563224, -0.03255599,\n",
            "        -0.02525832, -0.01849541, -0.02922451,  0.08935723,  0.1464347 ,\n",
            "         0.05770929,  0.17003101],\n",
            "       [ 0.15780774,  0.06811819,  0.04984661,  0.06711565,  0.07780144,\n",
            "         0.12696075, -0.06329885, -0.0679268 ,  0.18669476,  0.01849909,\n",
            "         0.13257632,  0.09607662],\n",
            "       [-0.06422854,  0.04595241,  0.09644775,  0.04177193,  0.07945906,\n",
            "        -0.05089719,  0.15234987, -0.05727973,  0.01774578,  0.15326416,\n",
            "         0.0359214 ,  0.10481691],\n",
            "       [-0.06422854,  0.04595241,  0.09644775,  0.04177193,  0.07945906,\n",
            "        -0.05089719,  0.15234987, -0.05727973,  0.01774578,  0.15326416,\n",
            "         0.0359214 ,  0.10481691]], dtype=float32)>\n",
            "<tf.Variable 'UnreadVariable' shape=(16, 12) dtype=float32, numpy=\n",
            "array([[ 4.79855463e-02, -4.54809442e-02,  9.22255516e-02,\n",
            "         1.53139889e-01,  2.08143033e-02,  5.85803762e-02,\n",
            "        -1.16357803e-02, -6.34121746e-02,  1.33169532e-01,\n",
            "         1.07985497e-01,  2.07499206e-01,  2.28684798e-01],\n",
            "       [-2.02324055e-03,  8.50061327e-02,  1.69759423e-01,\n",
            "         2.95715407e-02, -9.11362469e-04,  5.53065836e-02,\n",
            "         3.43336277e-02, -1.16747051e-01,  1.87373742e-01,\n",
            "         1.42518684e-01,  6.48548678e-02,  2.73240298e-01],\n",
            "       [ 8.10234249e-02,  1.22624129e-01,  3.75876538e-02,\n",
            "         6.62001446e-02,  1.23548880e-02,  1.75416604e-01,\n",
            "        -5.37249558e-02, -2.30805129e-02,  2.26410881e-01,\n",
            "         3.41450460e-02,  1.09478787e-01,  1.74050942e-01],\n",
            "       [ 1.14919461e-01,  1.98513512e-02,  6.22070394e-02,\n",
            "         1.02523528e-02,  1.22262791e-01,  1.91886306e-01,\n",
            "        -9.70284492e-02, -8.75544846e-02,  1.59466013e-01,\n",
            "        -1.58099532e-02,  2.46825337e-01,  1.36168018e-01],\n",
            "       [-1.05785847e-01,  6.81429952e-02,  1.62192732e-01,\n",
            "         1.13631539e-01, -4.92280722e-03,  7.08165020e-02,\n",
            "         2.55478732e-02, -6.17919676e-02,  2.01496676e-01,\n",
            "         6.94479421e-02,  7.35526234e-02,  2.93991476e-01],\n",
            "       [ 4.19560298e-02, -7.96600804e-02,  1.40580446e-01,\n",
            "         1.57194003e-01,  8.73695165e-02,  3.60588059e-02,\n",
            "         3.38472165e-02, -8.48231614e-02,  1.11358829e-01,\n",
            "         7.73623288e-02,  1.64438456e-01,  1.75755113e-01],\n",
            "       [ 1.60009578e-01,  4.53486368e-02,  9.98579338e-02,\n",
            "         1.80870831e-01, -1.81010813e-02,  6.33487776e-02,\n",
            "        -1.71816498e-01,  1.14598200e-02,  1.08585648e-01,\n",
            "         1.22772992e-01,  5.30307218e-02,  1.91502720e-01],\n",
            "       [ 1.20091356e-01,  2.62515862e-02,  8.32180455e-02,\n",
            "        -1.68689769e-02,  1.65564775e-01,  1.24921873e-01,\n",
            "        -2.68060379e-02, -1.69495136e-01,  2.08013088e-01,\n",
            "         6.26648441e-02,  2.35382840e-01,  9.67418253e-02],\n",
            "       [-9.60938632e-05, -9.21089053e-02,  2.33074024e-01,\n",
            "         4.80465591e-03,  6.54642731e-02,  1.09509304e-01,\n",
            "        -5.76657504e-02, -1.70589946e-02,  8.18567276e-02,\n",
            "        -7.38906562e-02,  2.08368197e-01,  1.64633498e-01],\n",
            "       [-3.58404592e-04,  1.57036096e-01,  9.57487375e-02,\n",
            "         1.15676455e-01, -1.38193108e-02,  1.18009910e-01,\n",
            "        -4.79543321e-02, -3.42572480e-03,  2.39946738e-01,\n",
            "         2.80807912e-03,  8.73250142e-03,  2.17447430e-01],\n",
            "       [-1.26022045e-02,  1.43633604e-01,  1.43199086e-01,\n",
            "         1.10720865e-01, -1.04983747e-01,  9.01583135e-02,\n",
            "        -6.77137524e-02, -1.54266357e-02,  2.11583063e-01,\n",
            "         1.19857177e-01,  3.31069678e-02,  3.06282878e-01],\n",
            "       [ 6.49420395e-02,  3.02857403e-02,  6.76655173e-02,\n",
            "        -1.39066353e-02,  1.06073916e-01,  1.46494910e-01,\n",
            "        -5.99069782e-02, -1.01154126e-01,  2.34457806e-01,\n",
            "        -3.78119238e-02,  2.68560439e-01,  1.36111796e-01],\n",
            "       [ 6.04153536e-02,  6.45239353e-02,  1.50140494e-01,\n",
            "         2.03698456e-01, -6.31563067e-02, -6.54610321e-02,\n",
            "        -1.32001713e-02, -4.52668220e-03,  5.63152358e-02,\n",
            "         1.90505028e-01,  4.19328138e-02,  1.89254716e-01],\n",
            "       [ 2.02279523e-01,  3.47541571e-02,  5.37423305e-02,\n",
            "         1.15181863e-01,  4.72011268e-02,  8.67580399e-02,\n",
            "        -5.80036119e-02, -4.32289727e-02,  1.53652757e-01,\n",
            "         6.25694171e-02,  1.16799839e-01,  1.15300328e-01],\n",
            "       [-9.21462998e-02,  9.18003470e-02,  1.12149581e-01,\n",
            "         8.53486359e-04,  4.92958464e-02, -2.14570835e-02,\n",
            "         1.89058140e-01, -5.06164804e-02,  3.94950621e-02,\n",
            "         1.90133914e-01, -1.30553804e-02,  1.45950809e-01],\n",
            "       [-9.21462998e-02,  9.18003470e-02,  1.12149581e-01,\n",
            "         8.53486359e-04,  4.92958464e-02, -2.14570835e-02,\n",
            "         1.89058140e-01, -5.06164804e-02,  3.94950621e-02,\n",
            "         1.90133914e-01, -1.30553804e-02,  1.45950809e-01]], dtype=float32)>\n"
          ]
        },
        {
          "data": {
            "text/plain": [
              "<tf.Variable 'UnreadVariable' shape=(16, 12) dtype=float32, numpy=\n",
              "array([[ 8.58935714e-02, -7.29213357e-02,  8.68878812e-02,\n",
              "         1.23226643e-01,  6.06238768e-02,  3.26874033e-02,\n",
              "         1.39984824e-02, -8.67173970e-02,  9.34850350e-02,\n",
              "         9.73915681e-02,  2.26998672e-01,  2.68556207e-01],\n",
              "       [-8.81047919e-04,  6.11319803e-02,  2.18846858e-01,\n",
              "        -4.79858369e-04, -3.86548825e-02,  4.88287024e-02,\n",
              "         4.61088829e-02, -8.74184221e-02,  1.70666903e-01,\n",
              "         1.24820769e-01,  6.32721186e-02,  2.92527914e-01],\n",
              "       [ 1.18931442e-01,  9.51837376e-02,  3.22499871e-02,\n",
              "         3.62868980e-02,  5.21644615e-02,  1.49523631e-01,\n",
              "        -2.80906931e-02, -4.63857390e-02,  1.86726391e-01,\n",
              "         2.35511176e-02,  1.28978252e-01,  2.13922352e-01],\n",
              "       [ 1.52827486e-01, -7.58904219e-03,  5.68693727e-02,\n",
              "        -1.96608938e-02,  1.62072361e-01,  1.65993333e-01,\n",
              "        -7.13941902e-02, -1.10859707e-01,  1.19781516e-01,\n",
              "        -2.64038816e-02,  2.66324818e-01,  1.76039428e-01],\n",
              "       [-6.78778291e-02,  4.07026038e-02,  1.56855062e-01,\n",
              "         8.37182924e-02,  3.48867662e-02,  4.49235290e-02,\n",
              "         5.11821359e-02, -8.50971937e-02,  1.61812186e-01,\n",
              "         5.88540137e-02,  9.30520892e-02,  3.33862871e-01],\n",
              "       [ 7.98640549e-02, -1.07100472e-01,  1.35242775e-01,\n",
              "         1.27280757e-01,  1.27179086e-01,  1.01658329e-02,\n",
              "         5.94814792e-02, -1.08128384e-01,  7.16743320e-02,\n",
              "         6.67684004e-02,  1.83937922e-01,  2.15626523e-01],\n",
              "       [ 1.97917596e-01,  1.79082435e-02,  9.45202708e-02,\n",
              "         1.50957584e-01,  2.17084922e-02,  3.74558046e-02,\n",
              "        -1.46182239e-01, -1.18454061e-02,  6.89011514e-02,\n",
              "         1.12179063e-01,  7.25301951e-02,  2.31374130e-01],\n",
              "       [ 1.21233553e-01,  2.37743370e-03,  1.32305473e-01,\n",
              "        -4.69203740e-02,  1.27821252e-01,  1.18443996e-01,\n",
              "        -1.50307827e-02, -1.40166506e-01,  1.91306233e-01,\n",
              "         4.49669249e-02,  2.33800083e-01,  1.16029441e-01],\n",
              "       [ 1.04609877e-03, -1.15983054e-01,  2.82161444e-01,\n",
              "        -2.52467431e-02,  2.77207531e-02,  1.03031427e-01,\n",
              "        -4.58904952e-02,  1.22696385e-02,  6.51498809e-02,\n",
              "        -9.15885717e-02,  2.06785440e-01,  1.83921114e-01],\n",
              "       [-3.37140113e-02,  1.79488018e-01,  8.97087380e-02,\n",
              "         9.25691873e-02,  2.38986313e-02,  1.58422619e-01,\n",
              "        -8.71979594e-02,  1.35675110e-02,  2.43395329e-01,\n",
              "        -1.27359405e-02, -5.59014827e-03,  1.80631667e-01],\n",
              "       [-4.59578112e-02,  1.66085526e-01,  1.37159079e-01,\n",
              "         8.76135975e-02, -6.72658086e-02,  1.30571023e-01,\n",
              "        -1.06957376e-01,  1.56660005e-03,  2.15031654e-01,\n",
              "         1.04313157e-01,  1.87843181e-02,  2.69467115e-01],\n",
              "       [ 9.22580212e-02,  3.43270153e-02,  2.74758115e-02,\n",
              "        -5.38530238e-02,  1.36418208e-01,  1.45831853e-01,\n",
              "        -9.96639580e-02, -1.03577003e-01,  1.92370713e-01,\n",
              "        -2.92972326e-02,  3.13975155e-01,  1.02249861e-01],\n",
              "       [ 6.15575463e-02,  4.06497829e-02,  1.99227929e-01,\n",
              "         1.73647061e-01, -1.00899830e-01, -7.19389170e-02,\n",
              "        -1.42491609e-03,  2.48019509e-02,  3.96083891e-02,\n",
              "         1.72807112e-01,  4.03500609e-02,  2.08542332e-01],\n",
              "       [ 2.40187541e-01,  7.31376372e-03,  4.84046638e-02,\n",
              "         8.52686167e-02,  8.70106965e-02,  6.08650669e-02,\n",
              "        -3.23693492e-02, -6.65341988e-02,  1.13968261e-01,\n",
              "         5.19754887e-02,  1.36299312e-01,  1.55171737e-01],\n",
              "       [-5.42382784e-02,  6.43599555e-02,  1.06811911e-01,\n",
              "        -2.90597603e-02,  8.91054198e-02, -4.73500565e-02,\n",
              "         2.14692399e-01, -7.39217103e-02, -1.89434737e-04,\n",
              "         1.79539979e-01,  6.44408911e-03,  1.85822219e-01],\n",
              "       [-9.10041034e-02,  6.79261982e-02,  1.61237016e-01,\n",
              "        -2.91979127e-02,  1.15523264e-02, -2.79349647e-02,\n",
              "         2.00833395e-01, -2.12878473e-02,  2.27882154e-02,\n",
              "         1.72435999e-01, -1.46381333e-02,  1.65238425e-01]], dtype=float32)>"
            ]
          },
          "execution_count": 15,
          "metadata": {},
          "output_type": "execute_result"
        }
      ],
      "source": [
        "## with regular loop\n",
        "\n",
        "nq = 10\n",
        "epsilon = 1e-5\n",
        "batch_dim = 3\n",
        "training = True\n",
        "\n",
        "tf.random.set_seed(1)\n",
        "x = tf.random.gamma((16, 12), alpha=2., beta=2.)\n",
        "num_embeddings = 4\n",
        "embedding_dim  = 12\n",
        "beta = 0.25\n",
        "decay = 0.99\n",
        "\n",
        "\n",
        "w_init = tf.random_uniform_initializer()\n",
        "embeddings = [tf.Variable(\n",
        "            initial_value = w_init(\n",
        "                shape=(embedding_dim, num_embeddings), dtype=\"float32\"\n",
        "            ),\n",
        "            trainable=False, # since we will use the moving average\n",
        "            name=\"embeddings_vqvae_\"+str(i),\n",
        "            ) for i in range(nq)]\n",
        "\n",
        "ma_denominator = [tf.Variable(tf.zeros((num_embeddings)),trainable=False, name='ema_cluster_size_'+str(i)) for i in range(nq)]\n",
        "ma_numerator   = [tf.Variable(embeddings[0], trainable=False, name='ema_sum_weights_'+str(i)) for i in range(nq)]\n",
        "input_shape    = tf.shape(x)\n",
        "flattened      = tf.reshape(x, [-1, embedding_dim])\n",
        "i = 0\n",
        "residuals      = tf.Variable(flattened)\n",
        "quantized      = tf.Variable(tf.zeros((flattened.shape)))\n",
        "while i < nq:\n",
        "    print(quantized)\n",
        "    similarity     = tf.matmul(residuals, embeddings[i])\n",
        "    distances      = (tf.reduce_sum(residuals ** 2, axis=1, keepdims=True)\n",
        "                    + tf.reduce_sum(embeddings[i] ** 2, axis=0)\n",
        "                    - 2 * similarity)\n",
        "    # Derive the indices for minimum distances.\n",
        "    encoding_indices = tf.argmin(distances, axis=1)\n",
        "    encodings = tf.one_hot(encoding_indices, num_embeddings)\n",
        "    quantized_temp = tf.matmul(encodings, embeddings[i], transpose_b=True)\n",
        "    quantized = quantized.assign_add(quantized_temp)\n",
        "    residuals = residuals.assign_sub(quantized_temp)\n",
        "    #quantized = tf.reshape(quantized, input_shape)\n",
        "    #commitment_loss = tf.reduce_mean((tf.stop_gradient(quantized) - x) ** 2)\n",
        "    if training:\n",
        "        nit = tf.cast(tf.reduce_sum(encodings, 0), tf.float32)\n",
        "        ma_denominator[i] =  decay*ma_denominator[i] + (1-decay)*nit\n",
        "        quantized_zij = tf.matmul(residuals, encodings, transpose_a = True)\n",
        "        ma_numerator[i] = decay*ma_numerator[i]+(1-decay)*quantized_zij\n",
        "        embeddings[i].assign((ma_numerator[i]+epsilon) / (ma_denominator[i]+epsilon))\n",
        "    i += 1\n",
        "    ## finish\n",
        "\n",
        "    # Straight-through estimator.\n",
        "    #quantized = x + tf.stop_gradient(quantized - x)\n",
        "quantized"
      ]
    },
    {
      "cell_type": "code",
      "execution_count": null,
      "id": "2f3a8422-e3c1-4952-8b0a-c0ebba5797c9",
      "metadata": {
        "scrolled": true,
        "id": "2f3a8422-e3c1-4952-8b0a-c0ebba5797c9",
        "outputId": "38f58c2f-0a96-47f8-bcbf-be693936c1f9"
      },
      "outputs": [
        {
          "data": {
            "text/plain": [
              "<tf.Tensor: shape=(16, 12), dtype=float32, numpy=\n",
              "array([[ 0.08254009, -0.00451889,  0.00330713,  0.00890845,  0.01043343,\n",
              "         0.12784633, -0.05090779, -0.03823388,  0.11316487, -0.01918602,\n",
              "         0.06191299,  0.06677254],\n",
              "       [ 0.05605431,  0.05541421,  0.04107412,  0.01432769, -0.04701265,\n",
              "         0.07394546, -0.06348579, -0.03535115,  0.13054462,  0.00132396,\n",
              "        -0.0216518 ,  0.12625828],\n",
              "       [ 0.08254009, -0.00451889,  0.00330713,  0.00890845,  0.01043343,\n",
              "         0.12784633, -0.05090779, -0.03823388,  0.11316487, -0.01918602,\n",
              "         0.06191299,  0.06677254],\n",
              "       [ 0.08254009, -0.00451889,  0.00330713,  0.00890845,  0.01043343,\n",
              "         0.12784633, -0.05090779, -0.03823388,  0.11316487, -0.01918602,\n",
              "         0.06191299,  0.06677254],\n",
              "       [ 0.00115825,  0.02989307,  0.06146821,  0.05838475, -0.01574077,\n",
              "         0.07043964, -0.04513717, -0.0185791 ,  0.12670073, -0.05052299,\n",
              "        -0.0388333 ,  0.11016902],\n",
              "       [ 0.02764404, -0.03004003,  0.02370123,  0.05296551,  0.04170532,\n",
              "         0.1243405 , -0.03255917, -0.02146183,  0.109321  , -0.07103297,\n",
              "         0.0447315 ,  0.05068328],\n",
              "       [ 0.08254009, -0.00451889,  0.00330713,  0.00890845,  0.01043343,\n",
              "         0.12784633, -0.05090779, -0.03823388,  0.11316487, -0.01918602,\n",
              "         0.06191299,  0.06677254],\n",
              "       [ 0.08254009, -0.00451889,  0.00330713,  0.00890845,  0.01043343,\n",
              "         0.12784633, -0.05090779, -0.03823388,  0.11316487, -0.01918602,\n",
              "         0.06191299,  0.06677254],\n",
              "       [ 0.02764404, -0.03004003,  0.02370123,  0.05296551,  0.04170532,\n",
              "         0.1243405 , -0.03255917, -0.02146183,  0.109321  , -0.07103297,\n",
              "         0.0447315 ,  0.05068328],\n",
              "       [ 0.00115825,  0.02989307,  0.06146821,  0.05838475, -0.01574077,\n",
              "         0.07043964, -0.04513717, -0.0185791 ,  0.12670073, -0.05052299,\n",
              "        -0.0388333 ,  0.11016902],\n",
              "       [ 0.05605431,  0.05541421,  0.04107412,  0.01432769, -0.04701265,\n",
              "         0.07394546, -0.06348579, -0.03535115,  0.13054462,  0.00132396,\n",
              "        -0.0216518 ,  0.12625828],\n",
              "       [ 0.08254009, -0.00451889,  0.00330713,  0.00890845,  0.01043343,\n",
              "         0.12784633, -0.05090779, -0.03823388,  0.11316487, -0.01918602,\n",
              "         0.06191299,  0.06677254],\n",
              "       [ 0.00781578,  0.0641745 ,  0.03186085,  0.05832357, -0.04003143,\n",
              "         0.00698468, -0.00469356, -0.00430274,  0.04803491,  0.04354743,\n",
              "        -0.020147  ,  0.06798072],\n",
              "       [ 0.08254009, -0.00451889,  0.00330713,  0.00890845,  0.01043343,\n",
              "         0.12784633, -0.05090779, -0.03823388,  0.11316487, -0.01918602,\n",
              "         0.06191299,  0.06677254],\n",
              "       [ 0.00781578,  0.0641745 ,  0.03186085,  0.05832357, -0.04003143,\n",
              "         0.00698468, -0.00469356, -0.00430274,  0.04803491,  0.04354743,\n",
              "        -0.020147  ,  0.06798072],\n",
              "       [ 0.00781578,  0.0641745 ,  0.03186085,  0.05832357, -0.04003143,\n",
              "         0.00698468, -0.00469356, -0.00430274,  0.04803491,  0.04354743,\n",
              "        -0.020147  ,  0.06798072]], dtype=float32)>"
            ]
          },
          "execution_count": 16,
          "metadata": {},
          "output_type": "execute_result"
        }
      ],
      "source": [
        "\n",
        "\n",
        "\n",
        "## with tf.whileloop\n",
        "\n",
        "nq = 3\n",
        "epsilon = 1e-5\n",
        "batch_dim = 3\n",
        "training = True\n",
        "\n",
        "tf.random.set_seed(1)\n",
        "x = tf.random.gamma((16, 12), alpha=2., beta=2.)\n",
        "num_embeddings = 4\n",
        "embedding_dim  = 12\n",
        "beta = 0.25\n",
        "decay = 0.99\n",
        "\n",
        "\n",
        "w_init = tf.random_uniform_initializer()\n",
        "embeddings = [tf.Variable(\n",
        "            initial_value = w_init(\n",
        "                shape=(embedding_dim, num_embeddings), dtype=\"float32\"\n",
        "            ),\n",
        "            trainable=False, # since we will use the moving average\n",
        "            name=\"embeddings_vqvae_\"+str(i),\n",
        "            ) for i in range(nq)]\n",
        "\n",
        "ma_denominator = [tf.Variable(tf.zeros((num_embeddings)),trainable=False, name='ema_cluster_size_'+str(i)) for i in range(nq)]\n",
        "ma_numerator   = [tf.Variable(embeddings[0], trainable=False, name='ema_sum_weights_'+str(i)) for i in range(nq)]\n",
        "input_shape    = tf.shape(x)\n",
        "flattened      = tf.reshape(x, [-1, embedding_dim])\n",
        "i = 0\n",
        "residuals      = tf.Variable(flattened)\n",
        "quantized      = tf.Variable(tf.zeros((flattened.shape)))\n",
        "c = lambda i, _a, _b, _c, _d, _e : tf.less(i, n)\n",
        "\n",
        "def one_iteration(i, quantized, residuals):\n",
        "    similarity     = tf.matmul(residuals, tf.gather(embeddings,i))\n",
        "    distances      = (tf.reduce_sum(residuals ** 2, axis=1, keepdims=True)\n",
        "                    + tf.reduce_sum(tf.gather(embeddings,i) ** 2, axis=0)\n",
        "                    - 2 * similarity)\n",
        "\n",
        "    # Derive the indices for minimum distances.\n",
        "    encoding_indices = tf.argmin(distances, axis=1)\n",
        "    encodings = tf.one_hot(encoding_indices, num_embeddings)\n",
        "    quantized_temp = tf.matmul(encodings, tf.gather(embeddings,i), transpose_b=True)\n",
        "    #print(quantized_temp)\n",
        "    quantized = quantized + quantized_temp\n",
        "    residuals = residuals - quantized_temp\n",
        "    #quantized = tf.reshape(quantized, input_shape)\n",
        "    #commitment_loss = tf.reduce_mean((tf.stop_gradient(quantized) - x) ** 2)\n",
        "\n",
        "    if training:\n",
        "        nit = tf.cast(tf.reduce_sum(encodings, 0), tf.float32)\n",
        "        ma_denominator[i] =  decay*tf.gather(ma_denominator,i) + (1-decay)*nit\n",
        "        quantized_zij = tf.matmul(residuals, encodings, transpose_a = True)\n",
        "        ma_numerator[i] = decay*tf.gather(ma_numerator,i)+(1-decay)*quantized_zij\n",
        "        embeddings[i].assign((tf.gather(ma_numerator,i)+epsilon) / (tf.gather(ma_denominator,i)+epsilon))\n",
        "    #print(\"passed this\")\n",
        "    #print(i)\n",
        "    #print(quantized)\n",
        "    #print(residuals)\n",
        "    return (i+1, quantized, residuals)\n",
        "\n",
        "c = lambda i, _a, _b: tf.less(i, nq)\n",
        "i = 0\n",
        "i, quantized, residuals = tf.while_loop(c, one_iteration, [i, tf.constant(quantized), tf.constant(residuals)])\n",
        "    ## finish\n",
        "\n",
        "    # Straight-through estimator.\n",
        "    #quantized = x + tf.stop_gradient(quantized - x)\n",
        "quantized"
      ]
    },
    {
      "cell_type": "code",
      "execution_count": null,
      "id": "44c89e7e-ac09-4cb4-8062-d971e6ef4ee3",
      "metadata": {
        "scrolled": true,
        "id": "44c89e7e-ac09-4cb4-8062-d971e6ef4ee3",
        "outputId": "eaf7f674-4e8f-4090-e6cc-53deee99a7c3"
      },
      "outputs": [
        {
          "data": {
            "text/plain": [
              "[<tf.Variable 'embeddings_vqvae_0:0' shape=(12, 4) dtype=float32, numpy=\n",
              " array([[ 5.8998328e-01,  6.1563867e-01, -9.0452240e+02,  1.6728690e+00],\n",
              "        [ 1.9394251e+00,  4.0285978e-01, -6.3193695e+02,  9.2647225e-01],\n",
              "        [ 1.1174419e+00,  2.0117507e+00, -3.0878276e+03,  7.2320718e-01],\n",
              "        [ 1.5530285e+00,  1.1121467e+00, -2.1780425e+03,  3.1442699e-01],\n",
              "        [ 1.3226470e+00,  1.8799833e+00,  3.2040396e+02,  6.6325557e-01],\n",
              "        [-4.6337649e-01,  1.8703089e+00, -3.8626116e+03,  1.6045406e+00],\n",
              "        [ 2.2445836e+00,  6.2751365e-01,  2.9184526e+03,  6.5612292e-01],\n",
              "        [ 2.1404099e+00,  2.1459451e+00,  3.5741216e+03,  9.0873712e-01],\n",
              "        [-4.2212987e-01,  1.9867724e+00,  3.0161694e+03,  1.8111413e+00],\n",
              "        [ 2.6954715e+00, -5.3119707e-01, -7.3026038e+02,  1.1233457e+00],\n",
              "        [ 2.5236157e-01,  2.7459282e-01, -4.4114288e+01,  1.4267725e+00],\n",
              "        [-3.6796984e-01,  9.6490282e-01, -2.8370234e+03,  1.3372242e+00]],\n",
              "       dtype=float32)>,\n",
              " <tf.Variable 'embeddings_vqvae_1:0' shape=(12, 4) dtype=float32, numpy=\n",
              " array([[ 9.0280116e-01, -5.5803564e+02, -9.0452240e+02,  4.8766743e+03],\n",
              "        [ 1.0102727e+00, -1.5250885e+03, -6.3193695e+02,  1.0015037e+03],\n",
              "        [ 9.3360329e-01,  2.5027100e+03, -3.0878276e+03,  4.8369403e+02],\n",
              "        [ 9.2255598e-01,  4.9131799e+02, -2.1780425e+03, -3.8703313e+03],\n",
              "        [ 8.4405029e-01,  3.7017983e+03,  3.2040396e+02,  6.0588171e+02],\n",
              "        [ 6.8481243e-01,  4.2429897e+03, -3.8626116e+03,  4.5900659e+03],\n",
              "        [ 1.3483950e+00, -2.1621843e+03,  2.9184526e+03, -3.9786985e+03],\n",
              "        [ 1.1750919e+00,  3.3010017e+03,  3.5741216e+03,  1.6405684e+03],\n",
              "        [ 8.1762046e-01,  4.3849824e+03,  3.0161694e+03,  4.7655264e+03],\n",
              "        [ 1.2320180e+00, -4.5269375e+03, -7.3026038e+02,  6.0591119e+02],\n",
              "        [ 1.1492078e+00, -3.0018533e+03, -4.4114288e+01, -1.3008854e+03],\n",
              "        [ 5.9770298e-01,  1.4401028e+03, -2.8370234e+03,  3.0329397e+03]],\n",
              "       dtype=float32)>,\n",
              " <tf.Variable 'embeddings_vqvae_2:0' shape=(12, 4) dtype=float32, numpy=\n",
              " array([[ 1.0105977e+02,  3.2631734e-01,  1.1973276e+00,  4.8766743e+03],\n",
              "        [ 1.8687731e+03,  9.2160928e-01,  6.2563056e-01,  1.0015037e+03],\n",
              "        [-4.2841959e+02,  1.3862448e+00,  5.3600389e-01,  4.8369403e+02],\n",
              "        [ 4.8526108e+02,  1.0181607e+00,  5.7918435e-01, -3.8703313e+03],\n",
              "        [ 1.2970225e+03,  1.4426495e+00,  6.7897969e-01,  6.0588171e+02],\n",
              "        [-2.0390511e+03,  1.3072771e+00,  4.4912133e-01,  4.5900659e+03],\n",
              "        [ 1.8417330e+03,  1.1040785e+00,  1.4151305e+00, -3.9786985e+03],\n",
              "        [ 4.7143618e+03,  1.3150016e+00,  1.3396565e+00,  1.6405684e+03],\n",
              "        [-3.4029346e+03,  1.6680304e+00,  1.3107178e+00,  4.7655264e+03],\n",
              "        [ 4.7860342e+03,  4.9254900e-01,  7.5165588e-01,  6.0591119e+02],\n",
              "        [-1.1519100e+03,  1.2434066e-01,  1.7354156e+00, -1.3008854e+03],\n",
              "        [-2.7365388e+03,  1.0644748e+00,  3.5685948e-01,  3.0329397e+03]],\n",
              "       dtype=float32)>,\n",
              " <tf.Variable 'embeddings_vqvae_3:0' shape=(12, 4) dtype=float32, numpy=\n",
              " array([[ 9.9873459e-01,  1.1596385e+00,  6.9952387e-01,  4.8766743e+03],\n",
              "        [ 1.2521391e+00, -1.3315092e+00,  8.5031068e-01,  1.0015037e+03],\n",
              "        [ 5.1049602e-01,  2.9657094e+00,  9.0164512e-01,  4.8369403e+02],\n",
              "        [ 7.6887047e-01,  1.1930774e+00,  7.7863109e-01, -3.8703313e+03],\n",
              "        [ 6.9385785e-01,  4.1338573e+00,  1.0408676e+00,  6.0588171e+02],\n",
              "        [ 7.2235262e-01,  4.6612382e+00,  2.0204586e-01,  4.5900659e+03],\n",
              "        [ 1.5261326e+00, -1.9952109e+00,  1.6294205e+00, -3.9786985e+03],\n",
              "        [ 1.7816118e+00,  3.7245991e+00,  1.3511481e+00,  1.6405684e+03],\n",
              "        [ 7.7831686e-01,  4.7305288e+00,  1.2407964e+00,  4.7655264e+03],\n",
              "        [ 1.5561156e+00, -3.4334450e+00,  1.0035944e+00,  6.0591119e+02],\n",
              "        [ 1.5913124e+00, -2.7087891e+00,  9.2313337e-01, -1.3008854e+03],\n",
              "        [ 3.6776438e-01,  2.0136266e+00,  3.8870558e-01,  3.0329397e+03]],\n",
              "       dtype=float32)>,\n",
              " <tf.Variable 'embeddings_vqvae_4:0' shape=(12, 4) dtype=float32, numpy=\n",
              " array([[ 1.0105977e+02,  9.3329310e-01,  9.3422455e-01,  1.3521196e+00],\n",
              "        [ 1.8687731e+03,  6.7888004e-01,  3.5841525e-01,  1.0538135e+00],\n",
              "        [-4.2841959e+02,  1.0036724e+00,  2.4574086e-01,  1.0095038e+00],\n",
              "        [ 4.8526108e+02,  1.0331799e+00, -5.6906015e-01,  4.1255197e-01],\n",
              "        [ 1.2970225e+03,  1.2409266e+00,  1.0126582e+00,  9.1434813e-01],\n",
              "        [-2.0390511e+03,  1.6366547e+00, -3.9314532e-01,  1.1229997e+00],\n",
              "        [ 1.8417330e+03,  6.6958684e-01,  2.3802867e+00,  9.1171998e-01],\n",
              "        [ 4.7143618e+03,  1.4630046e+00,  3.6451926e+00,  9.2136699e-01],\n",
              "        [-3.4029346e+03,  1.5521327e+00,  2.2139535e+00,  1.8358952e+00],\n",
              "        [ 4.7860342e+03,  2.3882534e-01,  4.1868964e-01,  1.0286267e+00],\n",
              "        [-1.1519100e+03,  1.2518340e-01,  2.2588716e+00,  1.1900263e+00],\n",
              "        [-2.7365388e+03,  1.1961917e+00, -4.6533468e-01,  8.4500307e-01]],\n",
              "       dtype=float32)>,\n",
              " <tf.Variable 'embeddings_vqvae_5:0' shape=(12, 4) dtype=float32, numpy=\n",
              " array([[ 1.0105977e+02,  9.2652231e-01, -1.2978408e-01,  4.8766743e+03],\n",
              "        [ 1.8687731e+03,  6.5061963e-01,  1.2837517e+00,  1.0015037e+03],\n",
              "        [-4.2841959e+02,  1.0334761e+00, -4.5350090e-01,  4.8369403e+02],\n",
              "        [ 4.8526108e+02,  8.6980796e-01, -1.0323143e-01, -3.8703313e+03],\n",
              "        [ 1.2970225e+03,  9.9995703e-01,  1.1532298e+00,  6.0588171e+02],\n",
              "        [-2.0390511e+03,  1.1897371e+00, -1.7835974e+00,  4.5900659e+03],\n",
              "        [ 1.8417330e+03,  9.9871230e-01,  3.3132370e+00, -3.9786985e+03],\n",
              "        [ 4.7143618e+03,  1.2131778e+00,  2.3332555e+00,  1.6405684e+03],\n",
              "        [-3.4029346e+03,  1.3662683e+00,  1.9600897e+00,  4.7655264e+03],\n",
              "        [ 4.7860342e+03,  5.7410401e-01,  5.9828603e-01,  6.0591119e+02],\n",
              "        [-1.1519100e+03,  1.0377825e+00,  4.8545146e-01, -1.3008854e+03],\n",
              "        [-2.7365388e+03,  8.2796425e-01, -9.4148928e-01,  3.0329397e+03]],\n",
              "       dtype=float32)>,\n",
              " <tf.Variable 'embeddings_vqvae_6:0' shape=(12, 4) dtype=float32, numpy=\n",
              " array([[ 7.1513134e-01, -5.5803564e+02, -9.0452240e+02,  1.2825931e+00],\n",
              "        [ 2.0091970e+00, -1.5250885e+03, -6.3193695e+02,  9.2813993e-01],\n",
              "        [ 1.5273111e+00,  2.5027100e+03, -3.0878276e+03,  7.5537002e-01],\n",
              "        [ 4.5037788e-01,  4.9131799e+02, -2.1780425e+03,  6.2326646e-01],\n",
              "        [ 1.3015240e+00,  3.7017983e+03,  3.2040396e+02,  7.9007995e-01],\n",
              "        [-2.0829514e-01,  4.2429897e+03, -3.8626116e+03,  1.1414995e+00],\n",
              "        [ 1.3765380e+00, -2.1621843e+03,  2.9184526e+03,  1.0492505e+00],\n",
              "        [ 3.8281443e+00,  3.3010017e+03,  3.5741216e+03,  9.7886932e-01],\n",
              "        [-6.2211061e-01,  4.3849824e+03,  3.0161694e+03,  1.3093715e+00],\n",
              "        [ 3.0016906e+00, -4.5269375e+03, -7.3026038e+02,  9.6514624e-01],\n",
              "        [ 2.4810166e+00, -3.0018533e+03, -4.4114288e+01,  7.4978763e-01],\n",
              "        [-9.5320135e-01,  1.4401028e+03, -2.8370234e+03,  9.2216349e-01]],\n",
              "       dtype=float32)>,\n",
              " <tf.Variable 'embeddings_vqvae_7:0' shape=(12, 4) dtype=float32, numpy=\n",
              " array([[ 0.7538276 ,  0.5896318 ,  0.7447905 ,  1.6623083 ],\n",
              "        [ 1.1300644 , -0.72761923, -0.501994  ,  1.1380045 ],\n",
              "        [ 1.0103605 ,  5.518328  , -2.7272587 ,  0.5058922 ],\n",
              "        [ 1.0717776 ,  0.7850472 , -1.5848862 ,  0.1846589 ],\n",
              "        [ 1.031953  ,  4.891724  ,  0.74786913,  0.6209468 ],\n",
              "        [ 0.20489962,  5.322578  , -3.4405956 ,  1.8171875 ],\n",
              "        [ 1.7363212 , -1.610616  ,  3.1760287 ,  0.6110387 ],\n",
              "        [ 1.2672096 ,  5.4999533 ,  3.9996796 ,  1.3862611 ],\n",
              "        [ 0.53113544,  4.7169776 ,  3.313832  ,  1.7790197 ],\n",
              "        [ 1.5912821 , -3.8004398 ,  0.2787312 ,  1.0213447 ],\n",
              "        [ 0.56019574, -1.1604106 ,  0.22026534,  1.3357135 ],\n",
              "        [-0.0125497 ,  1.8045195 , -2.3315446 ,  1.4572666 ]],\n",
              "       dtype=float32)>,\n",
              " <tf.Variable 'embeddings_vqvae_8:0' shape=(12, 4) dtype=float32, numpy=\n",
              " array([[ 9.7712386e-01,  1.2890812e+00,  4.2694804e-01,  4.8766743e+03],\n",
              "        [ 1.2786636e+00,  1.9900425e-01,  1.0496677e+00,  1.0015037e+03],\n",
              "        [ 1.1073288e+00,  1.1380384e+00,  3.6212260e-01,  4.8369403e+02],\n",
              "        [ 5.3295922e-01,  1.3746532e+00,  4.3942931e-01, -3.8703313e+03],\n",
              "        [ 9.1714686e-01,  1.3484894e+00,  9.2647475e-01,  6.0588171e+02],\n",
              "        [ 6.3738602e-01,  1.2597077e+00,  3.6283335e-01,  4.5900659e+03],\n",
              "        [ 1.4291205e+00,  5.3826499e-01,  1.9197278e+00, -3.9786985e+03],\n",
              "        [ 2.4274209e+00,  1.2394686e+00,  1.5024155e+00,  1.6405684e+03],\n",
              "        [ 4.3248680e-01,  1.4993982e+00,  1.4455880e+00,  4.7655264e+03],\n",
              "        [ 1.7455446e+00, -8.9059375e-02,  9.9585348e-01,  6.0591119e+02],\n",
              "        [ 2.1384559e+00,  4.1441754e-01,  4.6359080e-01, -1.3008854e+03],\n",
              "        [-8.7788239e-02,  6.3150650e-01,  4.8214850e-01,  3.0329397e+03]],\n",
              "       dtype=float32)>,\n",
              " <tf.Variable 'embeddings_vqvae_9:0' shape=(12, 4) dtype=float32, numpy=\n",
              " array([[ 0.25467256, -0.32394844,  1.1367741 ,  1.733987  ],\n",
              "        [ 2.295451  , -0.17709064,  0.6977114 ,  0.9504123 ],\n",
              "        [ 0.26538983,  2.982718  ,  0.20373744,  1.5683568 ],\n",
              "        [ 0.66947895,  0.7104871 ,  0.72171116,  0.17268783],\n",
              "        [ 1.2801206 ,  3.736867  ,  0.7449177 ,  1.0013359 ],\n",
              "        [ 0.31736928,  4.8050833 ,  0.30709502,  1.6471908 ],\n",
              "        [ 1.794474  , -1.7483107 ,  1.6204815 ,  0.5837288 ],\n",
              "        [ 3.5241394 ,  4.003067  ,  1.3155121 ,  1.298465  ],\n",
              "        [-1.0196984 ,  6.201309  ,  1.1681268 ,  2.2071352 ],\n",
              "        [ 2.9942136 , -3.9983003 ,  0.8455781 ,  1.1113058 ],\n",
              "        [-0.15786967,  1.1730239 ,  1.0032899 ,  0.7044    ],\n",
              "        [ 0.10750002,  1.927045  ,  0.2940555 ,  0.88195395]],\n",
              "       dtype=float32)>]"
            ]
          },
          "execution_count": 75,
          "metadata": {},
          "output_type": "execute_result"
        }
      ],
      "source": [
        "embeddings"
      ]
    },
    {
      "cell_type": "code",
      "execution_count": null,
      "id": "fde2cd8a-9111-422f-b463-85a57bfae4ab",
      "metadata": {
        "id": "fde2cd8a-9111-422f-b463-85a57bfae4ab",
        "outputId": "1c3bfef3-9433-4125-be2d-96a946b19ac9"
      },
      "outputs": [
        {
          "data": {
            "text/plain": [
              "605"
            ]
          },
          "execution_count": 178,
          "metadata": {},
          "output_type": "execute_result"
        }
      ],
      "source": [
        "kk = 32\n",
        "@tf.function\n",
        "def sumSquare2(n):\n",
        "  i, result, bob = tf.constant(0), tf.constant(0), tf.constant(5)\n",
        "  c = lambda i, _, _a : tf.less(i, n)\n",
        "  b = lambda i, result, bob: (i + 1, result +kk+ i * i, bob)\n",
        "  return tf.while_loop(c, b, [i, result, bob])[1]\n",
        "sumSquare2(10).numpy()\n"
      ]
    },
    {
      "cell_type": "code",
      "execution_count": 158,
      "id": "f49c3274-0d53-44aa-9a0d-f8c8dd5a4cc3",
      "metadata": {
        "id": "f49c3274-0d53-44aa-9a0d-f8c8dd5a4cc3"
      },
      "outputs": [],
      "source": [
        "# we are not learning the codebook vectors anymore.\n",
        "\n",
        "from tensorflow.keras import layers\n",
        "from tensorflow import keras\n",
        "\n",
        "class VectorQuantizer(layers.Layer):\n",
        "    def __init__(self, num_embeddings, embedding_dim, beta=0.25, **kwargs):\n",
        "        super().__init__(**kwargs)\n",
        "        self.embedding_dim = embedding_dim\n",
        "        self.num_embeddings = num_embeddings\n",
        "\n",
        "        # The `beta` parameter is best kept between [0.25, 2] as per the paper.\n",
        "        self.beta = beta\n",
        "\n",
        "        # Initialize the embeddings which we will quantize.\n",
        "        w_init = tf.random_uniform_initializer()\n",
        "        self.embeddings = tf.Variable(\n",
        "            initial_value=w_init(\n",
        "                shape=(self.embedding_dim, self.num_embeddings), dtype=\"float32\"\n",
        "            ),\n",
        "            trainable=True,\n",
        "            name=\"embeddings_vqvae\",\n",
        "        )\n",
        "\n",
        "    def call(self, x):\n",
        "        # Calculate the input shape of the inputs and\n",
        "        # then flatten the inputs keeping `embedding_dim` intact.\n",
        "        input_shape = tf.shape(x)\n",
        "        flattened = tf.reshape(x, [-1, self.embedding_dim])\n",
        "\n",
        "        # Quantization.\n",
        "        encoding_indices = self.get_code_indices(flattened)\n",
        "        encodings = tf.one_hot(encoding_indices, self.num_embeddings)\n",
        "        quantized = tf.matmul(encodings, self.embeddings, transpose_b=True)\n",
        "\n",
        "        # Reshape the quantized values back to the original input shape\n",
        "        quantized = tf.reshape(quantized, input_shape)\n",
        "\n",
        "        # Calculate vector quantization loss and add that to the layer. You can learn more\n",
        "        # about adding losses to different layers here:\n",
        "        # https://keras.io/guides/making_new_layers_and_models_via_subclassing/. Check\n",
        "        # the original paper to get a handle on the formulation of the loss function.\n",
        "        commitment_loss = tf.reduce_mean((tf.stop_gradient(quantized) - x) ** 2)\n",
        "        codebook_loss = tf.reduce_mean((quantized - tf.stop_gradient(x)) ** 2)\n",
        "        self.add_loss(self.beta * commitment_loss + codebook_loss)\n",
        "\n",
        "        # Straight-through estimator.\n",
        "        quantized = x + tf.stop_gradient(quantized - x)\n",
        "        return quantized\n",
        "\n",
        "    def get_code_indices(self, flattened_inputs):\n",
        "        # Calculate L2-normalized distance between the inputs and the codes.\n",
        "        similarity = tf.matmul(flattened_inputs, self.embeddings)\n",
        "        distances = (\n",
        "            tf.reduce_sum(flattened_inputs ** 2, axis=1, keepdims=True)\n",
        "            + tf.reduce_sum(self.embeddings ** 2, axis=0)\n",
        "            - 2 * similarity\n",
        "        )\n",
        "\n",
        "        # Derive the indices for minimum distances.\n",
        "        encoding_indices = tf.argmin(distances, axis=1)\n",
        "        return encoding_indices\n",
        "\n",
        "class RVQVectorQuantizer(layers.Layer):\n",
        "    def __init__(self, num_embeddings, embedding_dim, beta=0.25, nq = 4, decay = 0.99, epsilon = 1e-7, **kwargs):\n",
        "        super().__init__(**kwargs)\n",
        "        self.embedding_dim  = embedding_dim\n",
        "        self.num_embeddings = num_embeddings\n",
        "        self.nq = nq\n",
        "        self.decay = decay\n",
        "        self.epsilon = epsilon\n",
        "\n",
        "        # The `beta` parameter is best kept between [0.25, 2] as per the paper.\n",
        "        self.beta = beta\n",
        "\n",
        "        # Initialize the embeddings which we will quantize.\n",
        "        w_init = tf.random_uniform_initializer()\n",
        "        self.embeddings = [tf.Variable(\n",
        "            initial_value = w_init(\n",
        "                shape=(self.embedding_dim, self.num_embeddings), dtype=\"float32\"\n",
        "            ),\n",
        "            trainable=False, # since we will use the moving average\n",
        "            name=\"embeddings_vqvae_\"+str(i),\n",
        "            ) for i in range(self.nq)]\n",
        "\n",
        "        self.ma_denominator = [tf.Variable(tf.zeros((self.num_embeddings)),trainable=False,\n",
        "                                           name='ema_cluster_size_'+str(i)) for i in range(self.nq)]\n",
        "        self.ma_numerator   = [tf.Variable(self.embeddings[i], trainable=False,\n",
        "                                           name='ema_sum_weights_'+str(i)) for i in range(self.nq)]\n",
        "\n",
        "    def call(self, x, training = None):\n",
        "        # Calculate the input shape of the inputs and\n",
        "        # then flatten the inputs keeping `embedding_dim` intact.\n",
        "        input_shape = tf.shape(x)\n",
        "        flattened = tf.reshape(x, [-1, self.embedding_dim])\n",
        "\n",
        "        def one_stage_quantization(i, quantized, residuals):\n",
        "            #print(tf_look_up[i])\n",
        "            #print(quantized)\n",
        "            #print(residuals)\n",
        "            similarity     = tf.matmul(residuals, tf.gather(self.embeddings,i))\n",
        "            distances      = (tf.reduce_sum(residuals ** 2, axis=1, keepdims=True)\n",
        "                            + tf.reduce_sum(tf.gather(self.embeddings,i) ** 2, axis=0)\n",
        "                            - 2 * similarity)\n",
        "\n",
        "            # Derive the indices for minimum distances.\n",
        "            encoding_indices = tf.argmin(distances, axis=1)\n",
        "            encodings = tf.one_hot(encoding_indices, self.num_embeddings)\n",
        "            quantized_temp = tf.matmul(encodings, tf.gather(self.embeddings,i), transpose_b=True)\n",
        "            quantized = quantized + quantized_temp\n",
        "            residuals = residuals - quantized_temp\n",
        "            #quantized = tf.reshape(quantized, input_shape)\n",
        "            #commitment_loss = tf.reduce_mean((tf.stop_gradient(quantized) - x) ** 2)\n",
        "\n",
        "            if training:\n",
        "                nit = tf.cast(tf.reduce_sum(encodings, 0), tf.float32)\n",
        "                self.ma_denominator[i] =  self.decay*tf.gather(self.ma_denominator,i) + (1-self.decay)*nit\n",
        "                quantized_zij = tf.matmul(residuals, encodings, transpose_a = True)\n",
        "                self.ma_numerator[i] = self.decay*tf.gather(self.ma_numerator,i)+(1-self.decay)*quantized_zij\n",
        "                self.embeddings[i].assign((tf.gather(self.ma_numerator,i)+self.epsilon) / (tf.gather(self.ma_denominator,i)+self.epsilon))\n",
        "            return (i+1, quantized, residuals)\n",
        "\n",
        "        condition         = lambda i, _a, _b: tf.less(i, self.nq)\n",
        "        i                 = 0\n",
        "        residuals_init    = flattened\n",
        "        quantized_init    = tf.zeros(tf.shape(flattened))\n",
        "        i, quantized, residuals = tf.while_loop(condition, one_stage_quantization,\n",
        "                                                [i, quantized_init,\n",
        "                                                 residuals_init])\n",
        "        #quantized = tf.Variable(quantized_tensor)\n",
        "        #residuals = tf.Variable(residuals_tensor)\n",
        "        # Reshape the quantized values back to the original input shape\n",
        "        quantized = tf.reshape(quantized, input_shape)\n",
        "        # Calculate vector quantization loss and add that to the layer. You can learn more\n",
        "        # about adding losses to different layers here:\n",
        "        # https://keras.io/guides/making_new_layers_and_models_via_subclassing/. Check\n",
        "        # the original paper to get a handle on the formulation of the loss function.\n",
        "        commitment_loss = tf.reduce_mean((tf.stop_gradient(quantized) - x) ** 2)\n",
        "        #codebook_loss = tf.reduce_mean((quantized - tf.stop_gradient(x)) ** 2)\n",
        "        self.add_loss(self.beta * commitment_loss) #+ codebook_loss)\n",
        "\n",
        "        # Straight-through estimator.\n",
        "        quantized = x + tf.stop_gradient(quantized - x)\n",
        "        return quantized\n",
        "\n",
        "\n"
      ]
    },
    {
      "cell_type": "markdown",
      "id": "hk3C4Md4ZsvR",
      "metadata": {
        "id": "hk3C4Md4ZsvR"
      },
      "source": [
        "c) Test your custom vector quantisation layer above by training a simple model on MNIST and displaying a few reconstructions of the model.\n",
        "\n",
        "**(5 marks)**"
      ]
    },
    {
      "cell_type": "code",
      "execution_count": 159,
      "id": "d5cdd175-f894-4520-bd2a-95046d6c91fb",
      "metadata": {
        "colab": {
          "base_uri": "https://localhost:8080/"
        },
        "id": "d5cdd175-f894-4520-bd2a-95046d6c91fb",
        "outputId": "f1e88a71-fd6c-49fa-e604-67cfa01f6b0d"
      },
      "outputs": [
        {
          "output_type": "stream",
          "name": "stdout",
          "text": [
            "Model: \"vq_vae\"\n",
            "_________________________________________________________________\n",
            " Layer (type)                Output Shape              Param #   \n",
            "=================================================================\n",
            " input_4 (InputLayer)        [(None, 28, 28, 1)]       0         \n",
            "                                                                 \n",
            " encoder (Functional)        (None, 7, 7, 16)          19856     \n",
            "                                                                 \n",
            " vector_quantizer (RVQVecto  (None, 7, 7, 16)          8448      \n",
            " rQuantizer)                                                     \n",
            "                                                                 \n",
            " decoder (Functional)        (None, 28, 28, 1)         28033     \n",
            "                                                                 \n",
            "=================================================================\n",
            "Total params: 56337 (220.07 KB)\n",
            "Trainable params: 47889 (187.07 KB)\n",
            "Non-trainable params: 8448 (33.00 KB)\n",
            "_________________________________________________________________\n"
          ]
        }
      ],
      "source": [
        "def get_encoder(latent_dim=16):\n",
        "    encoder_inputs = keras.Input(shape=(28, 28, 1))\n",
        "    x = layers.Conv2D(32, 3, activation=\"relu\", strides=2, padding=\"same\")(\n",
        "        encoder_inputs\n",
        "    )\n",
        "    x = layers.Conv2D(64, 3, activation=\"relu\", strides=2, padding=\"same\")(x)\n",
        "    encoder_outputs = layers.Conv2D(latent_dim, 1, padding=\"same\")(x)\n",
        "    return keras.Model(encoder_inputs, encoder_outputs, name=\"encoder\")\n",
        "\n",
        "\n",
        "def get_decoder(latent_dim=16):\n",
        "    latent_inputs = keras.Input(shape=get_encoder(latent_dim).output.shape[1:])\n",
        "    x = layers.Conv2DTranspose(64, 3, activation=\"relu\", strides=2, padding=\"same\")(\n",
        "        latent_inputs\n",
        "    )\n",
        "    x = layers.Conv2DTranspose(32, 3, activation=\"relu\", strides=2, padding=\"same\")(x)\n",
        "    decoder_outputs = layers.Conv2DTranspose(1, 3, padding=\"same\")(x)\n",
        "    return keras.Model(latent_inputs, decoder_outputs, name=\"decoder\")\n",
        "\n",
        "def get_vqvae(latent_dim=16, num_embeddings=64):\n",
        "    vq_layer = RVQVectorQuantizer(num_embeddings, latent_dim, name=\"vector_quantizer\")\n",
        "    #vq_layer = VectorQuantizer(num_embeddings, latent_dim, name=\"vector_quantizer\")\n",
        "    encoder = get_encoder(latent_dim)\n",
        "    decoder = get_decoder(latent_dim)\n",
        "    inputs = keras.Input(shape=(28, 28, 1))\n",
        "    encoder_outputs = encoder(inputs)\n",
        "    quantized_latents = vq_layer(encoder_outputs)\n",
        "    reconstructions = decoder(quantized_latents)\n",
        "    return keras.Model(inputs, reconstructions, name=\"vq_vae\")\n",
        "\n",
        "\n",
        "get_vqvae().summary()"
      ]
    },
    {
      "cell_type": "code",
      "execution_count": 160,
      "id": "a6e81f2f-0b6b-4eaf-9129-9c9971c24e6a",
      "metadata": {
        "id": "a6e81f2f-0b6b-4eaf-9129-9c9971c24e6a"
      },
      "outputs": [],
      "source": [
        "class VQVAETrainer(keras.models.Model):\n",
        "    def __init__(self, train_variance, latent_dim=32, num_embeddings=128,\n",
        "                 **kwargs):\n",
        "        super().__init__(**kwargs)\n",
        "        self.train_variance = train_variance\n",
        "        self.latent_dim = latent_dim\n",
        "        self.num_embeddings = num_embeddings\n",
        "\n",
        "        self.vqvae = get_vqvae(self.latent_dim, self.num_embeddings)\n",
        "\n",
        "        self.total_loss_tracker = keras.metrics.Mean(name=\"total_loss\")\n",
        "        self.reconstruction_loss_tracker = keras.metrics.Mean(\n",
        "            name=\"reconstruction_loss\"\n",
        "        )\n",
        "        self.vq_loss_tracker = keras.metrics.Mean(name=\"vq_loss\")\n",
        "\n",
        "    @property\n",
        "    def metrics(self):\n",
        "        return [\n",
        "            self.total_loss_tracker,\n",
        "            self.reconstruction_loss_tracker,\n",
        "            self.vq_loss_tracker,\n",
        "        ]\n",
        "\n",
        "    def train_step(self, x):\n",
        "        with tf.GradientTape() as tape:\n",
        "            # Outputs from the VQ-VAE.\n",
        "            reconstructions = self.vqvae(x)\n",
        "\n",
        "            # Calculate the losses.\n",
        "            reconstruction_loss = (\n",
        "                tf.reduce_mean((x - reconstructions) ** 2) /\\\n",
        "                self.train_variance\n",
        "            )\n",
        "            total_loss = reconstruction_loss + sum(self.vqvae.losses)\n",
        "\n",
        "        # Backpropagation.\n",
        "        grads = tape.gradient(total_loss, self.vqvae.trainable_variables)\n",
        "        self.optimizer.apply_gradients(zip(grads, self.vqvae.trainable_variables))\n",
        "\n",
        "        # Loss tracking.\n",
        "        self.total_loss_tracker.update_state(total_loss)\n",
        "        self.reconstruction_loss_tracker.update_state(reconstruction_loss)\n",
        "        self.vq_loss_tracker.update_state(sum(self.vqvae.losses))\n",
        "\n",
        "        # Log results.\n",
        "        return {\n",
        "            \"loss\": self.total_loss_tracker.result(),\n",
        "            \"reconstruction_loss\": self.reconstruction_loss_tracker.result(),\n",
        "            \"vqvae_loss\": self.vq_loss_tracker.result(),\n",
        "        }"
      ]
    },
    {
      "cell_type": "code",
      "execution_count": 161,
      "id": "5e31a3bc",
      "metadata": {
        "colab": {
          "base_uri": "https://localhost:8080/"
        },
        "id": "5e31a3bc",
        "outputId": "4302410f-5c4e-4d9a-d679-1642973aed17"
      },
      "outputs": [
        {
          "output_type": "stream",
          "name": "stdout",
          "text": [
            "Downloading data from https://storage.googleapis.com/tensorflow/tf-keras-datasets/mnist.npz\n",
            "11490434/11490434 [==============================] - 0s 0us/step\n"
          ]
        }
      ],
      "source": [
        "(x_train, _), (x_test, _) = keras.datasets.mnist.load_data()\n",
        "\n",
        "x_train = np.expand_dims(x_train, -1)\n",
        "x_test = np.expand_dims(x_test, -1)\n",
        "x_train_scaled = (x_train / 255.0) - 0.5\n",
        "x_test_scaled = (x_test / 255.0) - 0.5\n",
        "\n",
        "data_variance = np.var(x_train / 255.0)"
      ]
    },
    {
      "cell_type": "code",
      "source": [
        "data_variance"
      ],
      "metadata": {
        "colab": {
          "base_uri": "https://localhost:8080/"
        },
        "id": "hruDoudIR12o",
        "outputId": "9d789fc8-584f-47ee-840d-03d582fdf071"
      },
      "id": "hruDoudIR12o",
      "execution_count": 163,
      "outputs": [
        {
          "output_type": "execute_result",
          "data": {
            "text/plain": [
              "0.09493041879725218"
            ]
          },
          "metadata": {},
          "execution_count": 163
        }
      ]
    },
    {
      "cell_type": "code",
      "execution_count": 162,
      "id": "5905e936-78c4-4e48-9568-3d06dc598a10",
      "metadata": {
        "colab": {
          "base_uri": "https://localhost:8080/"
        },
        "id": "5905e936-78c4-4e48-9568-3d06dc598a10",
        "outputId": "1c09ca98-d37f-48bc-bcbc-ed594380bf98"
      },
      "outputs": [
        {
          "output_type": "stream",
          "name": "stdout",
          "text": [
            "Epoch 1/30\n",
            "469/469 [==============================] - 10s 10ms/step - loss: 1.0515 - reconstruction_loss: 0.2403 - vqvae_loss: 0.4788\n",
            "Epoch 2/30\n",
            "469/469 [==============================] - 4s 9ms/step - loss: 1.0139 - reconstruction_loss: 0.0454 - vqvae_loss: 0.9647\n",
            "Epoch 3/30\n",
            "469/469 [==============================] - 4s 10ms/step - loss: 0.9195 - reconstruction_loss: 0.0364 - vqvae_loss: 0.8816\n",
            "Epoch 4/30\n",
            "469/469 [==============================] - 4s 9ms/step - loss: 0.8770 - reconstruction_loss: 0.0322 - vqvae_loss: 0.8441\n",
            "Epoch 5/30\n",
            "469/469 [==============================] - 4s 9ms/step - loss: 0.8404 - reconstruction_loss: 0.0296 - vqvae_loss: 0.8103\n",
            "Epoch 6/30\n",
            "469/469 [==============================] - 5s 10ms/step - loss: 1.0629 - reconstruction_loss: 0.0302 - vqvae_loss: 1.0279\n",
            "Epoch 7/30\n",
            "469/469 [==============================] - 4s 8ms/step - loss: 0.8224 - reconstruction_loss: 0.0271 - vqvae_loss: 0.7952\n",
            "Epoch 8/30\n",
            "469/469 [==============================] - 4s 9ms/step - loss: 0.8159 - reconstruction_loss: 0.0263 - vqvae_loss: 0.7895\n",
            "Epoch 9/30\n",
            "469/469 [==============================] - 5s 10ms/step - loss: 0.8062 - reconstruction_loss: 0.0255 - vqvae_loss: 0.7805\n",
            "Epoch 10/30\n",
            "469/469 [==============================] - 4s 9ms/step - loss: 0.8041 - reconstruction_loss: 0.0248 - vqvae_loss: 0.7791\n",
            "Epoch 11/30\n",
            "469/469 [==============================] - 4s 8ms/step - loss: 0.8060 - reconstruction_loss: 0.0244 - vqvae_loss: 0.7815\n",
            "Epoch 12/30\n",
            "469/469 [==============================] - 5s 10ms/step - loss: 0.8164 - reconstruction_loss: 0.0238 - vqvae_loss: 0.7924\n",
            "Epoch 13/30\n",
            "469/469 [==============================] - 4s 9ms/step - loss: 0.8181 - reconstruction_loss: 0.0234 - vqvae_loss: 0.7946\n",
            "Epoch 14/30\n",
            "469/469 [==============================] - 4s 9ms/step - loss: 0.8250 - reconstruction_loss: 0.0230 - vqvae_loss: 0.8019\n",
            "Epoch 15/30\n",
            "469/469 [==============================] - 4s 10ms/step - loss: 0.8354 - reconstruction_loss: 0.0228 - vqvae_loss: 0.8126\n",
            "Epoch 16/30\n",
            "469/469 [==============================] - 4s 8ms/step - loss: 0.8448 - reconstruction_loss: 0.0225 - vqvae_loss: 0.8223\n",
            "Epoch 17/30\n",
            "469/469 [==============================] - 4s 9ms/step - loss: 0.8545 - reconstruction_loss: 0.0222 - vqvae_loss: 0.8321\n",
            "Epoch 18/30\n",
            "469/469 [==============================] - 5s 12ms/step - loss: 0.8581 - reconstruction_loss: 0.0220 - vqvae_loss: 0.8360\n",
            "Epoch 19/30\n",
            "469/469 [==============================] - 5s 10ms/step - loss: 0.8716 - reconstruction_loss: 0.0218 - vqvae_loss: 0.8498\n",
            "Epoch 20/30\n",
            "469/469 [==============================] - 4s 9ms/step - loss: 0.8789 - reconstruction_loss: 0.0216 - vqvae_loss: 0.8572\n",
            "Epoch 21/30\n",
            "469/469 [==============================] - 5s 10ms/step - loss: 0.8855 - reconstruction_loss: 0.0214 - vqvae_loss: 0.8640\n",
            "Epoch 22/30\n",
            "469/469 [==============================] - 4s 9ms/step - loss: 0.8860 - reconstruction_loss: 0.0212 - vqvae_loss: 0.8647\n",
            "Epoch 23/30\n",
            "469/469 [==============================] - 4s 9ms/step - loss: 0.9211 - reconstruction_loss: 0.0213 - vqvae_loss: 0.8994\n",
            "Epoch 24/30\n",
            "469/469 [==============================] - 5s 10ms/step - loss: 0.8966 - reconstruction_loss: 0.0210 - vqvae_loss: 0.8757\n",
            "Epoch 25/30\n",
            "469/469 [==============================] - 4s 9ms/step - loss: 0.9229 - reconstruction_loss: 0.0211 - vqvae_loss: 0.9018\n",
            "Epoch 26/30\n",
            "469/469 [==============================] - 4s 9ms/step - loss: 0.9279 - reconstruction_loss: 0.0208 - vqvae_loss: 0.9070\n",
            "Epoch 27/30\n",
            "469/469 [==============================] - 5s 10ms/step - loss: 0.9387 - reconstruction_loss: 0.0208 - vqvae_loss: 0.9179\n",
            "Epoch 28/30\n",
            "469/469 [==============================] - 4s 9ms/step - loss: 0.9474 - reconstruction_loss: 0.0207 - vqvae_loss: 0.9267\n",
            "Epoch 29/30\n",
            "469/469 [==============================] - 4s 9ms/step - loss: 0.9594 - reconstruction_loss: 0.0206 - vqvae_loss: 0.9388\n",
            "Epoch 30/30\n",
            "469/469 [==============================] - 5s 10ms/step - loss: 0.9624 - reconstruction_loss: 0.0206 - vqvae_loss: 0.9418\n"
          ]
        }
      ],
      "source": [
        "def reconstruction_loss(y_true, y_pred):\n",
        "    return -y_pred.log_prob(y_true)\n",
        "\n",
        "vqvae_trainer = VQVAETrainer(data_variance, latent_dim=16, num_embeddings=128)\n",
        "vqvae_trainer.compile(optimizer=keras.optimizers.Adam(),\n",
        "                      loss=reconstruction_loss, metrics=['accuracy'])\n",
        "history = vqvae_trainer.fit(x_train_scaled,\n",
        "                            epochs=30,\n",
        "                            batch_size=128)"
      ]
    },
    {
      "cell_type": "code",
      "execution_count": null,
      "id": "ce501093-e11d-41b1-afc1-3dffd9102184",
      "metadata": {
        "colab": {
          "base_uri": "https://localhost:8080/",
          "height": 1000
        },
        "id": "ce501093-e11d-41b1-afc1-3dffd9102184",
        "outputId": "3ca739c6-70b2-44be-ff3f-b93f6a326d3c"
      },
      "outputs": [
        {
          "output_type": "stream",
          "name": "stdout",
          "text": [
            "1/1 [==============================] - 0s 19ms/step\n"
          ]
        },
        {
          "output_type": "display_data",
          "data": {
            "text/plain": [
              "<Figure size 640x480 with 2 Axes>"
            ],
            "image/png": "[encoded data removed]"
          },
          "metadata": {}
        },
        {
          "output_type": "display_data",
          "data": {
            "text/plain": [
              "<Figure size 640x480 with 2 Axes>"
            ],
            "image/png": "[encoded data removed]"
          },
          "metadata": {}
        },
        {
          "output_type": "display_data",
          "data": {
            "text/plain": [
              "<Figure size 640x480 with 2 Axes>"
            ],
            "image/png": "[encoded data removed]"
          },
          "metadata": {}
        },
        {
          "output_type": "display_data",
          "data": {
            "text/plain": [
              "<Figure size 640x480 with 2 Axes>"
            ],
            "image/png": "[encoded data removed]"
          },
          "metadata": {}
        },
        {
          "output_type": "display_data",
          "data": {
            "text/plain": [
              "<Figure size 640x480 with 2 Axes>"
            ],
            "image/png": "[encoded data removed]"
          },
          "metadata": {}
        },
        {
          "output_type": "display_data",
          "data": {
            "text/plain": [
              "<Figure size 640x480 with 2 Axes>"
            ],
            "image/png": "[encoded data removed]"
          },
          "metadata": {}
        },
        {
          "output_type": "display_data",
          "data": {
            "text/plain": [
              "<Figure size 640x480 with 2 Axes>"
            ],
            "image/png": "[encoded data removed]"
          },
          "metadata": {}
        },
        {
          "output_type": "display_data",
          "data": {
            "text/plain": [
              "<Figure size 640x480 with 2 Axes>"
            ],
            "image/png": "[encoded data removed]"
          },
          "metadata": {}
        },
        {
          "output_type": "display_data",
          "data": {
            "text/plain": [
              "<Figure size 640x480 with 2 Axes>"
            ],
            "image/png": "[encoded data removed]"
          },
          "metadata": {}
        },
        {
          "output_type": "display_data",
          "data": {
            "text/plain": [
              "<Figure size 640x480 with 2 Axes>"
            ],
            "image/png": "[encoded data removed]"
          },
          "metadata": {}
        }
      ],
      "source": [
        "def show_subplot(original, reconstructed):\n",
        "    plt.subplot(1, 2, 1)\n",
        "    plt.imshow(original.squeeze() + 0.5)\n",
        "    plt.title(\"Original\")\n",
        "    plt.axis(\"off\")\n",
        "\n",
        "    plt.subplot(1, 2, 2)\n",
        "    plt.imshow(reconstructed.squeeze() + 0.5)\n",
        "    plt.title(\"Reconstructed\")\n",
        "    plt.axis(\"off\")\n",
        "\n",
        "    plt.show()\n",
        "\n",
        "\n",
        "trained_vqvae_model = vqvae_trainer.vqvae\n",
        "idx = np.random.choice(len(x_test_scaled), 10)\n",
        "test_images = x_test_scaled[idx]\n",
        "reconstructions_test = trained_vqvae_model.predict(test_images)\n",
        "\n",
        "for test_image, reconstructed_image in zip(test_images, reconstructions_test):\n",
        "    show_subplot(test_image, reconstructed_image)"
      ]
    },
    {
      "cell_type": "markdown",
      "id": "5bA2QKAibYd4",
      "metadata": {
        "id": "5bA2QKAibYd4"
      },
      "source": [
        "### Question 3 (Total 40 marks)"
      ]
    },
    {
      "cell_type": "markdown",
      "id": "UjyRm8aDjo6d",
      "metadata": {
        "id": "UjyRm8aDjo6d"
      },
      "source": [
        "a) Design, implement and train a VQ-VAE for the spoken digit dataset. You are free to choose any architecture for the encoder and decoder networks, but your model should use the custom RVQ layer from question 2, with $N_q\\ge2$ codebooks. (If you have been unable to implement this custom layer, then you should use the `VectorQuantizer` layer from the [Keras website](https://keras.io/examples/generative/vq_vae/)). You can also make additions or modifications to the training algorithm if you wish.\n",
        "\n",
        "Your trained model should output a sequence of codebook vectors using the encoder and RVQ layer, which are then decoded by the decoder network to reconstruct the original input.\n",
        "\n",
        "You should record any experiments you carry out along with the training logs, to be reported in question 4. Your code in this question does not need to be presented so that it runs all experiments, it can be set out to run the best experiment only.\n",
        "\n",
        "Display some examples (playable using the `Audio` class from the `IPython.display` module as in question 1) from the dataset along with their reconstructions to demonstrate the trained model.\n",
        "\n",
        "**(25 marks)**"
      ]
    },
    {
      "cell_type": "markdown",
      "id": "09f7fdee-f616-4c3a-8fa5-ff70a86f289c",
      "metadata": {
        "id": "09f7fdee-f616-4c3a-8fa5-ff70a86f289c"
      },
      "source": [
        "We will need to create a few custom layers to handle the masking of padding values in the inputs."
      ]
    },
    {
      "cell_type": "code",
      "execution_count": null,
      "id": "63e64cc2-5019-44b0-b54a-02611474bccc",
      "metadata": {
        "id": "63e64cc2-5019-44b0-b54a-02611474bccc"
      },
      "outputs": [],
      "source": [
        "#RAVE: A variational autoencoder for fast and high-quality neural audio synthesis\n",
        "#https://www.kaggle.com/code/basu369victor/generate-music-with-variational-autoencoder"
      ]
    },
    {
      "cell_type": "code",
      "execution_count": null,
      "id": "5b455d69-4afc-4f12-bca2-e27fac8cccfa",
      "metadata": {
        "id": "5b455d69-4afc-4f12-bca2-e27fac8cccfa"
      },
      "outputs": [],
      "source": [
        "#https://yuehan-z.medium.com/introduction-to-vaes-in-ai-music-generation-d8e0cfc2245b"
      ]
    },
    {
      "cell_type": "code",
      "execution_count": null,
      "id": "67060d06-3a21-4cdb-8a09-2301a1efff07",
      "metadata": {
        "id": "67060d06-3a21-4cdb-8a09-2301a1efff07",
        "colab": {
          "base_uri": "https://localhost:8080/"
        },
        "outputId": "025a5714-bdfe-4367-e846-583d31768122"
      },
      "outputs": [
        {
          "output_type": "stream",
          "name": "stdout",
          "text": [
            "Model: \"encoder\"\n",
            "_________________________________________________________________\n",
            " Layer (type)                Output Shape              Param #   \n",
            "=================================================================\n",
            " input_sound (InputLayer)    [(None, None)]            0         \n",
            "                                                                 \n",
            " embedding (Embedding)       (None, None, 64)          4194240   \n",
            "                                                                 \n",
            "=================================================================\n",
            "Total params: 4194240 (16.00 MB)\n",
            "Trainable params: 4194240 (16.00 MB)\n",
            "Non-trainable params: 0 (0.00 Byte)\n",
            "_________________________________________________________________\n"
          ]
        }
      ],
      "source": []
    },
    {
      "cell_type": "code",
      "execution_count": null,
      "id": "e31638a5-9a8f-4679-8077-210fbe75a844",
      "metadata": {
        "id": "e31638a5-9a8f-4679-8077-210fbe75a844",
        "colab": {
          "base_uri": "https://localhost:8080/"
        },
        "outputId": "2a5e847d-855b-4173-ae87-31b0b071f8fa"
      },
      "outputs": [
        {
          "output_type": "execute_result",
          "data": {
            "text/plain": [
              "TensorShape([64, 7038])"
            ]
          },
          "metadata": {},
          "execution_count": 115
        }
      ],
      "source": []
    },
    {
      "cell_type": "code",
      "execution_count": null,
      "id": "b31e1b7b",
      "metadata": {
        "id": "b31e1b7b"
      },
      "outputs": [],
      "source": []
    },
    {
      "cell_type": "code",
      "execution_count": null,
      "id": "b7e8f9c7",
      "metadata": {
        "id": "b7e8f9c7"
      },
      "outputs": [],
      "source": []
    },
    {
      "cell_type": "markdown",
      "id": "bRwKgxYjn5NC",
      "metadata": {
        "id": "bRwKgxYjn5NC"
      },
      "source": [
        "b) The VQ-VAE quantisation layer emits a sequence of discrete codes for a given audio input. During training, the prior distribution over these codes is kept uniform. In order to use the model to generate audio, it is necessary to train a second model to predict likely sequences of codebook vectors.\n",
        "\n",
        "This second model is usually referred to in the literature as a 'prior' model (note that this is not really a prior, as it is trained on the data). We will adopt this same terminology here.\n",
        "\n",
        "You should design, implement and train a prior model to generate sequences of codebook vectors, using the output of the trained VQ-VAE encoder and quantisation stage, using the same training data that was used to train the VQ-VAE. You are again free to choose any architecture for the prior model.\n",
        "\n",
        "Your trained model should generate a sequence that can be decoded by the VQ-VAE to output audio.\n",
        "\n",
        "You should record any experiments you carry out along with the training logs, to be reported in question 4. Your code in this question does not need to be presented so that it runs all experiments, it can be set out to run the best set of hyperparameters, according to your validation results. You should aim to try at least two sets of hyperparameters.\n",
        "\n",
        "Display some examples (playable using the Audio class from the IPython.display module as in question 1) generated using your prior and VQ-VAE model.\n",
        "\n",
        "**(15 marks)**"
      ]
    },
    {
      "cell_type": "code",
      "execution_count": null,
      "id": "H-VlbMyqQCA0",
      "metadata": {
        "id": "H-VlbMyqQCA0"
      },
      "outputs": [],
      "source": []
    },
    {
      "cell_type": "code",
      "execution_count": null,
      "id": "d9ece53c-218d-4cd4-85cd-19282a634582",
      "metadata": {
        "id": "d9ece53c-218d-4cd4-85cd-19282a634582"
      },
      "outputs": [],
      "source": []
    },
    {
      "cell_type": "code",
      "execution_count": null,
      "id": "004237da-aabf-4d9b-85b6-4f5067b4039a",
      "metadata": {
        "id": "004237da-aabf-4d9b-85b6-4f5067b4039a"
      },
      "outputs": [],
      "source": []
    },
    {
      "cell_type": "code",
      "execution_count": null,
      "id": "881fb14b-bee2-437b-9f73-daa36de0d902",
      "metadata": {
        "id": "881fb14b-bee2-437b-9f73-daa36de0d902"
      },
      "outputs": [],
      "source": []
    },
    {
      "cell_type": "code",
      "execution_count": null,
      "id": "7946a4e4-a7dc-4ee9-89b8-00d2d3a1acd5",
      "metadata": {
        "id": "7946a4e4-a7dc-4ee9-89b8-00d2d3a1acd5"
      },
      "outputs": [],
      "source": []
    },
    {
      "cell_type": "code",
      "execution_count": null,
      "id": "78a05452-a3e3-4249-8381-8dab3d0fc8ef",
      "metadata": {
        "id": "78a05452-a3e3-4249-8381-8dab3d0fc8ef"
      },
      "outputs": [],
      "source": []
    },
    {
      "cell_type": "markdown",
      "id": "3a189c83-268a-432f-8674-3e377b770bbb",
      "metadata": {
        "id": "3a189c83-268a-432f-8674-3e377b770bbb"
      },
      "source": [
        "### Question 4 (Total 15 marks)"
      ]
    },
    {
      "cell_type": "markdown",
      "id": "cb0e16d3-a85f-4d23-bc4b-b65360c3b45c",
      "metadata": {
        "id": "cb0e16d3-a85f-4d23-bc4b-b65360c3b45c"
      },
      "source": [
        "Provide a separate PDF report with an account of the models and experiment design you have made in question 3. Your report should include details of the choices you have made throughout the development of the models, including the data processing, architecture design, hyperparameter settings/experiments and training algorithm. Where appropriate, you can also provide your intuition behind these choices.\n",
        "\n",
        "Your report should also include the results from your experiments, highlighting the best choice of hyperparameters that you found. If you encountered difficulties to successfully train the model(s) you should report these, and if possible suggest what you think might be potential reasons for these difficulties. Are there additional experiments or modifications to the model and/or training algorithm that you would have liked to make given more time?\n",
        "\n",
        "Marks will be awarded for presentation and clarity. Your report should be no more than 2-3 pages.\n",
        "\n",
        "**(15 marks)**"
      ]
    }
  ],
  "metadata": {
    "accelerator": "GPU",
    "colab": {
      "gpuType": "T4",
      "provenance": [],
      "include_colab_link": true
    },
    "kernelspec": {
      "display_name": "Python 3 (ipykernel)",
      "language": "python",
      "name": "python3"
    },
    "language_info": {
      "codemirror_mode": {
        "name": "ipython",
        "version": 3
      },
      "file_extension": ".py",
      "mimetype": "text/x-python",
      "name": "python",
      "nbconvert_exporter": "python",
      "pygments_lexer": "ipython3",
      "version": "3.11.0rc1"
    },
    "widgets": {
      "application/vnd.jupyter.widget-state+json": {
        "b407db45be234c4bb2e503c02255c11b": {
          "model_module": "@jupyter-widgets/controls",
          "model_name": "HBoxModel",
          "model_module_version": "1.5.0",
          "state": {
            "_dom_classes": [],
            "_model_module": "@jupyter-widgets/controls",
            "_model_module_version": "1.5.0",
            "_model_name": "HBoxModel",
            "_view_count": null,
            "_view_module": "@jupyter-widgets/controls",
            "_view_module_version": "1.5.0",
            "_view_name": "HBoxView",
            "box_style": "",
            "children": [
              "IPY_MODEL_eb6138e53a6b4984b2650901f9b2cbde",
              "IPY_MODEL_7714b005c58a41e2a0d88df094425e25",
              "IPY_MODEL_1a4d1ce6ba2d4b09a8e84cb1c5d4ef96"
            ],
            "layout": "IPY_MODEL_044f47707e40472a916e26a9099cc6a5"
          }
        },
        "eb6138e53a6b4984b2650901f9b2cbde": {
          "model_module": "@jupyter-widgets/controls",
          "model_name": "HTMLModel",
          "model_module_version": "1.5.0",
          "state": {
            "_dom_classes": [],
            "_model_module": "@jupyter-widgets/controls",
            "_model_module_version": "1.5.0",
            "_model_name": "HTMLModel",
            "_view_count": null,
            "_view_module": "@jupyter-widgets/controls",
            "_view_module_version": "1.5.0",
            "_view_name": "HTMLView",
            "description": "",
            "description_tooltip": null,
            "layout": "IPY_MODEL_534c9a1c807d49739e0be7e0731fdfbe",
            "placeholder": "​",
            "style": "IPY_MODEL_3c8020a40f094dc7bb58f8ffd06ab9d4",
            "value": "Dl Completed...: 100%"
          }
        },
        "7714b005c58a41e2a0d88df094425e25": {
          "model_module": "@jupyter-widgets/controls",
          "model_name": "FloatProgressModel",
          "model_module_version": "1.5.0",
          "state": {
            "_dom_classes": [],
            "_model_module": "@jupyter-widgets/controls",
            "_model_module_version": "1.5.0",
            "_model_name": "FloatProgressModel",
            "_view_count": null,
            "_view_module": "@jupyter-widgets/controls",
            "_view_module_version": "1.5.0",
            "_view_name": "ProgressView",
            "bar_style": "success",
            "description": "",
            "description_tooltip": null,
            "layout": "IPY_MODEL_57da1827613c45579a0f4c804492b739",
            "max": 1,
            "min": 0,
            "orientation": "horizontal",
            "style": "IPY_MODEL_fe907b4190a144c6a7d2970e9474f608",
            "value": 1
          }
        },
        "1a4d1ce6ba2d4b09a8e84cb1c5d4ef96": {
          "model_module": "@jupyter-widgets/controls",
          "model_name": "HTMLModel",
          "model_module_version": "1.5.0",
          "state": {
            "_dom_classes": [],
            "_model_module": "@jupyter-widgets/controls",
            "_model_module_version": "1.5.0",
            "_model_name": "HTMLModel",
            "_view_count": null,
            "_view_module": "@jupyter-widgets/controls",
            "_view_module_version": "1.5.0",
            "_view_name": "HTMLView",
            "description": "",
            "description_tooltip": null,
            "layout": "IPY_MODEL_ee3feda2258248f281068d647eed711b",
            "placeholder": "​",
            "style": "IPY_MODEL_6d12249bd5144423a87c8cad60d8c42b",
            "value": " 1/1 [00:07&lt;00:00,  1.45s/ url]"
          }
        },
        "044f47707e40472a916e26a9099cc6a5": {
          "model_module": "@jupyter-widgets/base",
          "model_name": "LayoutModel",
          "model_module_version": "1.2.0",
          "state": {
            "_model_module": "@jupyter-widgets/base",
            "_model_module_version": "1.2.0",
            "_model_name": "LayoutModel",
            "_view_count": null,
            "_view_module": "@jupyter-widgets/base",
            "_view_module_version": "1.2.0",
            "_view_name": "LayoutView",
            "align_content": null,
            "align_items": null,
            "align_self": null,
            "border": null,
            "bottom": null,
            "display": null,
            "flex": null,
            "flex_flow": null,
            "grid_area": null,
            "grid_auto_columns": null,
            "grid_auto_flow": null,
            "grid_auto_rows": null,
            "grid_column": null,
            "grid_gap": null,
            "grid_row": null,
            "grid_template_areas": null,
            "grid_template_columns": null,
            "grid_template_rows": null,
            "height": null,
            "justify_content": null,
            "justify_items": null,
            "left": null,
            "margin": null,
            "max_height": null,
            "max_width": null,
            "min_height": null,
            "min_width": null,
            "object_fit": null,
            "object_position": null,
            "order": null,
            "overflow": null,
            "overflow_x": null,
            "overflow_y": null,
            "padding": null,
            "right": null,
            "top": null,
            "visibility": null,
            "width": null
          }
        },
        "534c9a1c807d49739e0be7e0731fdfbe": {
          "model_module": "@jupyter-widgets/base",
          "model_name": "LayoutModel",
          "model_module_version": "1.2.0",
          "state": {
            "_model_module": "@jupyter-widgets/base",
            "_model_module_version": "1.2.0",
            "_model_name": "LayoutModel",
            "_view_count": null,
            "_view_module": "@jupyter-widgets/base",
            "_view_module_version": "1.2.0",
            "_view_name": "LayoutView",
            "align_content": null,
            "align_items": null,
            "align_self": null,
            "border": null,
            "bottom": null,
            "display": null,
            "flex": null,
            "flex_flow": null,
            "grid_area": null,
            "grid_auto_columns": null,
            "grid_auto_flow": null,
            "grid_auto_rows": null,
            "grid_column": null,
            "grid_gap": null,
            "grid_row": null,
            "grid_template_areas": null,
            "grid_template_columns": null,
            "grid_template_rows": null,
            "height": null,
            "justify_content": null,
            "justify_items": null,
            "left": null,
            "margin": null,
            "max_height": null,
            "max_width": null,
            "min_height": null,
            "min_width": null,
            "object_fit": null,
            "object_position": null,
            "order": null,
            "overflow": null,
            "overflow_x": null,
            "overflow_y": null,
            "padding": null,
            "right": null,
            "top": null,
            "visibility": null,
            "width": null
          }
        },
        "3c8020a40f094dc7bb58f8ffd06ab9d4": {
          "model_module": "@jupyter-widgets/controls",
          "model_name": "DescriptionStyleModel",
          "model_module_version": "1.5.0",
          "state": {
            "_model_module": "@jupyter-widgets/controls",
            "_model_module_version": "1.5.0",
            "_model_name": "DescriptionStyleModel",
            "_view_count": null,
            "_view_module": "@jupyter-widgets/base",
            "_view_module_version": "1.2.0",
            "_view_name": "StyleView",
            "description_width": ""
          }
        },
        "57da1827613c45579a0f4c804492b739": {
          "model_module": "@jupyter-widgets/base",
          "model_name": "LayoutModel",
          "model_module_version": "1.2.0",
          "state": {
            "_model_module": "@jupyter-widgets/base",
            "_model_module_version": "1.2.0",
            "_model_name": "LayoutModel",
            "_view_count": null,
            "_view_module": "@jupyter-widgets/base",
            "_view_module_version": "1.2.0",
            "_view_name": "LayoutView",
            "align_content": null,
            "align_items": null,
            "align_self": null,
            "border": null,
            "bottom": null,
            "display": null,
            "flex": null,
            "flex_flow": null,
            "grid_area": null,
            "grid_auto_columns": null,
            "grid_auto_flow": null,
            "grid_auto_rows": null,
            "grid_column": null,
            "grid_gap": null,
            "grid_row": null,
            "grid_template_areas": null,
            "grid_template_columns": null,
            "grid_template_rows": null,
            "height": null,
            "justify_content": null,
            "justify_items": null,
            "left": null,
            "margin": null,
            "max_height": null,
            "max_width": null,
            "min_height": null,
            "min_width": null,
            "object_fit": null,
            "object_position": null,
            "order": null,
            "overflow": null,
            "overflow_x": null,
            "overflow_y": null,
            "padding": null,
            "right": null,
            "top": null,
            "visibility": null,
            "width": "20px"
          }
        },
        "fe907b4190a144c6a7d2970e9474f608": {
          "model_module": "@jupyter-widgets/controls",
          "model_name": "ProgressStyleModel",
          "model_module_version": "1.5.0",
          "state": {
            "_model_module": "@jupyter-widgets/controls",
            "_model_module_version": "1.5.0",
            "_model_name": "ProgressStyleModel",
            "_view_count": null,
            "_view_module": "@jupyter-widgets/base",
            "_view_module_version": "1.2.0",
            "_view_name": "StyleView",
            "bar_color": null,
            "description_width": ""
          }
        },
        "ee3feda2258248f281068d647eed711b": {
          "model_module": "@jupyter-widgets/base",
          "model_name": "LayoutModel",
          "model_module_version": "1.2.0",
          "state": {
            "_model_module": "@jupyter-widgets/base",
            "_model_module_version": "1.2.0",
            "_model_name": "LayoutModel",
            "_view_count": null,
            "_view_module": "@jupyter-widgets/base",
            "_view_module_version": "1.2.0",
            "_view_name": "LayoutView",
            "align_content": null,
            "align_items": null,
            "align_self": null,
            "border": null,
            "bottom": null,
            "display": null,
            "flex": null,
            "flex_flow": null,
            "grid_area": null,
            "grid_auto_columns": null,
            "grid_auto_flow": null,
            "grid_auto_rows": null,
            "grid_column": null,
            "grid_gap": null,
            "grid_row": null,
            "grid_template_areas": null,
            "grid_template_columns": null,
            "grid_template_rows": null,
            "height": null,
            "justify_content": null,
            "justify_items": null,
            "left": null,
            "margin": null,
            "max_height": null,
            "max_width": null,
            "min_height": null,
            "min_width": null,
            "object_fit": null,
            "object_position": null,
            "order": null,
            "overflow": null,
            "overflow_x": null,
            "overflow_y": null,
            "padding": null,
            "right": null,
            "top": null,
            "visibility": null,
            "width": null
          }
        },
        "6d12249bd5144423a87c8cad60d8c42b": {
          "model_module": "@jupyter-widgets/controls",
          "model_name": "DescriptionStyleModel",
          "model_module_version": "1.5.0",
          "state": {
            "_model_module": "@jupyter-widgets/controls",
            "_model_module_version": "1.5.0",
            "_model_name": "DescriptionStyleModel",
            "_view_count": null,
            "_view_module": "@jupyter-widgets/base",
            "_view_module_version": "1.2.0",
            "_view_name": "StyleView",
            "description_width": ""
          }
        },
        "345f5b612cc641f59165144109368fd8": {
          "model_module": "@jupyter-widgets/controls",
          "model_name": "HBoxModel",
          "model_module_version": "1.5.0",
          "state": {
            "_dom_classes": [],
            "_model_module": "@jupyter-widgets/controls",
            "_model_module_version": "1.5.0",
            "_model_name": "HBoxModel",
            "_view_count": null,
            "_view_module": "@jupyter-widgets/controls",
            "_view_module_version": "1.5.0",
            "_view_name": "HBoxView",
            "box_style": "",
            "children": [
              "IPY_MODEL_bc17ad3d34454a26ab0e26611d42af4a",
              "IPY_MODEL_8996cc16e84c465da9e1dffe6bfc45a4",
              "IPY_MODEL_2217693d01724369906c57c7f5d4e465"
            ],
            "layout": "IPY_MODEL_d979ddba0d484ddea27475bfc3715741"
          }
        },
        "bc17ad3d34454a26ab0e26611d42af4a": {
          "model_module": "@jupyter-widgets/controls",
          "model_name": "HTMLModel",
          "model_module_version": "1.5.0",
          "state": {
            "_dom_classes": [],
            "_model_module": "@jupyter-widgets/controls",
            "_model_module_version": "1.5.0",
            "_model_name": "HTMLModel",
            "_view_count": null,
            "_view_module": "@jupyter-widgets/controls",
            "_view_module_version": "1.5.0",
            "_view_name": "HTMLView",
            "description": "",
            "description_tooltip": null,
            "layout": "IPY_MODEL_7e63b57766d94498b5c892c0e24e711c",
            "placeholder": "​",
            "style": "IPY_MODEL_c5c245ee57354232be942c5527a83b3c",
            "value": "Dl Size...: "
          }
        },
        "8996cc16e84c465da9e1dffe6bfc45a4": {
          "model_module": "@jupyter-widgets/controls",
          "model_name": "FloatProgressModel",
          "model_module_version": "1.5.0",
          "state": {
            "_dom_classes": [],
            "_model_module": "@jupyter-widgets/controls",
            "_model_module_version": "1.5.0",
            "_model_name": "FloatProgressModel",
            "_view_count": null,
            "_view_module": "@jupyter-widgets/controls",
            "_view_module_version": "1.5.0",
            "_view_name": "ProgressView",
            "bar_style": "success",
            "description": "",
            "description_tooltip": null,
            "layout": "IPY_MODEL_d3177faa4d7343508bf4b9016cba2de6",
            "max": 1,
            "min": 0,
            "orientation": "horizontal",
            "style": "IPY_MODEL_90ee733c758c442ea6987d2586cbbf45",
            "value": 1
          }
        },
        "2217693d01724369906c57c7f5d4e465": {
          "model_module": "@jupyter-widgets/controls",
          "model_name": "HTMLModel",
          "model_module_version": "1.5.0",
          "state": {
            "_dom_classes": [],
            "_model_module": "@jupyter-widgets/controls",
            "_model_module_version": "1.5.0",
            "_model_name": "HTMLModel",
            "_view_count": null,
            "_view_module": "@jupyter-widgets/controls",
            "_view_module_version": "1.5.0",
            "_view_name": "HTMLView",
            "description": "",
            "description_tooltip": null,
            "layout": "IPY_MODEL_9ece053f45c14132ab1a2b35a6771009",
            "placeholder": "​",
            "style": "IPY_MODEL_d87777ea7c0d4eec8c896115549de216",
            "value": " 11/0 [00:07&lt;00:00,  6.63 MiB/s]"
          }
        },
        "d979ddba0d484ddea27475bfc3715741": {
          "model_module": "@jupyter-widgets/base",
          "model_name": "LayoutModel",
          "model_module_version": "1.2.0",
          "state": {
            "_model_module": "@jupyter-widgets/base",
            "_model_module_version": "1.2.0",
            "_model_name": "LayoutModel",
            "_view_count": null,
            "_view_module": "@jupyter-widgets/base",
            "_view_module_version": "1.2.0",
            "_view_name": "LayoutView",
            "align_content": null,
            "align_items": null,
            "align_self": null,
            "border": null,
            "bottom": null,
            "display": null,
            "flex": null,
            "flex_flow": null,
            "grid_area": null,
            "grid_auto_columns": null,
            "grid_auto_flow": null,
            "grid_auto_rows": null,
            "grid_column": null,
            "grid_gap": null,
            "grid_row": null,
            "grid_template_areas": null,
            "grid_template_columns": null,
            "grid_template_rows": null,
            "height": null,
            "justify_content": null,
            "justify_items": null,
            "left": null,
            "margin": null,
            "max_height": null,
            "max_width": null,
            "min_height": null,
            "min_width": null,
            "object_fit": null,
            "object_position": null,
            "order": null,
            "overflow": null,
            "overflow_x": null,
            "overflow_y": null,
            "padding": null,
            "right": null,
            "top": null,
            "visibility": null,
            "width": null
          }
        },
        "7e63b57766d94498b5c892c0e24e711c": {
          "model_module": "@jupyter-widgets/base",
          "model_name": "LayoutModel",
          "model_module_version": "1.2.0",
          "state": {
            "_model_module": "@jupyter-widgets/base",
            "_model_module_version": "1.2.0",
            "_model_name": "LayoutModel",
            "_view_count": null,
            "_view_module": "@jupyter-widgets/base",
            "_view_module_version": "1.2.0",
            "_view_name": "LayoutView",
            "align_content": null,
            "align_items": null,
            "align_self": null,
            "border": null,
            "bottom": null,
            "display": null,
            "flex": null,
            "flex_flow": null,
            "grid_area": null,
            "grid_auto_columns": null,
            "grid_auto_flow": null,
            "grid_auto_rows": null,
            "grid_column": null,
            "grid_gap": null,
            "grid_row": null,
            "grid_template_areas": null,
            "grid_template_columns": null,
            "grid_template_rows": null,
            "height": null,
            "justify_content": null,
            "justify_items": null,
            "left": null,
            "margin": null,
            "max_height": null,
            "max_width": null,
            "min_height": null,
            "min_width": null,
            "object_fit": null,
            "object_position": null,
            "order": null,
            "overflow": null,
            "overflow_x": null,
            "overflow_y": null,
            "padding": null,
            "right": null,
            "top": null,
            "visibility": null,
            "width": null
          }
        },
        "c5c245ee57354232be942c5527a83b3c": {
          "model_module": "@jupyter-widgets/controls",
          "model_name": "DescriptionStyleModel",
          "model_module_version": "1.5.0",
          "state": {
            "_model_module": "@jupyter-widgets/controls",
            "_model_module_version": "1.5.0",
            "_model_name": "DescriptionStyleModel",
            "_view_count": null,
            "_view_module": "@jupyter-widgets/base",
            "_view_module_version": "1.2.0",
            "_view_name": "StyleView",
            "description_width": ""
          }
        },
        "d3177faa4d7343508bf4b9016cba2de6": {
          "model_module": "@jupyter-widgets/base",
          "model_name": "LayoutModel",
          "model_module_version": "1.2.0",
          "state": {
            "_model_module": "@jupyter-widgets/base",
            "_model_module_version": "1.2.0",
            "_model_name": "LayoutModel",
            "_view_count": null,
            "_view_module": "@jupyter-widgets/base",
            "_view_module_version": "1.2.0",
            "_view_name": "LayoutView",
            "align_content": null,
            "align_items": null,
            "align_self": null,
            "border": null,
            "bottom": null,
            "display": null,
            "flex": null,
            "flex_flow": null,
            "grid_area": null,
            "grid_auto_columns": null,
            "grid_auto_flow": null,
            "grid_auto_rows": null,
            "grid_column": null,
            "grid_gap": null,
            "grid_row": null,
            "grid_template_areas": null,
            "grid_template_columns": null,
            "grid_template_rows": null,
            "height": null,
            "justify_content": null,
            "justify_items": null,
            "left": null,
            "margin": null,
            "max_height": null,
            "max_width": null,
            "min_height": null,
            "min_width": null,
            "object_fit": null,
            "object_position": null,
            "order": null,
            "overflow": null,
            "overflow_x": null,
            "overflow_y": null,
            "padding": null,
            "right": null,
            "top": null,
            "visibility": null,
            "width": "20px"
          }
        },
        "90ee733c758c442ea6987d2586cbbf45": {
          "model_module": "@jupyter-widgets/controls",
          "model_name": "ProgressStyleModel",
          "model_module_version": "1.5.0",
          "state": {
            "_model_module": "@jupyter-widgets/controls",
            "_model_module_version": "1.5.0",
            "_model_name": "ProgressStyleModel",
            "_view_count": null,
            "_view_module": "@jupyter-widgets/base",
            "_view_module_version": "1.2.0",
            "_view_name": "StyleView",
            "bar_color": null,
            "description_width": ""
          }
        },
        "9ece053f45c14132ab1a2b35a6771009": {
          "model_module": "@jupyter-widgets/base",
          "model_name": "LayoutModel",
          "model_module_version": "1.2.0",
          "state": {
            "_model_module": "@jupyter-widgets/base",
            "_model_module_version": "1.2.0",
            "_model_name": "LayoutModel",
            "_view_count": null,
            "_view_module": "@jupyter-widgets/base",
            "_view_module_version": "1.2.0",
            "_view_name": "LayoutView",
            "align_content": null,
            "align_items": null,
            "align_self": null,
            "border": null,
            "bottom": null,
            "display": null,
            "flex": null,
            "flex_flow": null,
            "grid_area": null,
            "grid_auto_columns": null,
            "grid_auto_flow": null,
            "grid_auto_rows": null,
            "grid_column": null,
            "grid_gap": null,
            "grid_row": null,
            "grid_template_areas": null,
            "grid_template_columns": null,
            "grid_template_rows": null,
            "height": null,
            "justify_content": null,
            "justify_items": null,
            "left": null,
            "margin": null,
            "max_height": null,
            "max_width": null,
            "min_height": null,
            "min_width": null,
            "object_fit": null,
            "object_position": null,
            "order": null,
            "overflow": null,
            "overflow_x": null,
            "overflow_y": null,
            "padding": null,
            "right": null,
            "top": null,
            "visibility": null,
            "width": null
          }
        },
        "d87777ea7c0d4eec8c896115549de216": {
          "model_module": "@jupyter-widgets/controls",
          "model_name": "DescriptionStyleModel",
          "model_module_version": "1.5.0",
          "state": {
            "_model_module": "@jupyter-widgets/controls",
            "_model_module_version": "1.5.0",
            "_model_name": "DescriptionStyleModel",
            "_view_count": null,
            "_view_module": "@jupyter-widgets/base",
            "_view_module_version": "1.2.0",
            "_view_name": "StyleView",
            "description_width": ""
          }
        },
        "76eca3e20f6b45b9ad421ee2a6489bca": {
          "model_module": "@jupyter-widgets/controls",
          "model_name": "HBoxModel",
          "model_module_version": "1.5.0",
          "state": {
            "_dom_classes": [],
            "_model_module": "@jupyter-widgets/controls",
            "_model_module_version": "1.5.0",
            "_model_name": "HBoxModel",
            "_view_count": null,
            "_view_module": "@jupyter-widgets/controls",
            "_view_module_version": "1.5.0",
            "_view_name": "HBoxView",
            "box_style": "",
            "children": [
              "IPY_MODEL_a157fa6c1d5f4bc5a5dd8675bc5c8ffd",
              "IPY_MODEL_7f163f2e1472495fae6d09e63bdfc9d5",
              "IPY_MODEL_842c99e8333844a4ad5a7b6a928d6f2b"
            ],
            "layout": "IPY_MODEL_37d257f39a87448d8ffe4f45010dbf6a"
          }
        },
        "a157fa6c1d5f4bc5a5dd8675bc5c8ffd": {
          "model_module": "@jupyter-widgets/controls",
          "model_name": "HTMLModel",
          "model_module_version": "1.5.0",
          "state": {
            "_dom_classes": [],
            "_model_module": "@jupyter-widgets/controls",
            "_model_module_version": "1.5.0",
            "_model_name": "HTMLModel",
            "_view_count": null,
            "_view_module": "@jupyter-widgets/controls",
            "_view_module_version": "1.5.0",
            "_view_name": "HTMLView",
            "description": "",
            "description_tooltip": null,
            "layout": "IPY_MODEL_121c0b429c4649649ed3da1751f3267b",
            "placeholder": "​",
            "style": "IPY_MODEL_e48b47754763445899304d1bf93a8238",
            "value": "Extraction completed...: 100%"
          }
        },
        "7f163f2e1472495fae6d09e63bdfc9d5": {
          "model_module": "@jupyter-widgets/controls",
          "model_name": "FloatProgressModel",
          "model_module_version": "1.5.0",
          "state": {
            "_dom_classes": [],
            "_model_module": "@jupyter-widgets/controls",
            "_model_module_version": "1.5.0",
            "_model_name": "FloatProgressModel",
            "_view_count": null,
            "_view_module": "@jupyter-widgets/controls",
            "_view_module_version": "1.5.0",
            "_view_name": "ProgressView",
            "bar_style": "success",
            "description": "",
            "description_tooltip": null,
            "layout": "IPY_MODEL_a9eecd6d8f13443f93e253dcfad590f5",
            "max": 1,
            "min": 0,
            "orientation": "horizontal",
            "style": "IPY_MODEL_ed4c05b3b17d486a85a4037053f1d89c",
            "value": 1
          }
        },
        "842c99e8333844a4ad5a7b6a928d6f2b": {
          "model_module": "@jupyter-widgets/controls",
          "model_name": "HTMLModel",
          "model_module_version": "1.5.0",
          "state": {
            "_dom_classes": [],
            "_model_module": "@jupyter-widgets/controls",
            "_model_module_version": "1.5.0",
            "_model_name": "HTMLModel",
            "_view_count": null,
            "_view_module": "@jupyter-widgets/controls",
            "_view_module_version": "1.5.0",
            "_view_name": "HTMLView",
            "description": "",
            "description_tooltip": null,
            "layout": "IPY_MODEL_5866d882eadc47fcbede00a25663179c",
            "placeholder": "​",
            "style": "IPY_MODEL_4afb159cceea493fa1caed20e08fc140",
            "value": " 2511/2511 [00:07&lt;00:00, 412.15 file/s]"
          }
        },
        "37d257f39a87448d8ffe4f45010dbf6a": {
          "model_module": "@jupyter-widgets/base",
          "model_name": "LayoutModel",
          "model_module_version": "1.2.0",
          "state": {
            "_model_module": "@jupyter-widgets/base",
            "_model_module_version": "1.2.0",
            "_model_name": "LayoutModel",
            "_view_count": null,
            "_view_module": "@jupyter-widgets/base",
            "_view_module_version": "1.2.0",
            "_view_name": "LayoutView",
            "align_content": null,
            "align_items": null,
            "align_self": null,
            "border": null,
            "bottom": null,
            "display": null,
            "flex": null,
            "flex_flow": null,
            "grid_area": null,
            "grid_auto_columns": null,
            "grid_auto_flow": null,
            "grid_auto_rows": null,
            "grid_column": null,
            "grid_gap": null,
            "grid_row": null,
            "grid_template_areas": null,
            "grid_template_columns": null,
            "grid_template_rows": null,
            "height": null,
            "justify_content": null,
            "justify_items": null,
            "left": null,
            "margin": null,
            "max_height": null,
            "max_width": null,
            "min_height": null,
            "min_width": null,
            "object_fit": null,
            "object_position": null,
            "order": null,
            "overflow": null,
            "overflow_x": null,
            "overflow_y": null,
            "padding": null,
            "right": null,
            "top": null,
            "visibility": null,
            "width": null
          }
        },
        "121c0b429c4649649ed3da1751f3267b": {
          "model_module": "@jupyter-widgets/base",
          "model_name": "LayoutModel",
          "model_module_version": "1.2.0",
          "state": {
            "_model_module": "@jupyter-widgets/base",
            "_model_module_version": "1.2.0",
            "_model_name": "LayoutModel",
            "_view_count": null,
            "_view_module": "@jupyter-widgets/base",
            "_view_module_version": "1.2.0",
            "_view_name": "LayoutView",
            "align_content": null,
            "align_items": null,
            "align_self": null,
            "border": null,
            "bottom": null,
            "display": null,
            "flex": null,
            "flex_flow": null,
            "grid_area": null,
            "grid_auto_columns": null,
            "grid_auto_flow": null,
            "grid_auto_rows": null,
            "grid_column": null,
            "grid_gap": null,
            "grid_row": null,
            "grid_template_areas": null,
            "grid_template_columns": null,
            "grid_template_rows": null,
            "height": null,
            "justify_content": null,
            "justify_items": null,
            "left": null,
            "margin": null,
            "max_height": null,
            "max_width": null,
            "min_height": null,
            "min_width": null,
            "object_fit": null,
            "object_position": null,
            "order": null,
            "overflow": null,
            "overflow_x": null,
            "overflow_y": null,
            "padding": null,
            "right": null,
            "top": null,
            "visibility": null,
            "width": null
          }
        },
        "e48b47754763445899304d1bf93a8238": {
          "model_module": "@jupyter-widgets/controls",
          "model_name": "DescriptionStyleModel",
          "model_module_version": "1.5.0",
          "state": {
            "_model_module": "@jupyter-widgets/controls",
            "_model_module_version": "1.5.0",
            "_model_name": "DescriptionStyleModel",
            "_view_count": null,
            "_view_module": "@jupyter-widgets/base",
            "_view_module_version": "1.2.0",
            "_view_name": "StyleView",
            "description_width": ""
          }
        },
        "a9eecd6d8f13443f93e253dcfad590f5": {
          "model_module": "@jupyter-widgets/base",
          "model_name": "LayoutModel",
          "model_module_version": "1.2.0",
          "state": {
            "_model_module": "@jupyter-widgets/base",
            "_model_module_version": "1.2.0",
            "_model_name": "LayoutModel",
            "_view_count": null,
            "_view_module": "@jupyter-widgets/base",
            "_view_module_version": "1.2.0",
            "_view_name": "LayoutView",
            "align_content": null,
            "align_items": null,
            "align_self": null,
            "border": null,
            "bottom": null,
            "display": null,
            "flex": null,
            "flex_flow": null,
            "grid_area": null,
            "grid_auto_columns": null,
            "grid_auto_flow": null,
            "grid_auto_rows": null,
            "grid_column": null,
            "grid_gap": null,
            "grid_row": null,
            "grid_template_areas": null,
            "grid_template_columns": null,
            "grid_template_rows": null,
            "height": null,
            "justify_content": null,
            "justify_items": null,
            "left": null,
            "margin": null,
            "max_height": null,
            "max_width": null,
            "min_height": null,
            "min_width": null,
            "object_fit": null,
            "object_position": null,
            "order": null,
            "overflow": null,
            "overflow_x": null,
            "overflow_y": null,
            "padding": null,
            "right": null,
            "top": null,
            "visibility": null,
            "width": "20px"
          }
        },
        "ed4c05b3b17d486a85a4037053f1d89c": {
          "model_module": "@jupyter-widgets/controls",
          "model_name": "ProgressStyleModel",
          "model_module_version": "1.5.0",
          "state": {
            "_model_module": "@jupyter-widgets/controls",
            "_model_module_version": "1.5.0",
            "_model_name": "ProgressStyleModel",
            "_view_count": null,
            "_view_module": "@jupyter-widgets/base",
            "_view_module_version": "1.2.0",
            "_view_name": "StyleView",
            "bar_color": null,
            "description_width": ""
          }
        },
        "5866d882eadc47fcbede00a25663179c": {
          "model_module": "@jupyter-widgets/base",
          "model_name": "LayoutModel",
          "model_module_version": "1.2.0",
          "state": {
            "_model_module": "@jupyter-widgets/base",
            "_model_module_version": "1.2.0",
            "_model_name": "LayoutModel",
            "_view_count": null,
            "_view_module": "@jupyter-widgets/base",
            "_view_module_version": "1.2.0",
            "_view_name": "LayoutView",
            "align_content": null,
            "align_items": null,
            "align_self": null,
            "border": null,
            "bottom": null,
            "display": null,
            "flex": null,
            "flex_flow": null,
            "grid_area": null,
            "grid_auto_columns": null,
            "grid_auto_flow": null,
            "grid_auto_rows": null,
            "grid_column": null,
            "grid_gap": null,
            "grid_row": null,
            "grid_template_areas": null,
            "grid_template_columns": null,
            "grid_template_rows": null,
            "height": null,
            "justify_content": null,
            "justify_items": null,
            "left": null,
            "margin": null,
            "max_height": null,
            "max_width": null,
            "min_height": null,
            "min_width": null,
            "object_fit": null,
            "object_position": null,
            "order": null,
            "overflow": null,
            "overflow_x": null,
            "overflow_y": null,
            "padding": null,
            "right": null,
            "top": null,
            "visibility": null,
            "width": null
          }
        },
        "4afb159cceea493fa1caed20e08fc140": {
          "model_module": "@jupyter-widgets/controls",
          "model_name": "DescriptionStyleModel",
          "model_module_version": "1.5.0",
          "state": {
            "_model_module": "@jupyter-widgets/controls",
            "_model_module_version": "1.5.0",
            "_model_name": "DescriptionStyleModel",
            "_view_count": null,
            "_view_module": "@jupyter-widgets/base",
            "_view_module_version": "1.2.0",
            "_view_name": "StyleView",
            "description_width": ""
          }
        },
        "a252f9d3a6cc4404983cd65a044bd7a9": {
          "model_module": "@jupyter-widgets/controls",
          "model_name": "HBoxModel",
          "model_module_version": "1.5.0",
          "state": {
            "_dom_classes": [],
            "_model_module": "@jupyter-widgets/controls",
            "_model_module_version": "1.5.0",
            "_model_name": "HBoxModel",
            "_view_count": null,
            "_view_module": "@jupyter-widgets/controls",
            "_view_module_version": "1.5.0",
            "_view_name": "HBoxView",
            "box_style": "",
            "children": [
              "IPY_MODEL_0932275dff554e72a3776f46a8024b5e",
              "IPY_MODEL_3a242fd816aa4241879eeb8521e09cce",
              "IPY_MODEL_ebb935fc0a2240438e29f9eec05738d0"
            ],
            "layout": "IPY_MODEL_34500a5d46b247e8a313086ba22edb9d"
          }
        },
        "0932275dff554e72a3776f46a8024b5e": {
          "model_module": "@jupyter-widgets/controls",
          "model_name": "HTMLModel",
          "model_module_version": "1.5.0",
          "state": {
            "_dom_classes": [],
            "_model_module": "@jupyter-widgets/controls",
            "_model_module_version": "1.5.0",
            "_model_name": "HTMLModel",
            "_view_count": null,
            "_view_module": "@jupyter-widgets/controls",
            "_view_module_version": "1.5.0",
            "_view_name": "HTMLView",
            "description": "",
            "description_tooltip": null,
            "layout": "IPY_MODEL_9d54486388be43bcab4d205409d54b76",
            "placeholder": "​",
            "style": "IPY_MODEL_5153cec390c34ac9a513a509a32c791c",
            "value": "Generating splits...: 100%"
          }
        },
        "3a242fd816aa4241879eeb8521e09cce": {
          "model_module": "@jupyter-widgets/controls",
          "model_name": "FloatProgressModel",
          "model_module_version": "1.5.0",
          "state": {
            "_dom_classes": [],
            "_model_module": "@jupyter-widgets/controls",
            "_model_module_version": "1.5.0",
            "_model_name": "FloatProgressModel",
            "_view_count": null,
            "_view_module": "@jupyter-widgets/controls",
            "_view_module_version": "1.5.0",
            "_view_name": "ProgressView",
            "bar_style": "",
            "description": "",
            "description_tooltip": null,
            "layout": "IPY_MODEL_935c144c724544f483d8389ee34a2b1f",
            "max": 1,
            "min": 0,
            "orientation": "horizontal",
            "style": "IPY_MODEL_f99f7646e1b8465a970773dffe13471f",
            "value": 1
          }
        },
        "ebb935fc0a2240438e29f9eec05738d0": {
          "model_module": "@jupyter-widgets/controls",
          "model_name": "HTMLModel",
          "model_module_version": "1.5.0",
          "state": {
            "_dom_classes": [],
            "_model_module": "@jupyter-widgets/controls",
            "_model_module_version": "1.5.0",
            "_model_name": "HTMLModel",
            "_view_count": null,
            "_view_module": "@jupyter-widgets/controls",
            "_view_module_version": "1.5.0",
            "_view_name": "HTMLView",
            "description": "",
            "description_tooltip": null,
            "layout": "IPY_MODEL_e7c932f2bc854467ba395626234d761e",
            "placeholder": "​",
            "style": "IPY_MODEL_ff76822e918c40bdbd19856c08123208",
            "value": " 1/1 [00:06&lt;00:00,  6.46s/ splits]"
          }
        },
        "34500a5d46b247e8a313086ba22edb9d": {
          "model_module": "@jupyter-widgets/base",
          "model_name": "LayoutModel",
          "model_module_version": "1.2.0",
          "state": {
            "_model_module": "@jupyter-widgets/base",
            "_model_module_version": "1.2.0",
            "_model_name": "LayoutModel",
            "_view_count": null,
            "_view_module": "@jupyter-widgets/base",
            "_view_module_version": "1.2.0",
            "_view_name": "LayoutView",
            "align_content": null,
            "align_items": null,
            "align_self": null,
            "border": null,
            "bottom": null,
            "display": null,
            "flex": null,
            "flex_flow": null,
            "grid_area": null,
            "grid_auto_columns": null,
            "grid_auto_flow": null,
            "grid_auto_rows": null,
            "grid_column": null,
            "grid_gap": null,
            "grid_row": null,
            "grid_template_areas": null,
            "grid_template_columns": null,
            "grid_template_rows": null,
            "height": null,
            "justify_content": null,
            "justify_items": null,
            "left": null,
            "margin": null,
            "max_height": null,
            "max_width": null,
            "min_height": null,
            "min_width": null,
            "object_fit": null,
            "object_position": null,
            "order": null,
            "overflow": null,
            "overflow_x": null,
            "overflow_y": null,
            "padding": null,
            "right": null,
            "top": null,
            "visibility": "hidden",
            "width": null
          }
        },
        "9d54486388be43bcab4d205409d54b76": {
          "model_module": "@jupyter-widgets/base",
          "model_name": "LayoutModel",
          "model_module_version": "1.2.0",
          "state": {
            "_model_module": "@jupyter-widgets/base",
            "_model_module_version": "1.2.0",
            "_model_name": "LayoutModel",
            "_view_count": null,
            "_view_module": "@jupyter-widgets/base",
            "_view_module_version": "1.2.0",
            "_view_name": "LayoutView",
            "align_content": null,
            "align_items": null,
            "align_self": null,
            "border": null,
            "bottom": null,
            "display": null,
            "flex": null,
            "flex_flow": null,
            "grid_area": null,
            "grid_auto_columns": null,
            "grid_auto_flow": null,
            "grid_auto_rows": null,
            "grid_column": null,
            "grid_gap": null,
            "grid_row": null,
            "grid_template_areas": null,
            "grid_template_columns": null,
            "grid_template_rows": null,
            "height": null,
            "justify_content": null,
            "justify_items": null,
            "left": null,
            "margin": null,
            "max_height": null,
            "max_width": null,
            "min_height": null,
            "min_width": null,
            "object_fit": null,
            "object_position": null,
            "order": null,
            "overflow": null,
            "overflow_x": null,
            "overflow_y": null,
            "padding": null,
            "right": null,
            "top": null,
            "visibility": null,
            "width": null
          }
        },
        "5153cec390c34ac9a513a509a32c791c": {
          "model_module": "@jupyter-widgets/controls",
          "model_name": "DescriptionStyleModel",
          "model_module_version": "1.5.0",
          "state": {
            "_model_module": "@jupyter-widgets/controls",
            "_model_module_version": "1.5.0",
            "_model_name": "DescriptionStyleModel",
            "_view_count": null,
            "_view_module": "@jupyter-widgets/base",
            "_view_module_version": "1.2.0",
            "_view_name": "StyleView",
            "description_width": ""
          }
        },
        "935c144c724544f483d8389ee34a2b1f": {
          "model_module": "@jupyter-widgets/base",
          "model_name": "LayoutModel",
          "model_module_version": "1.2.0",
          "state": {
            "_model_module": "@jupyter-widgets/base",
            "_model_module_version": "1.2.0",
            "_model_name": "LayoutModel",
            "_view_count": null,
            "_view_module": "@jupyter-widgets/base",
            "_view_module_version": "1.2.0",
            "_view_name": "LayoutView",
            "align_content": null,
            "align_items": null,
            "align_self": null,
            "border": null,
            "bottom": null,
            "display": null,
            "flex": null,
            "flex_flow": null,
            "grid_area": null,
            "grid_auto_columns": null,
            "grid_auto_flow": null,
            "grid_auto_rows": null,
            "grid_column": null,
            "grid_gap": null,
            "grid_row": null,
            "grid_template_areas": null,
            "grid_template_columns": null,
            "grid_template_rows": null,
            "height": null,
            "justify_content": null,
            "justify_items": null,
            "left": null,
            "margin": null,
            "max_height": null,
            "max_width": null,
            "min_height": null,
            "min_width": null,
            "object_fit": null,
            "object_position": null,
            "order": null,
            "overflow": null,
            "overflow_x": null,
            "overflow_y": null,
            "padding": null,
            "right": null,
            "top": null,
            "visibility": null,
            "width": null
          }
        },
        "f99f7646e1b8465a970773dffe13471f": {
          "model_module": "@jupyter-widgets/controls",
          "model_name": "ProgressStyleModel",
          "model_module_version": "1.5.0",
          "state": {
            "_model_module": "@jupyter-widgets/controls",
            "_model_module_version": "1.5.0",
            "_model_name": "ProgressStyleModel",
            "_view_count": null,
            "_view_module": "@jupyter-widgets/base",
            "_view_module_version": "1.2.0",
            "_view_name": "StyleView",
            "bar_color": null,
            "description_width": ""
          }
        },
        "e7c932f2bc854467ba395626234d761e": {
          "model_module": "@jupyter-widgets/base",
          "model_name": "LayoutModel",
          "model_module_version": "1.2.0",
          "state": {
            "_model_module": "@jupyter-widgets/base",
            "_model_module_version": "1.2.0",
            "_model_name": "LayoutModel",
            "_view_count": null,
            "_view_module": "@jupyter-widgets/base",
            "_view_module_version": "1.2.0",
            "_view_name": "LayoutView",
            "align_content": null,
            "align_items": null,
            "align_self": null,
            "border": null,
            "bottom": null,
            "display": null,
            "flex": null,
            "flex_flow": null,
            "grid_area": null,
            "grid_auto_columns": null,
            "grid_auto_flow": null,
            "grid_auto_rows": null,
            "grid_column": null,
            "grid_gap": null,
            "grid_row": null,
            "grid_template_areas": null,
            "grid_template_columns": null,
            "grid_template_rows": null,
            "height": null,
            "justify_content": null,
            "justify_items": null,
            "left": null,
            "margin": null,
            "max_height": null,
            "max_width": null,
            "min_height": null,
            "min_width": null,
            "object_fit": null,
            "object_position": null,
            "order": null,
            "overflow": null,
            "overflow_x": null,
            "overflow_y": null,
            "padding": null,
            "right": null,
            "top": null,
            "visibility": null,
            "width": null
          }
        },
        "ff76822e918c40bdbd19856c08123208": {
          "model_module": "@jupyter-widgets/controls",
          "model_name": "DescriptionStyleModel",
          "model_module_version": "1.5.0",
          "state": {
            "_model_module": "@jupyter-widgets/controls",
            "_model_module_version": "1.5.0",
            "_model_name": "DescriptionStyleModel",
            "_view_count": null,
            "_view_module": "@jupyter-widgets/base",
            "_view_module_version": "1.2.0",
            "_view_name": "StyleView",
            "description_width": ""
          }
        },
        "22332bf3732c4819b786cc8cad30a82b": {
          "model_module": "@jupyter-widgets/controls",
          "model_name": "HBoxModel",
          "model_module_version": "1.5.0",
          "state": {
            "_dom_classes": [],
            "_model_module": "@jupyter-widgets/controls",
            "_model_module_version": "1.5.0",
            "_model_name": "HBoxModel",
            "_view_count": null,
            "_view_module": "@jupyter-widgets/controls",
            "_view_module_version": "1.5.0",
            "_view_name": "HBoxView",
            "box_style": "",
            "children": [
              "IPY_MODEL_7dce7c40ae584b0b92a1b925d54f706c",
              "IPY_MODEL_86611524f64142b18875bc4a871d4043",
              "IPY_MODEL_ed8b29fb59c341af98c41e042e02b87a"
            ],
            "layout": "IPY_MODEL_13f84e91b67744f69b1bbdba047093a6"
          }
        },
        "7dce7c40ae584b0b92a1b925d54f706c": {
          "model_module": "@jupyter-widgets/controls",
          "model_name": "HTMLModel",
          "model_module_version": "1.5.0",
          "state": {
            "_dom_classes": [],
            "_model_module": "@jupyter-widgets/controls",
            "_model_module_version": "1.5.0",
            "_model_name": "HTMLModel",
            "_view_count": null,
            "_view_module": "@jupyter-widgets/controls",
            "_view_module_version": "1.5.0",
            "_view_name": "HTMLView",
            "description": "",
            "description_tooltip": null,
            "layout": "IPY_MODEL_f3b05a04787b4953b530e7b664f3b681",
            "placeholder": "​",
            "style": "IPY_MODEL_4b56dd971ce5415e9a7fb4aa0720beb2",
            "value": "Generating train examples...:  95%"
          }
        },
        "86611524f64142b18875bc4a871d4043": {
          "model_module": "@jupyter-widgets/controls",
          "model_name": "FloatProgressModel",
          "model_module_version": "1.5.0",
          "state": {
            "_dom_classes": [],
            "_model_module": "@jupyter-widgets/controls",
            "_model_module_version": "1.5.0",
            "_model_name": "FloatProgressModel",
            "_view_count": null,
            "_view_module": "@jupyter-widgets/controls",
            "_view_module_version": "1.5.0",
            "_view_name": "ProgressView",
            "bar_style": "",
            "description": "",
            "description_tooltip": null,
            "layout": "IPY_MODEL_20973d9180eb418e8f2da11578773226",
            "max": 2500,
            "min": 0,
            "orientation": "horizontal",
            "style": "IPY_MODEL_d26e73c4dbae4f398d39b0e0476050d0",
            "value": 2500
          }
        },
        "ed8b29fb59c341af98c41e042e02b87a": {
          "model_module": "@jupyter-widgets/controls",
          "model_name": "HTMLModel",
          "model_module_version": "1.5.0",
          "state": {
            "_dom_classes": [],
            "_model_module": "@jupyter-widgets/controls",
            "_model_module_version": "1.5.0",
            "_model_name": "HTMLModel",
            "_view_count": null,
            "_view_module": "@jupyter-widgets/controls",
            "_view_module_version": "1.5.0",
            "_view_name": "HTMLView",
            "description": "",
            "description_tooltip": null,
            "layout": "IPY_MODEL_0f6fcf82613e49908e1e0f4d52579dcb",
            "placeholder": "​",
            "style": "IPY_MODEL_8bf21ceb95a04e39bf267349b2be862e",
            "value": " 2380/2500 [00:06&lt;00:00, 403.91 examples/s]"
          }
        },
        "13f84e91b67744f69b1bbdba047093a6": {
          "model_module": "@jupyter-widgets/base",
          "model_name": "LayoutModel",
          "model_module_version": "1.2.0",
          "state": {
            "_model_module": "@jupyter-widgets/base",
            "_model_module_version": "1.2.0",
            "_model_name": "LayoutModel",
            "_view_count": null,
            "_view_module": "@jupyter-widgets/base",
            "_view_module_version": "1.2.0",
            "_view_name": "LayoutView",
            "align_content": null,
            "align_items": null,
            "align_self": null,
            "border": null,
            "bottom": null,
            "display": null,
            "flex": null,
            "flex_flow": null,
            "grid_area": null,
            "grid_auto_columns": null,
            "grid_auto_flow": null,
            "grid_auto_rows": null,
            "grid_column": null,
            "grid_gap": null,
            "grid_row": null,
            "grid_template_areas": null,
            "grid_template_columns": null,
            "grid_template_rows": null,
            "height": null,
            "justify_content": null,
            "justify_items": null,
            "left": null,
            "margin": null,
            "max_height": null,
            "max_width": null,
            "min_height": null,
            "min_width": null,
            "object_fit": null,
            "object_position": null,
            "order": null,
            "overflow": null,
            "overflow_x": null,
            "overflow_y": null,
            "padding": null,
            "right": null,
            "top": null,
            "visibility": "hidden",
            "width": null
          }
        },
        "f3b05a04787b4953b530e7b664f3b681": {
          "model_module": "@jupyter-widgets/base",
          "model_name": "LayoutModel",
          "model_module_version": "1.2.0",
          "state": {
            "_model_module": "@jupyter-widgets/base",
            "_model_module_version": "1.2.0",
            "_model_name": "LayoutModel",
            "_view_count": null,
            "_view_module": "@jupyter-widgets/base",
            "_view_module_version": "1.2.0",
            "_view_name": "LayoutView",
            "align_content": null,
            "align_items": null,
            "align_self": null,
            "border": null,
            "bottom": null,
            "display": null,
            "flex": null,
            "flex_flow": null,
            "grid_area": null,
            "grid_auto_columns": null,
            "grid_auto_flow": null,
            "grid_auto_rows": null,
            "grid_column": null,
            "grid_gap": null,
            "grid_row": null,
            "grid_template_areas": null,
            "grid_template_columns": null,
            "grid_template_rows": null,
            "height": null,
            "justify_content": null,
            "justify_items": null,
            "left": null,
            "margin": null,
            "max_height": null,
            "max_width": null,
            "min_height": null,
            "min_width": null,
            "object_fit": null,
            "object_position": null,
            "order": null,
            "overflow": null,
            "overflow_x": null,
            "overflow_y": null,
            "padding": null,
            "right": null,
            "top": null,
            "visibility": null,
            "width": null
          }
        },
        "4b56dd971ce5415e9a7fb4aa0720beb2": {
          "model_module": "@jupyter-widgets/controls",
          "model_name": "DescriptionStyleModel",
          "model_module_version": "1.5.0",
          "state": {
            "_model_module": "@jupyter-widgets/controls",
            "_model_module_version": "1.5.0",
            "_model_name": "DescriptionStyleModel",
            "_view_count": null,
            "_view_module": "@jupyter-widgets/base",
            "_view_module_version": "1.2.0",
            "_view_name": "StyleView",
            "description_width": ""
          }
        },
        "20973d9180eb418e8f2da11578773226": {
          "model_module": "@jupyter-widgets/base",
          "model_name": "LayoutModel",
          "model_module_version": "1.2.0",
          "state": {
            "_model_module": "@jupyter-widgets/base",
            "_model_module_version": "1.2.0",
            "_model_name": "LayoutModel",
            "_view_count": null,
            "_view_module": "@jupyter-widgets/base",
            "_view_module_version": "1.2.0",
            "_view_name": "LayoutView",
            "align_content": null,
            "align_items": null,
            "align_self": null,
            "border": null,
            "bottom": null,
            "display": null,
            "flex": null,
            "flex_flow": null,
            "grid_area": null,
            "grid_auto_columns": null,
            "grid_auto_flow": null,
            "grid_auto_rows": null,
            "grid_column": null,
            "grid_gap": null,
            "grid_row": null,
            "grid_template_areas": null,
            "grid_template_columns": null,
            "grid_template_rows": null,
            "height": null,
            "justify_content": null,
            "justify_items": null,
            "left": null,
            "margin": null,
            "max_height": null,
            "max_width": null,
            "min_height": null,
            "min_width": null,
            "object_fit": null,
            "object_position": null,
            "order": null,
            "overflow": null,
            "overflow_x": null,
            "overflow_y": null,
            "padding": null,
            "right": null,
            "top": null,
            "visibility": null,
            "width": null
          }
        },
        "d26e73c4dbae4f398d39b0e0476050d0": {
          "model_module": "@jupyter-widgets/controls",
          "model_name": "ProgressStyleModel",
          "model_module_version": "1.5.0",
          "state": {
            "_model_module": "@jupyter-widgets/controls",
            "_model_module_version": "1.5.0",
            "_model_name": "ProgressStyleModel",
            "_view_count": null,
            "_view_module": "@jupyter-widgets/base",
            "_view_module_version": "1.2.0",
            "_view_name": "StyleView",
            "bar_color": null,
            "description_width": ""
          }
        },
        "0f6fcf82613e49908e1e0f4d52579dcb": {
          "model_module": "@jupyter-widgets/base",
          "model_name": "LayoutModel",
          "model_module_version": "1.2.0",
          "state": {
            "_model_module": "@jupyter-widgets/base",
            "_model_module_version": "1.2.0",
            "_model_name": "LayoutModel",
            "_view_count": null,
            "_view_module": "@jupyter-widgets/base",
            "_view_module_version": "1.2.0",
            "_view_name": "LayoutView",
            "align_content": null,
            "align_items": null,
            "align_self": null,
            "border": null,
            "bottom": null,
            "display": null,
            "flex": null,
            "flex_flow": null,
            "grid_area": null,
            "grid_auto_columns": null,
            "grid_auto_flow": null,
            "grid_auto_rows": null,
            "grid_column": null,
            "grid_gap": null,
            "grid_row": null,
            "grid_template_areas": null,
            "grid_template_columns": null,
            "grid_template_rows": null,
            "height": null,
            "justify_content": null,
            "justify_items": null,
            "left": null,
            "margin": null,
            "max_height": null,
            "max_width": null,
            "min_height": null,
            "min_width": null,
            "object_fit": null,
            "object_position": null,
            "order": null,
            "overflow": null,
            "overflow_x": null,
            "overflow_y": null,
            "padding": null,
            "right": null,
            "top": null,
            "visibility": null,
            "width": null
          }
        },
        "8bf21ceb95a04e39bf267349b2be862e": {
          "model_module": "@jupyter-widgets/controls",
          "model_name": "DescriptionStyleModel",
          "model_module_version": "1.5.0",
          "state": {
            "_model_module": "@jupyter-widgets/controls",
            "_model_module_version": "1.5.0",
            "_model_name": "DescriptionStyleModel",
            "_view_count": null,
            "_view_module": "@jupyter-widgets/base",
            "_view_module_version": "1.2.0",
            "_view_name": "StyleView",
            "description_width": ""
          }
        },
        "438a0bca6948450c86ed09eb1e0e5b67": {
          "model_module": "@jupyter-widgets/controls",
          "model_name": "HBoxModel",
          "model_module_version": "1.5.0",
          "state": {
            "_dom_classes": [],
            "_model_module": "@jupyter-widgets/controls",
            "_model_module_version": "1.5.0",
            "_model_name": "HBoxModel",
            "_view_count": null,
            "_view_module": "@jupyter-widgets/controls",
            "_view_module_version": "1.5.0",
            "_view_name": "HBoxView",
            "box_style": "",
            "children": [
              "IPY_MODEL_71b9ad5d0afe4e4c8a6cc25e4738feef",
              "IPY_MODEL_e7687d70c8864d7bb67873aaa2e8783a",
              "IPY_MODEL_f3d0364e663740059d66c775c911bc29"
            ],
            "layout": "IPY_MODEL_e288482916b44b12980bf2cf079df932"
          }
        },
        "71b9ad5d0afe4e4c8a6cc25e4738feef": {
          "model_module": "@jupyter-widgets/controls",
          "model_name": "HTMLModel",
          "model_module_version": "1.5.0",
          "state": {
            "_dom_classes": [],
            "_model_module": "@jupyter-widgets/controls",
            "_model_module_version": "1.5.0",
            "_model_name": "HTMLModel",
            "_view_count": null,
            "_view_module": "@jupyter-widgets/controls",
            "_view_module_version": "1.5.0",
            "_view_name": "HTMLView",
            "description": "",
            "description_tooltip": null,
            "layout": "IPY_MODEL_bb44fd5ea65f429a8e8b443d8962bfd8",
            "placeholder": "​",
            "style": "IPY_MODEL_518ae8e6e115408d8e28904bfc895a4d",
            "value": "Shuffling data/spoken_digit/spoken_digit/1.0.9.incomplete3ACBQE/spoken_digit-train.tfrecord*...:  83%"
          }
        },
        "e7687d70c8864d7bb67873aaa2e8783a": {
          "model_module": "@jupyter-widgets/controls",
          "model_name": "FloatProgressModel",
          "model_module_version": "1.5.0",
          "state": {
            "_dom_classes": [],
            "_model_module": "@jupyter-widgets/controls",
            "_model_module_version": "1.5.0",
            "_model_name": "FloatProgressModel",
            "_view_count": null,
            "_view_module": "@jupyter-widgets/controls",
            "_view_module_version": "1.5.0",
            "_view_name": "ProgressView",
            "bar_style": "",
            "description": "",
            "description_tooltip": null,
            "layout": "IPY_MODEL_5c48fd1ff6c94c9fa9cdd919c91cf4aa",
            "max": 2500,
            "min": 0,
            "orientation": "horizontal",
            "style": "IPY_MODEL_c5418ffdc5654ead8aedaf384d448403",
            "value": 2500
          }
        },
        "f3d0364e663740059d66c775c911bc29": {
          "model_module": "@jupyter-widgets/controls",
          "model_name": "HTMLModel",
          "model_module_version": "1.5.0",
          "state": {
            "_dom_classes": [],
            "_model_module": "@jupyter-widgets/controls",
            "_model_module_version": "1.5.0",
            "_model_name": "HTMLModel",
            "_view_count": null,
            "_view_module": "@jupyter-widgets/controls",
            "_view_module_version": "1.5.0",
            "_view_name": "HTMLView",
            "description": "",
            "description_tooltip": null,
            "layout": "IPY_MODEL_31e2eb1ad4e04ef78e56c7cfd4c37085",
            "placeholder": "​",
            "style": "IPY_MODEL_51053973478c4589a24d3064904e57c7",
            "value": " 2067/2500 [00:00&lt;00:00, 20663.47 examples/s]"
          }
        },
        "e288482916b44b12980bf2cf079df932": {
          "model_module": "@jupyter-widgets/base",
          "model_name": "LayoutModel",
          "model_module_version": "1.2.0",
          "state": {
            "_model_module": "@jupyter-widgets/base",
            "_model_module_version": "1.2.0",
            "_model_name": "LayoutModel",
            "_view_count": null,
            "_view_module": "@jupyter-widgets/base",
            "_view_module_version": "1.2.0",
            "_view_name": "LayoutView",
            "align_content": null,
            "align_items": null,
            "align_self": null,
            "border": null,
            "bottom": null,
            "display": null,
            "flex": null,
            "flex_flow": null,
            "grid_area": null,
            "grid_auto_columns": null,
            "grid_auto_flow": null,
            "grid_auto_rows": null,
            "grid_column": null,
            "grid_gap": null,
            "grid_row": null,
            "grid_template_areas": null,
            "grid_template_columns": null,
            "grid_template_rows": null,
            "height": null,
            "justify_content": null,
            "justify_items": null,
            "left": null,
            "margin": null,
            "max_height": null,
            "max_width": null,
            "min_height": null,
            "min_width": null,
            "object_fit": null,
            "object_position": null,
            "order": null,
            "overflow": null,
            "overflow_x": null,
            "overflow_y": null,
            "padding": null,
            "right": null,
            "top": null,
            "visibility": "hidden",
            "width": null
          }
        },
        "bb44fd5ea65f429a8e8b443d8962bfd8": {
          "model_module": "@jupyter-widgets/base",
          "model_name": "LayoutModel",
          "model_module_version": "1.2.0",
          "state": {
            "_model_module": "@jupyter-widgets/base",
            "_model_module_version": "1.2.0",
            "_model_name": "LayoutModel",
            "_view_count": null,
            "_view_module": "@jupyter-widgets/base",
            "_view_module_version": "1.2.0",
            "_view_name": "LayoutView",
            "align_content": null,
            "align_items": null,
            "align_self": null,
            "border": null,
            "bottom": null,
            "display": null,
            "flex": null,
            "flex_flow": null,
            "grid_area": null,
            "grid_auto_columns": null,
            "grid_auto_flow": null,
            "grid_auto_rows": null,
            "grid_column": null,
            "grid_gap": null,
            "grid_row": null,
            "grid_template_areas": null,
            "grid_template_columns": null,
            "grid_template_rows": null,
            "height": null,
            "justify_content": null,
            "justify_items": null,
            "left": null,
            "margin": null,
            "max_height": null,
            "max_width": null,
            "min_height": null,
            "min_width": null,
            "object_fit": null,
            "object_position": null,
            "order": null,
            "overflow": null,
            "overflow_x": null,
            "overflow_y": null,
            "padding": null,
            "right": null,
            "top": null,
            "visibility": null,
            "width": null
          }
        },
        "518ae8e6e115408d8e28904bfc895a4d": {
          "model_module": "@jupyter-widgets/controls",
          "model_name": "DescriptionStyleModel",
          "model_module_version": "1.5.0",
          "state": {
            "_model_module": "@jupyter-widgets/controls",
            "_model_module_version": "1.5.0",
            "_model_name": "DescriptionStyleModel",
            "_view_count": null,
            "_view_module": "@jupyter-widgets/base",
            "_view_module_version": "1.2.0",
            "_view_name": "StyleView",
            "description_width": ""
          }
        },
        "5c48fd1ff6c94c9fa9cdd919c91cf4aa": {
          "model_module": "@jupyter-widgets/base",
          "model_name": "LayoutModel",
          "model_module_version": "1.2.0",
          "state": {
            "_model_module": "@jupyter-widgets/base",
            "_model_module_version": "1.2.0",
            "_model_name": "LayoutModel",
            "_view_count": null,
            "_view_module": "@jupyter-widgets/base",
            "_view_module_version": "1.2.0",
            "_view_name": "LayoutView",
            "align_content": null,
            "align_items": null,
            "align_self": null,
            "border": null,
            "bottom": null,
            "display": null,
            "flex": null,
            "flex_flow": null,
            "grid_area": null,
            "grid_auto_columns": null,
            "grid_auto_flow": null,
            "grid_auto_rows": null,
            "grid_column": null,
            "grid_gap": null,
            "grid_row": null,
            "grid_template_areas": null,
            "grid_template_columns": null,
            "grid_template_rows": null,
            "height": null,
            "justify_content": null,
            "justify_items": null,
            "left": null,
            "margin": null,
            "max_height": null,
            "max_width": null,
            "min_height": null,
            "min_width": null,
            "object_fit": null,
            "object_position": null,
            "order": null,
            "overflow": null,
            "overflow_x": null,
            "overflow_y": null,
            "padding": null,
            "right": null,
            "top": null,
            "visibility": null,
            "width": null
          }
        },
        "c5418ffdc5654ead8aedaf384d448403": {
          "model_module": "@jupyter-widgets/controls",
          "model_name": "ProgressStyleModel",
          "model_module_version": "1.5.0",
          "state": {
            "_model_module": "@jupyter-widgets/controls",
            "_model_module_version": "1.5.0",
            "_model_name": "ProgressStyleModel",
            "_view_count": null,
            "_view_module": "@jupyter-widgets/base",
            "_view_module_version": "1.2.0",
            "_view_name": "StyleView",
            "bar_color": null,
            "description_width": ""
          }
        },
        "31e2eb1ad4e04ef78e56c7cfd4c37085": {
          "model_module": "@jupyter-widgets/base",
          "model_name": "LayoutModel",
          "model_module_version": "1.2.0",
          "state": {
            "_model_module": "@jupyter-widgets/base",
            "_model_module_version": "1.2.0",
            "_model_name": "LayoutModel",
            "_view_count": null,
            "_view_module": "@jupyter-widgets/base",
            "_view_module_version": "1.2.0",
            "_view_name": "LayoutView",
            "align_content": null,
            "align_items": null,
            "align_self": null,
            "border": null,
            "bottom": null,
            "display": null,
            "flex": null,
            "flex_flow": null,
            "grid_area": null,
            "grid_auto_columns": null,
            "grid_auto_flow": null,
            "grid_auto_rows": null,
            "grid_column": null,
            "grid_gap": null,
            "grid_row": null,
            "grid_template_areas": null,
            "grid_template_columns": null,
            "grid_template_rows": null,
            "height": null,
            "justify_content": null,
            "justify_items": null,
            "left": null,
            "margin": null,
            "max_height": null,
            "max_width": null,
            "min_height": null,
            "min_width": null,
            "object_fit": null,
            "object_position": null,
            "order": null,
            "overflow": null,
            "overflow_x": null,
            "overflow_y": null,
            "padding": null,
            "right": null,
            "top": null,
            "visibility": null,
            "width": null
          }
        },
        "51053973478c4589a24d3064904e57c7": {
          "model_module": "@jupyter-widgets/controls",
          "model_name": "DescriptionStyleModel",
          "model_module_version": "1.5.0",
          "state": {
            "_model_module": "@jupyter-widgets/controls",
            "_model_module_version": "1.5.0",
            "_model_name": "DescriptionStyleModel",
            "_view_count": null,
            "_view_module": "@jupyter-widgets/base",
            "_view_module_version": "1.2.0",
            "_view_name": "StyleView",
            "description_width": ""
          }
        }
      }
    }
  },
  "nbformat": 4,
  "nbformat_minor": 5
}